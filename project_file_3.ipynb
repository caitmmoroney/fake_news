{
 "cells": [
  {
   "cell_type": "markdown",
   "metadata": {},
   "source": [
    "# NLP Final Project - Sentiment Analysis & Topic Modeling Comparison"
   ]
  },
  {
   "cell_type": "markdown",
   "metadata": {},
   "source": [
    "# Summary\n",
    "\n",
    "Compute average sentiment scores using the Positiv and Negativ lists from the Harvard IV-4 dictionary. Additionally, test text vectorizing (tf-idf vectorizer) and topic modeling methods (LSA & NMF) to determine best combination and set of hyperparameters (n-gram range & number of topics) to use for training & testing classification models."
   ]
  },
  {
   "cell_type": "markdown",
   "metadata": {},
   "source": [
    "# Import Modules & Data"
   ]
  },
  {
   "cell_type": "code",
   "execution_count": 1,
   "metadata": {},
   "outputs": [],
   "source": [
    "import pandas as pd\n",
    "import re"
   ]
  },
  {
   "cell_type": "code",
   "execution_count": 2,
   "metadata": {
    "scrolled": true
   },
   "outputs": [
    {
     "data": {
      "text/html": [
       "<div>\n",
       "<style scoped>\n",
       "    .dataframe tbody tr th:only-of-type {\n",
       "        vertical-align: middle;\n",
       "    }\n",
       "\n",
       "    .dataframe tbody tr th {\n",
       "        vertical-align: top;\n",
       "    }\n",
       "\n",
       "    .dataframe thead th {\n",
       "        text-align: right;\n",
       "    }\n",
       "</style>\n",
       "<table border=\"1\" class=\"dataframe\">\n",
       "  <thead>\n",
       "    <tr style=\"text-align: right;\">\n",
       "      <th></th>\n",
       "      <th>news_source</th>\n",
       "      <th>pub_date</th>\n",
       "      <th>title</th>\n",
       "      <th>text</th>\n",
       "      <th>fake_news_binary</th>\n",
       "      <th>left_bias_avg</th>\n",
       "      <th>right_bias_avg</th>\n",
       "      <th>net_bias</th>\n",
       "      <th>fake_news_outlier</th>\n",
       "      <th>clean_txt</th>\n",
       "      <th>PoS_tags</th>\n",
       "    </tr>\n",
       "  </thead>\n",
       "  <tbody>\n",
       "    <tr>\n",
       "      <td>0</td>\n",
       "      <td>The Sun</td>\n",
       "      <td>2018-10-17</td>\n",
       "      <td>Who left Big Brother last week and whos still ...</td>\n",
       "      <td>THE last ever Big Brother is underway with a f...</td>\n",
       "      <td>0</td>\n",
       "      <td>0.00</td>\n",
       "      <td>1.0</td>\n",
       "      <td>1.00</td>\n",
       "      <td>1</td>\n",
       "      <td>last ever Big Brother be underway final batch ...</td>\n",
       "      <td>DT JJ RB JJ NN VBZ RB IN DT JJ NN IN NNS . IN ...</td>\n",
       "    </tr>\n",
       "    <tr>\n",
       "      <td>1</td>\n",
       "      <td>True Pundit</td>\n",
       "      <td>2018-02-08</td>\n",
       "      <td>I Have to Let Them in DHS Chief Reveals How MS...</td>\n",
       "      <td>During a White House roundtable discussion on ...</td>\n",
       "      <td>1</td>\n",
       "      <td>0.00</td>\n",
       "      <td>1.0</td>\n",
       "      <td>1.00</td>\n",
       "      <td>-1</td>\n",
       "      <td>White House roundtable discussion immigration ...</td>\n",
       "      <td>IN DT NNP NNP JJ NN IN NN CC NN NN , DT NN IN ...</td>\n",
       "    </tr>\n",
       "    <tr>\n",
       "      <td>2</td>\n",
       "      <td>The Daily Caller</td>\n",
       "      <td>2018-11-16</td>\n",
       "      <td>Trump Works On Mueller Answers Avoiding Perjur...</td>\n",
       "      <td>President Donald Trump is working on written a...</td>\n",
       "      <td>0</td>\n",
       "      <td>0.00</td>\n",
       "      <td>1.0</td>\n",
       "      <td>1.00</td>\n",
       "      <td>1</td>\n",
       "      <td>President Donald Trump be work write answer qu...</td>\n",
       "      <td>NNP NNP NN VBZ VBG IN VBN NNS TO NNS IN JJ NN ...</td>\n",
       "    </tr>\n",
       "    <tr>\n",
       "      <td>3</td>\n",
       "      <td>The Daily Caller</td>\n",
       "      <td>2018-08-28</td>\n",
       "      <td>McConnell Announces Bipartisan Senate Group Wi...</td>\n",
       "      <td>Senate Majority Leader Mitch McConnell announc...</td>\n",
       "      <td>0</td>\n",
       "      <td>0.00</td>\n",
       "      <td>1.0</td>\n",
       "      <td>1.00</td>\n",
       "      <td>1</td>\n",
       "      <td>Senate Majority Leader Mitch McConnell announc...</td>\n",
       "      <td>NNP NN NN NN NNP VBD DT NN NNP NN MD VB VBG RB...</td>\n",
       "    </tr>\n",
       "    <tr>\n",
       "      <td>4</td>\n",
       "      <td>BBC</td>\n",
       "      <td>2018-07-23</td>\n",
       "      <td>Why millions listen to this nine-year-old girl...</td>\n",
       "      <td>A scheme to let parents close their streets to...</td>\n",
       "      <td>0</td>\n",
       "      <td>0.25</td>\n",
       "      <td>0.0</td>\n",
       "      <td>-0.25</td>\n",
       "      <td>1</td>\n",
       "      <td>scheme let parent close street car so child ca...</td>\n",
       "      <td>DT NN TO VB NNS RB PRP$ NNS TO NNS RB NNS MD N...</td>\n",
       "    </tr>\n",
       "  </tbody>\n",
       "</table>\n",
       "</div>"
      ],
      "text/plain": [
       "        news_source    pub_date  \\\n",
       "0           The Sun  2018-10-17   \n",
       "1       True Pundit  2018-02-08   \n",
       "2  The Daily Caller  2018-11-16   \n",
       "3  The Daily Caller  2018-08-28   \n",
       "4               BBC  2018-07-23   \n",
       "\n",
       "                                               title  \\\n",
       "0  Who left Big Brother last week and whos still ...   \n",
       "1  I Have to Let Them in DHS Chief Reveals How MS...   \n",
       "2  Trump Works On Mueller Answers Avoiding Perjur...   \n",
       "3  McConnell Announces Bipartisan Senate Group Wi...   \n",
       "4  Why millions listen to this nine-year-old girl...   \n",
       "\n",
       "                                                text  fake_news_binary  \\\n",
       "0  THE last ever Big Brother is underway with a f...                 0   \n",
       "1  During a White House roundtable discussion on ...                 1   \n",
       "2  President Donald Trump is working on written a...                 0   \n",
       "3  Senate Majority Leader Mitch McConnell announc...                 0   \n",
       "4  A scheme to let parents close their streets to...                 0   \n",
       "\n",
       "   left_bias_avg  right_bias_avg  net_bias  fake_news_outlier  \\\n",
       "0           0.00             1.0      1.00                  1   \n",
       "1           0.00             1.0      1.00                 -1   \n",
       "2           0.00             1.0      1.00                  1   \n",
       "3           0.00             1.0      1.00                  1   \n",
       "4           0.25             0.0     -0.25                  1   \n",
       "\n",
       "                                           clean_txt  \\\n",
       "0  last ever Big Brother be underway final batch ...   \n",
       "1  White House roundtable discussion immigration ...   \n",
       "2  President Donald Trump be work write answer qu...   \n",
       "3  Senate Majority Leader Mitch McConnell announc...   \n",
       "4  scheme let parent close street car so child ca...   \n",
       "\n",
       "                                            PoS_tags  \n",
       "0  DT JJ RB JJ NN VBZ RB IN DT JJ NN IN NNS . IN ...  \n",
       "1  IN DT NNP NNP JJ NN IN NN CC NN NN , DT NN IN ...  \n",
       "2  NNP NNP NN VBZ VBG IN VBN NNS TO NNS IN JJ NN ...  \n",
       "3  NNP NN NN NN NNP VBD DT NN NNP NN MD VB VBG RB...  \n",
       "4  DT NN TO VB NNS RB PRP$ NNS TO NNS RB NNS MD N...  "
      ]
     },
     "execution_count": 2,
     "metadata": {},
     "output_type": "execute_result"
    }
   ],
   "source": [
    "articles = pd.read_csv('./articles_100K.csv', index_col = 0)\n",
    "articles.head()"
   ]
  },
  {
   "cell_type": "code",
   "execution_count": 3,
   "metadata": {},
   "outputs": [
    {
     "data": {
      "text/plain": [
       "100000"
      ]
     },
     "execution_count": 3,
     "metadata": {},
     "output_type": "execute_result"
    }
   ],
   "source": [
    "len(articles)"
   ]
  },
  {
   "cell_type": "code",
   "execution_count": 4,
   "metadata": {},
   "outputs": [
    {
     "data": {
      "text/plain": [
       "100000"
      ]
     },
     "execution_count": 4,
     "metadata": {},
     "output_type": "execute_result"
    }
   ],
   "source": [
    "# check to see whether there are any articles with null text, clean text, or PoS tags\n",
    "len(articles[articles['text'].notnull() & articles['clean_txt'].notnull() & articles['PoS_tags'].notnull()])"
   ]
  },
  {
   "cell_type": "code",
   "execution_count": 5,
   "metadata": {},
   "outputs": [
    {
     "data": {
      "text/plain": [
       "0    75072\n",
       "1    24928\n",
       "Name: fake_news_binary, dtype: int64"
      ]
     },
     "execution_count": 5,
     "metadata": {},
     "output_type": "execute_result"
    }
   ],
   "source": [
    "articles['fake_news_binary'].value_counts()"
   ]
  },
  {
   "cell_type": "markdown",
   "metadata": {},
   "source": [
    "## sentiment score"
   ]
  },
  {
   "cell_type": "code",
   "execution_count": 6,
   "metadata": {},
   "outputs": [
    {
     "data": {
      "text/html": [
       "<div>\n",
       "<style scoped>\n",
       "    .dataframe tbody tr th:only-of-type {\n",
       "        vertical-align: middle;\n",
       "    }\n",
       "\n",
       "    .dataframe tbody tr th {\n",
       "        vertical-align: top;\n",
       "    }\n",
       "\n",
       "    .dataframe thead th {\n",
       "        text-align: right;\n",
       "    }\n",
       "</style>\n",
       "<table border=\"1\" class=\"dataframe\">\n",
       "  <thead>\n",
       "    <tr style=\"text-align: right;\">\n",
       "      <th></th>\n",
       "      <th>Entry</th>\n",
       "      <th>Source</th>\n",
       "      <th>Positiv</th>\n",
       "      <th>Negativ</th>\n",
       "      <th>Pstv</th>\n",
       "      <th>Affil</th>\n",
       "      <th>Ngtv</th>\n",
       "      <th>Hostile</th>\n",
       "      <th>Strong</th>\n",
       "      <th>Power</th>\n",
       "      <th>...</th>\n",
       "      <th>Anomie</th>\n",
       "      <th>NegAff</th>\n",
       "      <th>PosAff</th>\n",
       "      <th>SureLw</th>\n",
       "      <th>If</th>\n",
       "      <th>NotLw</th>\n",
       "      <th>TimeSpc</th>\n",
       "      <th>FormLw</th>\n",
       "      <th>Othrtags</th>\n",
       "      <th>Defined</th>\n",
       "    </tr>\n",
       "  </thead>\n",
       "  <tbody>\n",
       "    <tr>\n",
       "      <td>0</td>\n",
       "      <td>NaN</td>\n",
       "      <td>NaN</td>\n",
       "      <td>1915</td>\n",
       "      <td>2291</td>\n",
       "      <td>1045</td>\n",
       "      <td>557</td>\n",
       "      <td>1160</td>\n",
       "      <td>833</td>\n",
       "      <td>1902</td>\n",
       "      <td>689</td>\n",
       "      <td>...</td>\n",
       "      <td>30</td>\n",
       "      <td>193</td>\n",
       "      <td>126</td>\n",
       "      <td>175</td>\n",
       "      <td>132</td>\n",
       "      <td>25</td>\n",
       "      <td>428</td>\n",
       "      <td>368</td>\n",
       "      <td>NaN</td>\n",
       "      <td>NaN</td>\n",
       "    </tr>\n",
       "    <tr>\n",
       "      <td>1</td>\n",
       "      <td>A</td>\n",
       "      <td>H4Lvd</td>\n",
       "      <td>NaN</td>\n",
       "      <td>NaN</td>\n",
       "      <td>NaN</td>\n",
       "      <td>NaN</td>\n",
       "      <td>NaN</td>\n",
       "      <td>NaN</td>\n",
       "      <td>NaN</td>\n",
       "      <td>NaN</td>\n",
       "      <td>...</td>\n",
       "      <td>NaN</td>\n",
       "      <td>NaN</td>\n",
       "      <td>NaN</td>\n",
       "      <td>NaN</td>\n",
       "      <td>NaN</td>\n",
       "      <td>NaN</td>\n",
       "      <td>NaN</td>\n",
       "      <td>NaN</td>\n",
       "      <td>DET ART</td>\n",
       "      <td>| article: Indefinite singular article--some o...</td>\n",
       "    </tr>\n",
       "    <tr>\n",
       "      <td>2</td>\n",
       "      <td>ABANDON</td>\n",
       "      <td>H4Lvd</td>\n",
       "      <td>NaN</td>\n",
       "      <td>Negativ</td>\n",
       "      <td>NaN</td>\n",
       "      <td>NaN</td>\n",
       "      <td>Ngtv</td>\n",
       "      <td>NaN</td>\n",
       "      <td>NaN</td>\n",
       "      <td>NaN</td>\n",
       "      <td>...</td>\n",
       "      <td>NaN</td>\n",
       "      <td>NaN</td>\n",
       "      <td>NaN</td>\n",
       "      <td>NaN</td>\n",
       "      <td>NaN</td>\n",
       "      <td>NaN</td>\n",
       "      <td>NaN</td>\n",
       "      <td>NaN</td>\n",
       "      <td>SUPV</td>\n",
       "      <td>|</td>\n",
       "    </tr>\n",
       "    <tr>\n",
       "      <td>3</td>\n",
       "      <td>ABANDONMENT</td>\n",
       "      <td>H4</td>\n",
       "      <td>NaN</td>\n",
       "      <td>Negativ</td>\n",
       "      <td>NaN</td>\n",
       "      <td>NaN</td>\n",
       "      <td>NaN</td>\n",
       "      <td>NaN</td>\n",
       "      <td>NaN</td>\n",
       "      <td>NaN</td>\n",
       "      <td>...</td>\n",
       "      <td>NaN</td>\n",
       "      <td>NaN</td>\n",
       "      <td>NaN</td>\n",
       "      <td>NaN</td>\n",
       "      <td>NaN</td>\n",
       "      <td>NaN</td>\n",
       "      <td>NaN</td>\n",
       "      <td>NaN</td>\n",
       "      <td>Noun</td>\n",
       "      <td>|</td>\n",
       "    </tr>\n",
       "    <tr>\n",
       "      <td>4</td>\n",
       "      <td>ABATE</td>\n",
       "      <td>H4Lvd</td>\n",
       "      <td>NaN</td>\n",
       "      <td>Negativ</td>\n",
       "      <td>NaN</td>\n",
       "      <td>NaN</td>\n",
       "      <td>NaN</td>\n",
       "      <td>NaN</td>\n",
       "      <td>NaN</td>\n",
       "      <td>NaN</td>\n",
       "      <td>...</td>\n",
       "      <td>NaN</td>\n",
       "      <td>NaN</td>\n",
       "      <td>NaN</td>\n",
       "      <td>NaN</td>\n",
       "      <td>NaN</td>\n",
       "      <td>NaN</td>\n",
       "      <td>NaN</td>\n",
       "      <td>NaN</td>\n",
       "      <td>SUPV</td>\n",
       "      <td>|</td>\n",
       "    </tr>\n",
       "  </tbody>\n",
       "</table>\n",
       "<p>5 rows × 186 columns</p>\n",
       "</div>"
      ],
      "text/plain": [
       "         Entry Source Positiv  Negativ  Pstv Affil  Ngtv Hostile Strong Power  \\\n",
       "0          NaN    NaN    1915     2291  1045   557  1160     833   1902   689   \n",
       "1            A  H4Lvd     NaN      NaN   NaN   NaN   NaN     NaN    NaN   NaN   \n",
       "2      ABANDON  H4Lvd     NaN  Negativ   NaN   NaN  Ngtv     NaN    NaN   NaN   \n",
       "3  ABANDONMENT     H4     NaN  Negativ   NaN   NaN   NaN     NaN    NaN   NaN   \n",
       "4        ABATE  H4Lvd     NaN  Negativ   NaN   NaN   NaN     NaN    NaN   NaN   \n",
       "\n",
       "   ... Anomie NegAff PosAff SureLw   If NotLw TimeSpc FormLw Othrtags  \\\n",
       "0  ...     30    193    126    175  132    25     428    368      NaN   \n",
       "1  ...    NaN    NaN    NaN    NaN  NaN   NaN     NaN    NaN  DET ART   \n",
       "2  ...    NaN    NaN    NaN    NaN  NaN   NaN     NaN    NaN     SUPV   \n",
       "3  ...    NaN    NaN    NaN    NaN  NaN   NaN     NaN    NaN     Noun   \n",
       "4  ...    NaN    NaN    NaN    NaN  NaN   NaN     NaN    NaN     SUPV   \n",
       "\n",
       "                                             Defined  \n",
       "0                                                NaN  \n",
       "1  | article: Indefinite singular article--some o...  \n",
       "2                                                  |  \n",
       "3                                                  |  \n",
       "4                                                  |  \n",
       "\n",
       "[5 rows x 186 columns]"
      ]
     },
     "execution_count": 6,
     "metadata": {},
     "output_type": "execute_result"
    }
   ],
   "source": [
    "hi4_df = pd.read_excel('inquireraugmented.xls')\n",
    "hi4_df.head()"
   ]
  },
  {
   "cell_type": "code",
   "execution_count": 7,
   "metadata": {},
   "outputs": [],
   "source": [
    "pos_df = hi4_df[hi4_df.Positiv==\"Positiv\"]\n",
    "neg_df = hi4_df[hi4_df.Negativ ==\"Negativ\"]"
   ]
  },
  {
   "cell_type": "code",
   "execution_count": 8,
   "metadata": {},
   "outputs": [],
   "source": [
    "pos_list = pos_df['Entry'].tolist()\n",
    "neg_list = neg_df['Entry'].tolist()"
   ]
  },
  {
   "cell_type": "code",
   "execution_count": 9,
   "metadata": {},
   "outputs": [],
   "source": [
    "pos_word = [ ]\n",
    "for i in range(0, len(pos_list)):\n",
    "    pos_word.append( re.sub(r'[^A-Z]', \"\", pos_list[i]))\n",
    "pos_word=set(pos_word)"
   ]
  },
  {
   "cell_type": "code",
   "execution_count": 10,
   "metadata": {},
   "outputs": [],
   "source": [
    "neg_word = [ ]\n",
    "for i in range(0, len(neg_list)):\n",
    "    neg_word.append( re.sub(r'[^A-Z]', \"\",str(neg_list[i]))) \n",
    "neg_word=set(neg_word)"
   ]
  },
  {
   "cell_type": "code",
   "execution_count": 11,
   "metadata": {},
   "outputs": [],
   "source": [
    "def sentiment_scorer(text_input, in_list):\n",
    "    words_set = set(in_list)\n",
    "    text_input = text_input.upper().split(' ')\n",
    "    score = 0\n",
    "    for i in text_input:\n",
    "        if i in words_set:\n",
    "            score += 1\n",
    "    score = score/len(text_input)\n",
    "    return(score)"
   ]
  },
  {
   "cell_type": "code",
   "execution_count": 12,
   "metadata": {},
   "outputs": [],
   "source": [
    "articles['pos_sent']=articles['clean_txt'].apply(lambda x: sentiment_scorer(x, pos_word))"
   ]
  },
  {
   "cell_type": "code",
   "execution_count": 13,
   "metadata": {},
   "outputs": [],
   "source": [
    "articles['neg_sent']=articles['clean_txt'].apply(lambda x: sentiment_scorer(x, neg_word))"
   ]
  },
  {
   "cell_type": "code",
   "execution_count": 14,
   "metadata": {},
   "outputs": [
    {
     "data": {
      "text/html": [
       "<div>\n",
       "<style scoped>\n",
       "    .dataframe tbody tr th:only-of-type {\n",
       "        vertical-align: middle;\n",
       "    }\n",
       "\n",
       "    .dataframe tbody tr th {\n",
       "        vertical-align: top;\n",
       "    }\n",
       "\n",
       "    .dataframe thead th {\n",
       "        text-align: right;\n",
       "    }\n",
       "</style>\n",
       "<table border=\"1\" class=\"dataframe\">\n",
       "  <thead>\n",
       "    <tr style=\"text-align: right;\">\n",
       "      <th></th>\n",
       "      <th>news_source</th>\n",
       "      <th>pub_date</th>\n",
       "      <th>title</th>\n",
       "      <th>text</th>\n",
       "      <th>fake_news_binary</th>\n",
       "      <th>left_bias_avg</th>\n",
       "      <th>right_bias_avg</th>\n",
       "      <th>net_bias</th>\n",
       "      <th>fake_news_outlier</th>\n",
       "      <th>clean_txt</th>\n",
       "      <th>PoS_tags</th>\n",
       "      <th>pos_sent</th>\n",
       "      <th>neg_sent</th>\n",
       "      <th>net_sent</th>\n",
       "    </tr>\n",
       "  </thead>\n",
       "  <tbody>\n",
       "    <tr>\n",
       "      <td>0</td>\n",
       "      <td>The Sun</td>\n",
       "      <td>2018-10-17</td>\n",
       "      <td>Who left Big Brother last week and whos still ...</td>\n",
       "      <td>THE last ever Big Brother is underway with a f...</td>\n",
       "      <td>0</td>\n",
       "      <td>0.00</td>\n",
       "      <td>1.0</td>\n",
       "      <td>1.00</td>\n",
       "      <td>1</td>\n",
       "      <td>last ever Big Brother be underway final batch ...</td>\n",
       "      <td>DT JJ RB JJ NN VBZ RB IN DT JJ NN IN NNS . IN ...</td>\n",
       "      <td>0.062016</td>\n",
       "      <td>0.093023</td>\n",
       "      <td>-0.031008</td>\n",
       "    </tr>\n",
       "    <tr>\n",
       "      <td>1</td>\n",
       "      <td>True Pundit</td>\n",
       "      <td>2018-02-08</td>\n",
       "      <td>I Have to Let Them in DHS Chief Reveals How MS...</td>\n",
       "      <td>During a White House roundtable discussion on ...</td>\n",
       "      <td>1</td>\n",
       "      <td>0.00</td>\n",
       "      <td>1.0</td>\n",
       "      <td>1.00</td>\n",
       "      <td>-1</td>\n",
       "      <td>White House roundtable discussion immigration ...</td>\n",
       "      <td>IN DT NNP NNP JJ NN IN NN CC NN NN , DT NN IN ...</td>\n",
       "      <td>0.118483</td>\n",
       "      <td>0.113744</td>\n",
       "      <td>0.004739</td>\n",
       "    </tr>\n",
       "    <tr>\n",
       "      <td>2</td>\n",
       "      <td>The Daily Caller</td>\n",
       "      <td>2018-11-16</td>\n",
       "      <td>Trump Works On Mueller Answers Avoiding Perjur...</td>\n",
       "      <td>President Donald Trump is working on written a...</td>\n",
       "      <td>0</td>\n",
       "      <td>0.00</td>\n",
       "      <td>1.0</td>\n",
       "      <td>1.00</td>\n",
       "      <td>1</td>\n",
       "      <td>President Donald Trump be work write answer qu...</td>\n",
       "      <td>NNP NNP NN VBZ VBG IN VBN NNS TO NNS IN JJ NN ...</td>\n",
       "      <td>0.061644</td>\n",
       "      <td>0.068493</td>\n",
       "      <td>-0.006849</td>\n",
       "    </tr>\n",
       "    <tr>\n",
       "      <td>3</td>\n",
       "      <td>The Daily Caller</td>\n",
       "      <td>2018-08-28</td>\n",
       "      <td>McConnell Announces Bipartisan Senate Group Wi...</td>\n",
       "      <td>Senate Majority Leader Mitch McConnell announc...</td>\n",
       "      <td>0</td>\n",
       "      <td>0.00</td>\n",
       "      <td>1.0</td>\n",
       "      <td>1.00</td>\n",
       "      <td>1</td>\n",
       "      <td>Senate Majority Leader Mitch McConnell announc...</td>\n",
       "      <td>NNP NN NN NN NNP VBD DT NN NNP NN MD VB VBG RB...</td>\n",
       "      <td>0.133333</td>\n",
       "      <td>0.033333</td>\n",
       "      <td>0.100000</td>\n",
       "    </tr>\n",
       "    <tr>\n",
       "      <td>4</td>\n",
       "      <td>BBC</td>\n",
       "      <td>2018-07-23</td>\n",
       "      <td>Why millions listen to this nine-year-old girl...</td>\n",
       "      <td>A scheme to let parents close their streets to...</td>\n",
       "      <td>0</td>\n",
       "      <td>0.25</td>\n",
       "      <td>0.0</td>\n",
       "      <td>-0.25</td>\n",
       "      <td>1</td>\n",
       "      <td>scheme let parent close street car so child ca...</td>\n",
       "      <td>DT NN TO VB NNS RB PRP$ NNS TO NNS RB NNS MD N...</td>\n",
       "      <td>0.050000</td>\n",
       "      <td>0.250000</td>\n",
       "      <td>-0.200000</td>\n",
       "    </tr>\n",
       "  </tbody>\n",
       "</table>\n",
       "</div>"
      ],
      "text/plain": [
       "        news_source    pub_date  \\\n",
       "0           The Sun  2018-10-17   \n",
       "1       True Pundit  2018-02-08   \n",
       "2  The Daily Caller  2018-11-16   \n",
       "3  The Daily Caller  2018-08-28   \n",
       "4               BBC  2018-07-23   \n",
       "\n",
       "                                               title  \\\n",
       "0  Who left Big Brother last week and whos still ...   \n",
       "1  I Have to Let Them in DHS Chief Reveals How MS...   \n",
       "2  Trump Works On Mueller Answers Avoiding Perjur...   \n",
       "3  McConnell Announces Bipartisan Senate Group Wi...   \n",
       "4  Why millions listen to this nine-year-old girl...   \n",
       "\n",
       "                                                text  fake_news_binary  \\\n",
       "0  THE last ever Big Brother is underway with a f...                 0   \n",
       "1  During a White House roundtable discussion on ...                 1   \n",
       "2  President Donald Trump is working on written a...                 0   \n",
       "3  Senate Majority Leader Mitch McConnell announc...                 0   \n",
       "4  A scheme to let parents close their streets to...                 0   \n",
       "\n",
       "   left_bias_avg  right_bias_avg  net_bias  fake_news_outlier  \\\n",
       "0           0.00             1.0      1.00                  1   \n",
       "1           0.00             1.0      1.00                 -1   \n",
       "2           0.00             1.0      1.00                  1   \n",
       "3           0.00             1.0      1.00                  1   \n",
       "4           0.25             0.0     -0.25                  1   \n",
       "\n",
       "                                           clean_txt  \\\n",
       "0  last ever Big Brother be underway final batch ...   \n",
       "1  White House roundtable discussion immigration ...   \n",
       "2  President Donald Trump be work write answer qu...   \n",
       "3  Senate Majority Leader Mitch McConnell announc...   \n",
       "4  scheme let parent close street car so child ca...   \n",
       "\n",
       "                                            PoS_tags  pos_sent  neg_sent  \\\n",
       "0  DT JJ RB JJ NN VBZ RB IN DT JJ NN IN NNS . IN ...  0.062016  0.093023   \n",
       "1  IN DT NNP NNP JJ NN IN NN CC NN NN , DT NN IN ...  0.118483  0.113744   \n",
       "2  NNP NNP NN VBZ VBG IN VBN NNS TO NNS IN JJ NN ...  0.061644  0.068493   \n",
       "3  NNP NN NN NN NNP VBD DT NN NNP NN MD VB VBG RB...  0.133333  0.033333   \n",
       "4  DT NN TO VB NNS RB PRP$ NNS TO NNS RB NNS MD N...  0.050000  0.250000   \n",
       "\n",
       "   net_sent  \n",
       "0 -0.031008  \n",
       "1  0.004739  \n",
       "2 -0.006849  \n",
       "3  0.100000  \n",
       "4 -0.200000  "
      ]
     },
     "execution_count": 14,
     "metadata": {},
     "output_type": "execute_result"
    }
   ],
   "source": [
    "articles['net_sent'] = articles['pos_sent'] - articles['neg_sent']\n",
    "articles.head()"
   ]
  },
  {
   "cell_type": "code",
   "execution_count": 15,
   "metadata": {},
   "outputs": [],
   "source": [
    "articles.to_csv('articles_100K_plusSentiment.csv')"
   ]
  },
  {
   "cell_type": "markdown",
   "metadata": {},
   "source": [
    "## compare the NMF & LSA"
   ]
  },
  {
   "cell_type": "code",
   "execution_count": 16,
   "metadata": {},
   "outputs": [],
   "source": [
    "from sklearn.feature_extraction.text import TfidfVectorizer\n",
    "from sklearn.decomposition import NMF\n",
    "from sklearn.decomposition import TruncatedSVD"
   ]
  },
  {
   "cell_type": "code",
   "execution_count": 17,
   "metadata": {},
   "outputs": [],
   "source": [
    "n_features = 20000\n",
    "n_top_words = 20\n",
    "\n",
    "def set_vectorizer(model = TfidfVectorizer,\n",
    "              max_df = .95,\n",
    "              min_df = 2,\n",
    "              max_features = n_features,\n",
    "              stop_words = 'english',\n",
    "             ngram_range = (1, 2)):\n",
    "    \n",
    "    return model(max_df = max_df,\n",
    "                min_df = min_df,\n",
    "                max_features = max_features,\n",
    "                stop_words = stop_words,\n",
    "                ngram_range = ngram_range)"
   ]
  },
  {
   "cell_type": "code",
   "execution_count": 18,
   "metadata": {},
   "outputs": [],
   "source": [
    "def print_top_words(model, feature_names, n_top_words):\n",
    "    for topic_idx, topic in enumerate(model.components_):\n",
    "        message = \"Topic #%d: \" % topic_idx\n",
    "        message += \" \".join([feature_names[i]+ ','\n",
    "                             for i in topic.argsort()[:-n_top_words - 1:-1]])\n",
    "        print(message)\n",
    "    print()"
   ]
  },
  {
   "cell_type": "code",
   "execution_count": 19,
   "metadata": {},
   "outputs": [],
   "source": [
    "data_samples = articles['clean_txt'].tolist()"
   ]
  },
  {
   "cell_type": "markdown",
   "metadata": {},
   "source": [
    "### 10 topic\n",
    "n_components = 10"
   ]
  },
  {
   "cell_type": "markdown",
   "metadata": {},
   "source": [
    "\n",
    "#### ngram(1,1)"
   ]
  },
  {
   "cell_type": "code",
   "execution_count": 20,
   "metadata": {},
   "outputs": [],
   "source": [
    "tf_gram1= set_vectorizer(ngram_range = (1, 1))\n",
    "\n",
    "gram1_data = tf_gram1.fit_transform(data_samples)\n",
    "\n",
    "nmf_word = tf_gram1.get_feature_names()"
   ]
  },
  {
   "cell_type": "code",
   "execution_count": 21,
   "metadata": {},
   "outputs": [
    {
     "name": "stdout",
     "output_type": "stream",
     "text": [
      "Topic #0: say, people, year, just, make, time, know, new, think, work, life, woman, want, love, thing, company, come, look, dont, day,\n",
      "Topic #1: nginx, forbidden, asylum, rule, ban, tigar, law, order, chinese, judge, guard, chau, conference, islamic, religious, world, federal, potter, opinion, tourist,\n",
      "Topic #2: trump, president, mueller, white, cohen, house, say, trumps, donald, campaign, investigation, russia, fbi, tweet, russian, counsel, administration, attorney, news, comey,\n",
      "Topic #3: democrats, election, vote, republican, voter, democratic, state, republicans, candidate, party, race, percent, senate, house, district, poll, seat, campaign, gop, primary,\n",
      "Topic #4: game, league, season, player, club, team, win, play, premier, match, goal, manchester, cup, football, score, chelsea, city, mourinho, england, united,\n",
      "Topic #5: police, say, gun, school, officer, child, report, arrest, student, kill, shoot, people, man, incident, attack, law, city, border, victim, suspect,\n",
      "Topic #6: der, die, und, den, von, zu, mit, da, das, auf, fur, sich, dem, eine, ein, nicht, ist, auch, sie, nach,\n",
      "Topic #7: court, ford, supreme, judge, senate, committee, allegation, brett, hearing, justice, sexual, nominee, judiciary, say, assault, fbi, kavanaughs, confirmation, vote, woman,\n",
      "Topic #8: north, korea, kim, korean, nuclear, summit, south, trump, pompeo, jong, meeting, pyongyang, denuclearization, leader, president, singapore, say, moon, missile, jongun,\n",
      "Topic #9: deal, eu, brexit, trade, minister, say, iran, government, russia, country, russian, china, uk, european, saudi, mr, united, tariff, agreement, prime,\n",
      "\n"
     ]
    }
   ],
   "source": [
    "nmf10 = NMF(n_components = 10).fit(gram1_data)\n",
    "\n",
    "print_top_words(nmf10, nmf_word, n_top_words)"
   ]
  },
  {
   "cell_type": "code",
   "execution_count": 22,
   "metadata": {},
   "outputs": [
    {
     "name": "stdout",
     "output_type": "stream",
     "text": [
      "Topic #0: trump, say, president, people, house, make, year, new, state, time, white, just, election, report, come, told, campaign, court, work, country,\n",
      "Topic #1: nginx, forbidden, game, police, season, year, league, player, city, home, people, play, time, club, school, life, world, just, child, start,\n",
      "Topic #2: trump, president, mueller, house, cohen, election, trumps, donald, white, nginx, democrats, forbidden, campaign, fbi, investigation, russia, senate, republicans, republican, counsel,\n",
      "Topic #3: democrats, vote, senate, court, republican, republicans, democratic, supreme, voter, election, ford, judge, woman, party, candidate, committee, race, nominee, district, state,\n",
      "Topic #4: trump, game, league, season, player, team, cohen, club, play, mueller, win, premier, match, manchester, cup, football, goal, fan, star, chelsea,\n",
      "Topic #5: der, die, und, den, police, von, zu, mit, da, das, auf, fur, sich, dem, eine, ein, nicht, investigation, ist, auch,\n",
      "Topic #6: der, die, und, vote, democrats, den, von, zu, voter, election, republican, mit, percent, republicans, democratic, party, da, race, das, win,\n",
      "Topic #7: russian, russia, investigation, mueller, fbi, brexit, eu, court, manafort, deal, league, committee, uk, minister, mr, game, team, season, justice, counsel,\n",
      "Topic #8: north, korea, kim, korean, ford, court, supreme, nuclear, senate, summit, brett, judge, allegation, assault, south, committee, nominee, sexual, say, woman,\n",
      "Topic #9: brexit, eu, deal, mr, uk, ford, trade, cohen, minister, woman, prime, agreement, mrs, theresa, think, trump, say, vote, labour, mps,\n",
      "\n"
     ]
    }
   ],
   "source": [
    "svd1 = TruncatedSVD(n_components = 10).fit(gram1_data)\n",
    "\n",
    "svd1_word = list(sorted(tf_gram1.vocabulary_.keys()))\n",
    "\n",
    "print_top_words(svd1, svd1_word, n_top_words)"
   ]
  },
  {
   "cell_type": "markdown",
   "metadata": {},
   "source": [
    "### ngram(1,2)"
   ]
  },
  {
   "cell_type": "code",
   "execution_count": 23,
   "metadata": {},
   "outputs": [],
   "source": [
    "tf_gram2= set_vectorizer(ngram_range = (1, 2))\n",
    "\n",
    "gram2_data = tf_gram2.fit_transform(data_samples)\n",
    "\n",
    "nmf2_word = tf_gram2.get_feature_names()"
   ]
  },
  {
   "cell_type": "code",
   "execution_count": 24,
   "metadata": {},
   "outputs": [
    {
     "name": "stdout",
     "output_type": "stream",
     "text": [
      "Topic #0: say, people, police, year, child, woman, just, make, school, time, life, family, work, know, new, use, told, day, home, come,\n",
      "Topic #1: forbidden nginx, nginx, forbidden, asylum, ban, rule, law, chinese, guard, order, judge, apparently, islamic, potter, world, harry potter, tourist, annoy, religious, century,\n",
      "Topic #2: trump, president, white house, white, house, donald, say, donald trump, trumps, president trump, administration, trump say, tweet, obama, press, president donald, news, cnn, think, people,\n",
      "Topic #3: north, korea, kim, north korea, korean, nuclear, summit, north korean, south, pompeo, jong, south korea, meeting, pyongyang, kim jong, denuclearization, leader, moon, singapore, korean leader,\n",
      "Topic #4: der, die, und, den, von, zu, mit, da, das, auf, fur, sich, dem, eine, ein, nicht, ist, auch, sie, nach,\n",
      "Topic #5: game, league, season, player, club, team, win, play, premier league, premier, goal, match, manchester, cup, football, score, chelsea, england, mourinho, sport,\n",
      "Topic #6: democrats, election, vote, republican, democratic, state, voter, candidate, republicans, party, race, percent, senate, district, campaign, poll, seat, primary, house, gop,\n",
      "Topic #7: mueller, investigation, fbi, manafort, cohen, russian, counsel, campaign, russia, special counsel, attorney, special, trump, comey, lawyer, justice, department, report, rosenstein, probe,\n",
      "Topic #8: court, ford, supreme, supreme court, judge, senate, brett, committee, allegation, nominee, sexual, hearing, assault, judiciary, justice, kavanaughs, say, vote, confirmation, woman,\n",
      "Topic #9: deal, eu, brexit, minister, say, trade, government, country, iran, russia, saudi, china, russian, uk, european, united, mr, prime, prime minister, agreement,\n",
      "\n"
     ]
    }
   ],
   "source": [
    "nmf2 = NMF(n_components =10).fit(gram2_data)\n",
    "\n",
    "print_top_words(nmf2, nmf2_word, n_top_words)"
   ]
  },
  {
   "cell_type": "code",
   "execution_count": 25,
   "metadata": {
    "scrolled": true
   },
   "outputs": [
    {
     "name": "stdout",
     "output_type": "stream",
     "text": [
      "Topic #0: say, trump, president, people, year, make, house, new, state, time, just, come, report, white, told, work, election, know, want, country,\n",
      "Topic #1: nginx, forbidden nginx, forbidden, game, police, season, year, league, city, player, home, world, child, life, play, people, club, time, school, start,\n",
      "Topic #2: trump, president, white house, house, mueller, election, white, trumps, donald, democrats, cohen, donald trump, campaign, fbi, investigation, senate, russia, republican, republicans, president trump,\n",
      "Topic #3: der, die, trump, und, north, korea, kim, iran, north korea, den, russia, nuclear, korean, russian, von, china, zu, president, trade, deal,\n",
      "Topic #4: der, die, und, den, von, zu, mit, da, das, auf, fur, dem, sich, eine, ein, nicht, court, ist, auch, im,\n",
      "Topic #5: trump, game, league, season, player, team, win, club, play, premier league, premier, match, goal, manchester, cup, football, score, president, chelsea, mueller,\n",
      "Topic #6: vote, democrats, voter, state, party, election, percent, republican, democratic, republicans, race, candidate, brexit, eu, senate, deal, trade, win, poll, seat,\n",
      "Topic #7: russian, court, russia, investigation, league, mueller, fbi, manafort, eu, brexit, committee, deal, justice, minister, judge, mr, game, government, season, player,\n",
      "Topic #8: north, korea, kim, north korea, korean, court, ford, supreme, supreme court, nuclear, senate, judge, north korean, summit, brett, assault, south, allegation, sexual, police,\n",
      "Topic #9: brexit, eu, deal, uk, ford, mr, trade, minister, court, supreme court, supreme, prime, trump, prime minister, agreement, cohen, european, judge, mrs, brett,\n",
      "\n"
     ]
    }
   ],
   "source": [
    "svd2 = TruncatedSVD(n_components = 10).fit(gram2_data)\n",
    "\n",
    "svd2_word = list(sorted(tf_gram2.vocabulary_.keys()))\n",
    "\n",
    "print_top_words(svd2, svd2_word, n_top_words)"
   ]
  },
  {
   "cell_type": "markdown",
   "metadata": {},
   "source": [
    "#### The LSA has overlap, I will stop analysis the LSA in more topics."
   ]
  },
  {
   "cell_type": "markdown",
   "metadata": {},
   "source": [
    "### ngram(1,3)"
   ]
  },
  {
   "cell_type": "code",
   "execution_count": 26,
   "metadata": {},
   "outputs": [],
   "source": [
    "tf_v3= set_vectorizer(ngram_range = (1, 3))\n",
    "\n",
    "tfidf3_data = tf_v3.fit_transform(data_samples)"
   ]
  },
  {
   "cell_type": "code",
   "execution_count": 27,
   "metadata": {},
   "outputs": [],
   "source": [
    "nmf3 = NMF(n_components = 10).fit(tfidf3_data)"
   ]
  },
  {
   "cell_type": "code",
   "execution_count": 28,
   "metadata": {},
   "outputs": [
    {
     "name": "stdout",
     "output_type": "stream",
     "text": [
      "Topic #0: say, people, police, year, child, make, just, woman, time, life, school, family, new, work, know, use, told, day, home, come,\n",
      "Topic #1: forbidden nginx, nginx, forbidden, asylum, rule, ban, chinese, law, guard, order, judge, apparently, potter, world, islamic, harry potter, tourist, annoy, religious, century,\n",
      "Topic #2: trump, president, white house, white, house, mueller, cohen, say, trumps, donald, donald trump, campaign, investigation, fbi, tweet, president trump, counsel, administration, news, attorney,\n",
      "Topic #3: der, die, und, den, von, zu, mit, da, das, auf, fur, sich, dem, eine, ein, nicht, ist, auch, sie, nach,\n",
      "Topic #4: court, ford, supreme, supreme court, judge, senate, committee, allegation, brett, justice, hearing, sexual, nominee, assault, say, judiciary, kavanaughs, confirmation, fbi, judiciary committee,\n",
      "Topic #5: game, league, season, player, club, team, win, play, premier league, premier, goal, match, manchester, cup, football, score, chelsea, england, mourinho, sport,\n",
      "Topic #6: democrats, election, vote, republican, democratic, state, voter, republicans, candidate, party, race, percent, senate, district, house, campaign, seat, poll, primary, gop,\n",
      "Topic #7: russian, russia, saudi, iran, syria, military, say, country, united, khashoggi, putin, sanction, government, arabia, states, saudi arabia, united states, foreign, syrian, security,\n",
      "Topic #8: north, korea, kim, north korea, korean, nuclear, summit, north korean, south, trump, jong, pompeo, south korea, meeting, pyongyang, kim jong, denuclearization, leader, president, moon,\n",
      "Topic #9: brexit, eu, deal, uk, minister, trade, mr, prime, prime minister, european, say, agreement, government, tariff, union, britain, theresa, mrs, labour, mps,\n",
      "\n"
     ]
    }
   ],
   "source": [
    "nmf3_word = tf_v3.get_feature_names()\n",
    "\n",
    "print_top_words(nmf3, nmf3_word, n_top_words)"
   ]
  },
  {
   "cell_type": "code",
   "execution_count": 30,
   "metadata": {},
   "outputs": [
    {
     "name": "stdout",
     "output_type": "stream",
     "text": [
      "Topic #0: say, trump, president, people, year, make, house, new, state, time, just, come, report, white, work, told, election, know, want, country,\n",
      "Topic #1: forbidden nginx, nginx, forbidden, game, police, season, league, year, city, player, world, club, home, play, life, people, child, time, woman, start,\n",
      "Topic #2: trump, president, white house, house, mueller, election, white, trumps, democrats, donald, cohen, donald trump, campaign, fbi, senate, investigation, republican, russia, republicans, president trump,\n",
      "Topic #3: der, die, und, den, von, zu, mit, da, das, auf, fur, sich, dem, eine, trump, ein, nicht, ist, auch, sie,\n",
      "Topic #4: der, die, court, und, democrats, vote, senate, supreme court, republican, supreme, woman, ford, republicans, judge, democratic, den, voter, election, von, committee,\n",
      "Topic #5: trump, game, league, season, player, team, win, club, play, premier league, premier, match, goal, manchester, cup, football, score, chelsea, president, mueller,\n",
      "Topic #6: vote, democrats, voter, party, state, percent, election, republican, democratic, republicans, race, brexit, eu, candidate, senate, deal, trade, win, poll, seat,\n",
      "Topic #7: court, russian, russia, investigation, league, mueller, fbi, eu, brexit, manafort, committee, deal, judge, justice, minister, ford, game, mr, government, season,\n",
      "Topic #8: north, korea, kim, north korea, korean, court, ford, supreme, supreme court, nuclear, senate, summit, north korean, judge, brett, assault, south, allegation, sexual, nominee,\n",
      "Topic #9: brexit, eu, deal, trade, mr, uk, ford, minister, woman, cohen, court, tariff, prime, think, supreme court, supreme, prime minister, european, agreement, sexual,\n",
      "\n"
     ]
    }
   ],
   "source": [
    "svd3 = TruncatedSVD(n_components = 10).fit(tfidf3_data)\n",
    "\n",
    "svd3_word = list(sorted(tf_v3.vocabulary_.keys()))\n",
    "\n",
    "print_top_words(svd3, svd3_word, n_top_words)"
   ]
  },
  {
   "cell_type": "markdown",
   "metadata": {},
   "source": [
    "### nmf : 20 topic\n",
    "\n",
    "n_components = 20"
   ]
  },
  {
   "cell_type": "markdown",
   "metadata": {},
   "source": [
    "#### ngram(1,1)"
   ]
  },
  {
   "cell_type": "markdown",
   "metadata": {},
   "source": [
    "tf_gram1= set_vectorizer(ngram_range = (1, 1))\n",
    "\n",
    "gram1_data = tf_gram1.fit_transform(data_samples)\n",
    "\n",
    "nmf_word = tf_gram1.get_feature_names()"
   ]
  },
  {
   "cell_type": "code",
   "execution_count": 31,
   "metadata": {},
   "outputs": [],
   "source": [
    "nmf20 = NMF(n_components = 20).fit(gram1_data)"
   ]
  },
  {
   "cell_type": "code",
   "execution_count": 32,
   "metadata": {},
   "outputs": [
    {
     "name": "stdout",
     "output_type": "stream",
     "text": [
      "Topic #0: say, just, people, know, think, woman, life, love, make, time, want, year, thing, im, really, star, dont, look, come, film,\n",
      "Topic #1: nginx, forbidden, rule, ban, asylum, tigar, order, chinese, guard, judge, law, chau, conference, islamic, tourist, religious, potter, annoy, city, smoking,\n",
      "Topic #2: trump, president, donald, trumps, tweet, say, obama, cohen, administration, meeting, news, daniels, campaign, putin, think, rally, twitter, people, fox, cnn,\n",
      "Topic #3: democrats, election, vote, republican, voter, democratic, state, republicans, candidate, race, party, senate, district, campaign, seat, poll, percent, primary, gop, ballot,\n",
      "Topic #4: game, league, season, player, club, team, win, premier, play, goal, match, manchester, cup, football, score, chelsea, mourinho, city, england, united,\n",
      "Topic #5: der, die, und, den, von, zu, mit, da, das, auf, fur, sich, dem, eine, ein, nicht, ist, auch, sie, nach,\n",
      "Topic #6: russian, russia, putin, iran, syria, moscow, military, sanction, syrian, say, foreign, country, israel, united, attack, intelligence, nuclear, security, missile, vladimir,\n",
      "Topic #7: court, ford, supreme, judge, senate, brett, committee, allegation, nominee, sexual, hearing, assault, judiciary, kavanaughs, vote, confirmation, justice, woman, say, senator,\n",
      "Topic #8: north, korea, kim, korean, nuclear, summit, south, jong, pompeo, meeting, pyongyang, denuclearization, leader, moon, singapore, jongun, peninsula, koreas, say, missile,\n",
      "Topic #9: brexit, eu, deal, mr, uk, minister, prime, european, say, vote, theresa, mrs, britain, labour, mps, agreement, referendum, union, party, ireland,\n",
      "Topic #10: police, say, officer, man, arrest, incident, car, attack, report, suspect, kill, victim, hospital, mr, woman, city, charge, scene, told, death,\n",
      "Topic #11: border, migrant, child, immigration, caravan, asylum, immigrant, mexico, parent, family, administration, law, country, policy, illegal, separate, government, cross, united, states,\n",
      "Topic #12: saudi, khashoggi, arabia, prince, consulate, jamal, turkish, crown, journalist, salman, kill, istanbul, murder, bin, turkey, riyadh, mohammed, saudis, kingdom, khashoggis,\n",
      "Topic #13: percent, year, tax, company, new, health, increase, rate, government, price, say, cost, state, market, high, business, plan, service, pay, city,\n",
      "Topic #14: policy, pj, cookie, encourages, privacy, media, update, read, subscribe, blog, foreign, newsbusters, administration, mrc, inbox, complete, separation, separate, thank, change,\n",
      "Topic #15: school, gun, student, shoot, teacher, nra, parkland, law, high, firearm, florida, control, violence, rifle, shooting, weapon, education, people, mass, arm,\n",
      "Topic #16: china, trade, tariff, chinese, import, canada, steel, war, beijing, united, states, country, aluminum, economic, economy, impose, good, american, market, export,\n",
      "Topic #17: mueller, investigation, fbi, manafort, cohen, counsel, attorney, special, campaign, comey, lawyer, justice, probe, robert, rosenstein, muellers, charge, general, sessions, giuliani,\n",
      "Topic #18: facebook, company, user, post, data, google, medium, news, twitter, email, social, account, content, platform, use, check, share, zuckerberg, video, information,\n",
      "Topic #19: house, white, president, press, sanders, say, kelly, staff, secretary, official, acosta, cnn, administration, security, reporter, porter, sarah, clearance, aide, chief,\n",
      "\n"
     ]
    }
   ],
   "source": [
    "print_top_words(nmf20, nmf_word, n_top_words)"
   ]
  },
  {
   "cell_type": "markdown",
   "metadata": {},
   "source": [
    "#### n-gram(1,2)"
   ]
  },
  {
   "cell_type": "markdown",
   "metadata": {},
   "source": [
    "tf_gram2= set_vectorizer(ngram_range = (1, 2))\n",
    "\n",
    "gram2_data = tf_gram2.fit_transform(data_samples)\n",
    "\n",
    "nmf2_word = tf_gram2.get_feature_names()"
   ]
  },
  {
   "cell_type": "code",
   "execution_count": 34,
   "metadata": {},
   "outputs": [],
   "source": [
    "nmf20_2 = NMF(n_components = 20).fit(gram2_data)"
   ]
  },
  {
   "cell_type": "code",
   "execution_count": 35,
   "metadata": {},
   "outputs": [
    {
     "name": "stdout",
     "output_type": "stream",
     "text": [
      "Topic #0: say, just, people, know, life, make, time, love, think, year, woman, want, thing, star, im, look, film, really, come, work,\n",
      "Topic #1: nginx, forbidden nginx, forbidden, ban, rule, asylum, guard, chinese, apparently, order, potter, islamic, tourist, city, harry potter, annoy, conference, world, century, displeasure,\n",
      "Topic #2: trump, president, donald, donald trump, president trump, trumps, trump say, tweet, say, president donald, obama, administration, trade, think, putin, meeting, people, american, tariff, rally,\n",
      "Topic #3: north, korea, kim, north korea, korean, nuclear, summit, north korean, south, jong, pompeo, south korea, pyongyang, kim jong, denuclearization, meeting, leader, moon, singapore, korean leader,\n",
      "Topic #4: der, die, und, den, von, zu, mit, da, das, auf, fur, sich, dem, eine, ein, nicht, ist, auch, sie, nach,\n",
      "Topic #5: game, league, season, player, club, team, win, premier league, premier, play, goal, manchester, match, cup, football, score, chelsea, city, mourinho, england,\n",
      "Topic #6: democrats, election, vote, republican, democratic, voter, state, candidate, republicans, race, party, senate, percent, campaign, district, seat, poll, primary, gop, ballot,\n",
      "Topic #7: mueller, fbi, investigation, manafort, counsel, special counsel, comey, special, campaign, attorney, rosenstein, probe, justice, general, department, sessions, russia, clinton, attorney general, robert,\n",
      "Topic #8: ford, committee, senate, allegation, sexual, assault, brett, judiciary, woman, judiciary committee, say, hearing, blasey, kavanaughs, nominee, christine, senate judiciary, vote, sexual assault, blasey ford,\n",
      "Topic #9: brexit, eu, deal, mr, uk, minister, prime, prime minister, european, say, theresa, vote, mrs, agreement, britain, labour, mps, trade, union, government,\n",
      "Topic #10: border, child, migrant, immigration, caravan, asylum, immigrant, mexico, parent, family, administration, policy, country, illegal, separate, say, government, cross, law, united,\n",
      "Topic #11: court, supreme, supreme court, judge, justice, case, abortion, law, federal, right, decision, ruling, nominee, state, rule, circuit, legal, conservative, kennedy, roe,\n",
      "Topic #12: saudi, khashoggi, arabia, saudi arabia, prince, consulate, crown prince, jamal, crown, turkish, salman, jamal khashoggi, journalist, kill, istanbul, murder, bin, turkey, riyadh, mohammed,\n",
      "Topic #13: cohen, daniels, michael, avenatti, michael cohen, lawyer, payment, trump, stormy, giuliani, stormy daniels, cohens, attorney, affair, say, legal, mcdougal, campaign, client, new york,\n",
      "Topic #14: policy, cookie policy, encourages read, policy cookie, media encourages, update privacy, read update, pj media, privacy policy, cookie, pj, encourages, privacy, media, update, read, blog, newsbusters, facebook, post,\n",
      "Topic #15: school, gun, student, shoot, teacher, high school, gun control, nra, parkland, high, law, firearm, florida, control, people, violence, rifle, education, shooting, weapon,\n",
      "Topic #16: police, say, officer, man, arrest, incident, car, report, police say, attack, kill, suspect, victim, hospital, mr, city, charge, told, woman, death,\n",
      "Topic #17: russian, russia, iran, putin, syria, military, sanction, syrian, moscow, country, say, united, israel, foreign, states, united states, nuclear, war, attack, iranian,\n",
      "Topic #18: company, percent, china, year, new, trade, facebook, tax, market, data, say, price, business, tariff, use, increase, chinese, report, rate, government,\n",
      "Topic #19: white, white house, house, press, sanders, president, kelly, say, staff, secretary, acosta, official, cnn, administration, porter, security, press secretary, reporter, sarah, house press,\n",
      "\n"
     ]
    }
   ],
   "source": [
    "print_top_words(nmf20_2, nmf2_word, n_top_words)"
   ]
  },
  {
   "cell_type": "markdown",
   "metadata": {},
   "source": [
    "### nmf topic 50\n",
    "\n",
    " n_components = 50\n",
    "\n",
    "#### n-gram(1,1)"
   ]
  },
  {
   "cell_type": "markdown",
   "metadata": {},
   "source": [
    "tf_gram1= set_vectorizer(ngram_range = (1, 1))\n",
    "\n",
    "gram1_data = tf_gram1.fit_transform(data_samples)\n",
    "\n",
    "nmf_word = tf_gram1.get_feature_names()"
   ]
  },
  {
   "cell_type": "code",
   "execution_count": 36,
   "metadata": {},
   "outputs": [],
   "source": [
    "nmf50 = NMF(n_components = 50).fit(gram1_data)"
   ]
  },
  {
   "cell_type": "code",
   "execution_count": 37,
   "metadata": {},
   "outputs": [
    {
     "name": "stdout",
     "output_type": "stream",
     "text": [
      "Topic #0: think, just, thing, dont, know, want, people, im, really, make, thats, way, lot, good, time, look, feel, need, try, come,\n",
      "Topic #1: nginx, forbidden, asylum, tigar, rule, ban, guard, order, chinese, chau, conference, tourist, smoking, annoy, potter, apparently, islamic, displeasure, reporting, footage,\n",
      "Topic #2: trump, donald, tweet, trumps, administration, campaign, meeting, rally, melania, twitter, supporter, election, president, tower, summit, ivanka, republican, presidency, attack, bad,\n",
      "Topic #3: vote, election, state, voter, ballot, race, county, voting, florida, governor, recount, abrams, georgia, kemp, candidate, gillum, scott, count, campaign, republican,\n",
      "Topic #4: game, team, player, season, play, win, england, match, cup, score, football, goal, coach, league, second, ball, sport, start, played, world,\n",
      "Topic #5: der, die, und, den, von, zu, mit, da, das, auf, fur, sich, dem, eine, ein, nicht, ist, auch, sie, nach,\n",
      "Topic #6: world, macron, french, france, europe, european, germany, nato, war, country, german, climate, paris, merkel, cup, global, change, emmanuel, leader, year,\n",
      "Topic #7: russian, russia, putin, moscow, intelligence, vladimir, election, foreign, meeting, sanction, russias, russians, ukraine, kremlin, skripal, security, meddling, helsinki, ukrainian, ministry,\n",
      "Topic #8: north, korea, kim, korean, summit, nuclear, south, jong, meeting, pyongyang, pompeo, denuclearization, leader, moon, singapore, jongun, peninsula, koreas, missile, test,\n",
      "Topic #9: brexit, eu, deal, uk, minister, theresa, prime, european, britain, vote, mrs, mps, referendum, ireland, union, labour, agreement, brussels, chequers, tory,\n",
      "Topic #10: court, supreme, judge, justice, case, law, abortion, federal, ruling, nominee, decision, circuit, rule, legal, kennedy, appeal, right, confirmation, brett, conservative,\n",
      "Topic #11: border, migrant, caravan, immigration, asylum, mexico, immigrant, illegal, cross, country, wall, mexican, troop, security, states, honduras, united, illegally, tijuana, southern,\n",
      "Topic #12: saudi, khashoggi, arabia, consulate, prince, jamal, turkish, crown, salman, journalist, istanbul, kill, murder, bin, turkey, riyadh, saudis, mohammed, kingdom, khashoggis,\n",
      "Topic #13: tax, year, company, cut, government, budget, rate, business, increase, spending, pay, economy, money, federal, cost, new, growth, bank, state, market,\n",
      "Topic #14: policy, pj, cookie, encourages, privacy, media, update, read, subscribe, foreign, administration, immigration, inbox, separation, thank, mrc, directly, new, separate, newsbusters,\n",
      "Topic #15: school, student, teacher, education, high, university, college, campus, shoot, district, class, pupil, classroom, parkland, stoneman, douglas, kid, teach, students, florida,\n",
      "Topic #16: police, officer, arrest, man, incident, suspect, victim, attack, report, kill, car, hospital, scene, murder, crime, shot, charge, shoot, street, death,\n",
      "Topic #17: cohen, daniels, michael, avenatti, payment, lawyer, stormy, giuliani, cohens, attorney, affair, legal, mcdougal, client, raid, clifford, porn, campaign, personal, prosecutor,\n",
      "Topic #18: facebook, company, user, data, google, zuckerberg, cambridge, analytica, social, platform, account, twitter, use, information, app, content, ad, tech, facebooks, medium,\n",
      "Topic #19: white, house, kelly, sanders, press, staff, secretary, porter, official, acosta, administration, security, sarah, aide, clearance, chief, reporter, hicks, omarosa, cnn,\n",
      "Topic #20: ford, committee, senate, allegation, brett, judiciary, assault, blasey, hearing, vote, sexual, kavanaughs, nominee, christine, supreme, senator, fords, confirmation, grassley, judge,\n",
      "Topic #21: iran, nuclear, sanction, iranian, deal, tehran, oil, jcpoa, rouhani, irans, united, agreement, pompeo, states, foreign, program, european, regime, administration, reimpose,\n",
      "Topic #22: star, love, series, brother, year, celebrity, big, strictly, tv, fan, dance, reveal, night, sun, bbc, time, video, live, life, channel,\n",
      "Topic #23: china, tariff, trade, chinese, import, beijing, war, steel, chinas, impose, good, economic, product, market, states, xi, country, economy, export, aluminum,\n",
      "Topic #24: manafort, gates, trial, charge, campaign, manaforts, paul, prosecutor, bank, guilty, fraud, jury, ellis, witness, plea, case, plead, sentence, judge, mueller,\n",
      "Topic #25: child, parent, family, separate, mother, kid, separation, immigration, policy, baby, administration, reunite, immigrant, boy, son, father, adult, home, detention, abuse,\n",
      "Topic #26: syria, syrian, military, attack, chemical, force, terrorist, defense, weapon, missile, government, war, militant, idlib, strike, damascus, assad, group, army, civilian,\n",
      "Topic #27: mr, ms, labour, party, corbyn, mrs, accuse, johnson, defence, minister, mp, leader, stokes, criticise, told, antisemitism, claimed, claim, say, murder,\n",
      "Topic #28: democrats, republicans, democratic, republican, party, senate, house, candidate, seat, district, gop, pelosi, race, win, primary, congressional, election, majority, congress, campaign,\n",
      "Topic #29: gun, nra, shoot, firearm, control, rifle, law, weapon, parkland, violence, amendment, florida, mass, shooting, ban, arm, background, kill, shooter, stoneman,\n",
      "Topic #30: email, post, check, blog, newsbusters, sorry, sent, address, share, fail, read, complete, try, mrc, link, article, account, video, write, twitter,\n",
      "Topic #31: percent, poll, voter, survey, americans, rating, rate, approval, point, high, number, respondent, increase, republicans, economy, accord, low, average, likely, percentage,\n",
      "Topic #32: woman, sexual, men, abortion, sex, female, assault, abuse, harassment, victim, women, metoo, gender, rape, girl, male, allegation, man, weinstein, accuse,\n",
      "Topic #33: say, told, add, statement, ask, comment, want, interview, tuesday, monday, wednesday, people, believe, thursday, spokesman, come, plan, issue, decision, happen,\n",
      "Topic #34: health, drug, patient, care, study, hospital, medical, disease, abortion, mental, doctor, cancer, people, use, treatment, death, research, risk, test, condition,\n",
      "Topic #35: mueller, investigation, counsel, special, attorney, sessions, rosenstein, robert, probe, muellers, giuliani, general, lawyer, whitaker, team, justice, collusion, russia, legal, department,\n",
      "Topic #36: mccain, john, senator, mccains, arizona, senate, war, cancer, service, vietnam, bush, cbsn, funeral, republican, brain, meghan, family, biden, haspel, memorial,\n",
      "Topic #37: league, club, manchester, mourinho, premier, united, chelsea, season, city, arsenal, liverpool, player, jose, champions, goal, madrid, manager, getty, summer, pogba,\n",
      "Topic #38: fbi, comey, investigation, clinton, strzok, mccabe, memo, director, page, department, intelligence, hillary, information, justice, james, dossier, campaign, committee, report, email,\n",
      "Topic #39: film, movie, star, character, actor, new, hollywood, role, netflix, series, festival, actress, cast, story, play, director, release, screen, book, drama,\n",
      "Topic #40: people, right, political, group, party, support, american, country, community, protest, government, social, medium, speech, organization, city, america, conservative, violence, church,\n",
      "Topic #41: news, fox, medium, cnn, report, fake, tweet, network, story, press, twitter, reporter, hannity, host, daily, nbc, outlet, journalist, acosta, video,\n",
      "Topic #42: hurricane, storm, wind, florence, rain, weather, carolina, flood, coast, water, area, puerto, island, florida, north, temperature, hit, south, landfall, rico,\n",
      "Topic #43: amazon, black, deal, friday, price, sale, store, product, shop, retailer, discount, offer, best, apple, christmas, item, customer, buy, online, day,\n",
      "Topic #44: flight, passenger, plane, car, city, airport, air, airline, space, driver, aircraft, vehicle, crash, pilot, crew, road, travel, land, service, fly,\n",
      "Topic #45: meghan, prince, royal, harry, wedding, duchess, markle, princess, queen, duke, eugenie, windsor, sussex, couple, dress, palace, baby, kate, family, william,\n",
      "Topic #46: israel, israeli, gaza, palestinian, palestinians, hamas, jerusalem, netanyahu, embassy, protest, strip, jewish, minister, idf, peace, kill, israels, prime, israelis, tel,\n",
      "Topic #47: president, obama, trumps, clinton, barack, bush, putin, donald, pence, vice, states, tweet, united, presidential, american, george, biden, office, hillary, obamas,\n",
      "Topic #48: canada, trade, minister, canadian, trudeau, nafta, mexico, agreement, prime, deal, tariff, government, justin, canadas, g7, freeland, steel, united, canadians, leader,\n",
      "Topic #49: slideshow, times, instagram, photo, stripped, model, internet, ratchford, skriver, josephine, hoopes, wearing, hottest, abigail, samantha, blonde, york, bikini, bombshell, new,\n",
      "\n"
     ]
    }
   ],
   "source": [
    "print_top_words(nmf50, nmf_word, n_top_words)"
   ]
  },
  {
   "cell_type": "markdown",
   "metadata": {},
   "source": [
    "#### ngram(1,2)"
   ]
  },
  {
   "cell_type": "markdown",
   "metadata": {},
   "source": [
    "tf_gram2= set_vectorizer(ngram_range = (1, 2))\n",
    "\n",
    "gram2_data = tf_gram2.fit_transform(data_samples)\n",
    "\n",
    "nmf2_word = tf_gram2.get_feature_names()"
   ]
  },
  {
   "cell_type": "code",
   "execution_count": 38,
   "metadata": {},
   "outputs": [],
   "source": [
    "nmf50_2 = NMF(n_components =50).fit(gram2_data)"
   ]
  },
  {
   "cell_type": "code",
   "execution_count": 39,
   "metadata": {},
   "outputs": [
    {
     "name": "stdout",
     "output_type": "stream",
     "text": [
      "Topic #0: people, think, just, dont, thing, know, want, im, really, make, way, thats, time, right, look, feel, lot, good, life, come,\n",
      "Topic #1: nginx, forbidden nginx, forbidden, ban, rule, asylum, guard, chinese, order, apparently, potter, tourist, islamic, annoy, harry potter, world, smoking, conference, displeasure, century,\n",
      "Topic #2: trump, president, donald, donald trump, president trump, trumps, trump say, tweet, president donald, administration, obama, campaign, rally, twitter, say trump, trump administration, trump tweet, presidency, melania, supporter,\n",
      "Topic #3: putin, president, vladimir, vladimir putin, meeting, russian president, president vladimir, summit, russia, russian, election, intelligence, helsinki, nato, leader, putin say, conference, putins, kremlin, security,\n",
      "Topic #4: der, die, und, den, von, zu, mit, da, das, auf, fur, sich, dem, eine, ein, nicht, ist, auch, sie, nach,\n",
      "Topic #5: league, club, season, premier league, premier, chelsea, arsenal, city, liverpool, goal, player, villa, manchester, football, champions, wolves, match, champions league, madrid, manchester city,\n",
      "Topic #6: democrats, democratic, republicans, republican, party, candidate, house, district, senate, seat, gop, race, pelosi, primary, campaign, election, win, congressional, democrat, congress,\n",
      "Topic #7: russian, russia, moscow, foreign, sanction, skripal, ukraine, ministry, russias, ukrainian, sergei, diplomat, intelligence, russians, poison, salisbury, russian foreign, agent, minister, spy,\n",
      "Topic #8: north, korea, kim, north korea, korean, summit, north korean, nuclear, south, jong, south korea, pyongyang, kim jong, denuclearization, pompeo, meeting, leader, moon, singapore, korean leader,\n",
      "Topic #9: brexit, eu, deal, uk, minister, prime, prime minister, european, theresa, britain, mps, mrs, vote, agreement, union, referendum, government, labour, ireland, party,\n",
      "Topic #10: syria, syrian, military, attack, force, war, terrorist, chemical, government, defense, group, weapon, militant, missile, army, country, turkey, idlib, chemical weapon, strike,\n",
      "Topic #11: court, supreme, supreme court, judge, justice, case, law, ruling, nominee, federal, decision, circuit, rule, confirmation, appeal, kennedy, brett, conservative, right, legal,\n",
      "Topic #12: saudi, khashoggi, arabia, saudi arabia, consulate, prince, crown prince, jamal, crown, turkish, jamal khashoggi, salman, journalist, istanbul, murder, kill, bin, turkey, riyadh, saudis,\n",
      "Topic #13: cohen, daniels, michael, avenatti, michael cohen, payment, lawyer, stormy, stormy daniels, giuliani, cohens, trump, attorney, affair, legal, mcdougal, client, clifford, michael avenatti, porn,\n",
      "Topic #14: policy, cookie policy, policy cookie, encourages read, media encourages, update privacy, read update, pj media, privacy policy, cookie, pj, encourages, privacy, media, update, read, subscribe, foreign policy, foreign, inbox,\n",
      "Topic #15: school, student, teacher, high school, education, high, university, college, campus, shoot, district, class, pupil, school district, classroom, parkland, kid, stoneman, douglas, stoneman douglas,\n",
      "Topic #16: say, told, add, ask, statement, want, comment, interview, trump say, monday, wednesday, tuesday, say say, say statement, think, believe, say want, talk, people, thursday,\n",
      "Topic #17: police, officer, arrest, man, police say, incident, suspect, car, police officer, victim, attack, kill, report, scene, hospital, murder, shot, crime, charge, street,\n",
      "Topic #18: facebook, company, user, data, google, social, social medium, zuckerberg, twitter, medium, account, platform, cambridge, use, analytica, cambridge analytica, information, app, content, privacy,\n",
      "Topic #19: white, white house, house, sanders, kelly, press, president, staff, secretary, porter, acosta, administration, official, press secretary, sarah, house press, security, aide, chief staff, cnn,\n",
      "Topic #20: ford, committee, senate, allegation, brett, judiciary, assault, judiciary committee, blasey, hearing, vote, sexual, kavanaughs, christine, nominee, senate judiciary, blasey ford, christine blasey, senator, fords,\n",
      "Topic #21: star, love, brother, celebrity, big brother, series, sun, video, strictly, big, dance, reveal, pay, fan, story, year, click, upload, pay video, click upload,\n",
      "Topic #22: iran, nuclear, sanction, iranian, deal, nuclear deal, tehran, oil, jcpoa, iran nuclear, rouhani, irans, agreement, united, european, united states, states, pompeo, foreign, sanction iran,\n",
      "Topic #23: china, trade, tariff, chinese, canada, import, trade war, steel, beijing, war, country, united states, states, aluminum, united, american, impose, economic, chinas, product,\n",
      "Topic #24: manafort, gates, trial, charge, campaign, paul manafort, manaforts, paul, prosecutor, guilty, bank, jury, fraud, mueller, trump campaign, ellis, witness, case, plead guilty, plea,\n",
      "Topic #25: child, parent, family, separate, mother, kid, baby, policy, separation, boy, son, father, administration, reunite, immigration, home, daughter, girl, abuse, immigrant,\n",
      "Topic #26: woman, sexual, men, sex, female, assault, abuse, harassment, victim, allegation, metoo, gender, rape, girl, male, sexual assault, women, weinstein, accuse, sexual harassment,\n",
      "Topic #27: mr, mr trump, ms, say mr, labour, party, corbyn, say, accuse, defence, mr johnson, mr corbyn, mrs, leader, stokes, johnson, told, antisemitism, murder, court,\n",
      "Topic #28: tax, company, year, business, rate, market, cut, pay, government, budget, bank, increase, money, price, cost, economy, growth, spending, financial, worker,\n",
      "Topic #29: health, drug, patient, care, study, hospital, disease, people, medical, cancer, death, mental, treatment, doctor, use, research, mental health, health care, test, risk,\n",
      "Topic #30: gun, gun control, nra, shoot, firearm, control, rifle, law, parkland, violence, weapon, gun violence, amendment, mass, ban, shooting, florida, second amendment, background check, arm,\n",
      "Topic #31: percent, poll, voter, survey, americans, percent say, rating, percent percent, rate, approval, point, number, high, respondent, approval rating, republicans, increase, economy, accord, average,\n",
      "Topic #32: post, check, email, blog, newsbusters, share post, email address, read, sorry, sent, share, address, complete, fail, try, link, article, account, washington post, write,\n",
      "Topic #33: news, fox, fox news, medium, cnn, network, fake, host, hannity, tweet, report, fake news, daily, press, nbc, story, reporter, journalist, outlet, twitter,\n",
      "Topic #34: mourinho, united, manchester, manchester united, jose, jose mourinho, pogba, trafford, old trafford, united states, states, old, paul pogba, paul, juventus, player, sanchez, uniteds, red devils, devils,\n",
      "Topic #35: mueller, counsel, special counsel, investigation, special, sessions, attorney, rosenstein, attorney general, general, robert, robert mueller, probe, muellers, counsel robert, giuliani, justice, whitaker, justice department, team,\n",
      "Topic #36: vote, election, state, voter, ballot, county, race, florida, voting, governor, recount, abrams, kemp, georgia, candidate, gillum, scott, count, campaign, nelson,\n",
      "Topic #37: mccain, john, john mccain, senator, mccains, arizona, obama, war, senate, bush, cancer, service, president, brain cancer, vietnam, biden, funeral, meghan mccain, senator john, cbsn,\n",
      "Topic #38: new, york, new york, times, city, york times, cuomo, york city, nixon, state, mayor, slideshow, blasio, times report, package, report, governor, ocasiocortez, andrew cuomo, manhattan,\n",
      "Topic #39: fbi, comey, clinton, investigation, strzok, mccabe, intelligence, memo, director, page, department, hillary, information, james, email, justice, dossier, james comey, fbi director, campaign,\n",
      "Topic #40: border, migrant, caravan, immigration, mexico, asylum, immigrant, country, illegal, cross, mexican, states, united states, wall, law, honduras, security, troop, illegally, migrant caravan,\n",
      "Topic #41: black friday, black, amazon, deal, friday, price, sale, store, shop, product, discount, retailer, best, offer, cyber monday, christmas, item, cyber, day, shopping,\n",
      "Topic #42: storm, hurricane, wind, rain, florence, weather, carolina, area, flood, coast, water, island, north, hurricane florence, puerto, south, north carolina, hit, florida, temperature,\n",
      "Topic #43: film, movie, star, character, actor, series, role, hollywood, festival, cast, netflix, actress, year, play, music, release, director, drama, comedy, feature,\n",
      "Topic #44: abortion, planned, planned parenthood, parenthood, roe, pregnancy, prolife, right, baby, woman, law, roe wade, wade, clinic, life, state, ban, abortion right, health, reproductive,\n",
      "Topic #45: climate, climate change, change, pruitt, epa, energy, environmental, emission, agency, gas, global, administration, carbon, warm, science, oil, california, government, report, scientist,\n",
      "Topic #46: meghan, royal, prince, harry, wedding, duchess, markle, prince harry, princess, queen, meghan markle, duke, eugenie, windsor, sussex, dress, couple, duchess sussex, palace, harry meghan,\n",
      "Topic #47: israel, israeli, gaza, palestinian, palestinians, hamas, jerusalem, netanyahu, embassy, protest, jewish, minister, gaza strip, strip, prime minister, prime, peace, idf, kill, israels,\n",
      "Topic #48: game, team, player, play, win, england, cup, season, world, match, world cup, score, coach, second, sport, ball, football, goal, final, start,\n",
      "Topic #49: flight, passenger, plane, car, airport, airline, air, aircraft, pilot, crew, crash, space, driver, vehicle, travel, fly, land, ryanair, service, road,\n",
      "\n"
     ]
    }
   ],
   "source": [
    "print_top_words(nmf50_2, nmf2_word, n_top_words)"
   ]
  },
  {
   "cell_type": "markdown",
   "metadata": {},
   "source": [
    "### nmf  75 topics\n",
    "\n",
    "#### ngram(1,1)"
   ]
  },
  {
   "cell_type": "markdown",
   "metadata": {},
   "source": [
    "tf_gram1= set_vectorizer(ngram_range = (1, 1))\n",
    "\n",
    "gram1_data = tf_gram1.fit_transform(data_samples)\n",
    "\n",
    "nmf_word = tf_gram1.get_feature_names()"
   ]
  },
  {
   "cell_type": "code",
   "execution_count": 40,
   "metadata": {},
   "outputs": [],
   "source": [
    "nmf75 = NMF(n_components = 75).fit(gram1_data)"
   ]
  },
  {
   "cell_type": "code",
   "execution_count": 41,
   "metadata": {},
   "outputs": [
    {
     "name": "stdout",
     "output_type": "stream",
     "text": [
      "Topic #0: think, just, dont, thing, know, want, im, really, people, thats, make, way, lot, good, look, feel, need, time, youre, talk,\n",
      "Topic #1: nginx, forbidden, asylum, tigar, rule, ban, guard, order, chinese, chau, conference, potter, annoy, smoking, apparently, tourist, islamic, displeasure, reporting, footage,\n",
      "Topic #2: trump, donald, administration, trumps, meeting, campaign, tweet, rally, melania, supporter, summit, tower, ivanka, presidency, republican, america, bad, attack, ally, midterm,\n",
      "Topic #3: democrats, republicans, republican, democratic, party, senate, seat, house, candidate, district, race, gop, pelosi, win, primary, election, congressional, democrat, majority, midterm,\n",
      "Topic #4: league, club, manchester, mourinho, premier, united, chelsea, season, arsenal, liverpool, player, jose, champions, goal, madrid, manager, pogba, getty, summer, tottenham,\n",
      "Topic #5: der, die, und, den, von, zu, mit, da, das, auf, fur, sich, dem, eine, ein, nicht, ist, auch, sie, nach,\n",
      "Topic #6: military, defense, force, space, war, missile, pentagon, nato, troop, air, army, mattis, afghanistan, parade, soldier, spending, arm, aircraft, exercise, mission,\n",
      "Topic #7: russian, russia, putin, moscow, vladimir, election, sanction, meeting, foreign, intelligence, ukraine, russias, kremlin, skripal, russians, sergei, helsinki, ukrainian, ministry, meddling,\n",
      "Topic #8: north, korea, kim, korean, summit, nuclear, south, jong, meeting, pyongyang, denuclearization, pompeo, leader, moon, singapore, jongun, peninsula, koreas, peace, test,\n",
      "Topic #9: brexit, eu, deal, uk, minister, theresa, prime, britain, european, mrs, mps, referendum, ireland, union, agreement, labour, brussels, vote, chequers, tory,\n",
      "Topic #10: turkey, turkish, erdogan, brunson, ankara, pastor, lira, tayyip, recep, sanction, gulen, turkeys, nato, coup, currency, release, kurdish, country, istanbul, afrin,\n",
      "Topic #11: immigration, immigrant, ice, law, illegal, policy, administration, enforcement, border, daca, sessions, federal, citizenship, program, deportation, family, undocumented, government, legal, department,\n",
      "Topic #12: saudi, khashoggi, arabia, consulate, prince, jamal, crown, salman, journalist, kill, murder, istanbul, bin, riyadh, saudis, mohammed, kingdom, khashoggis, disappearance, turkish,\n",
      "Topic #13: rate, market, price, year, bank, economy, cent, growth, increase, high, rise, economic, low, oil, financial, stock, job, cost, average, inflation,\n",
      "Topic #14: policy, pj, cookie, encourages, privacy, media, update, read, subscribe, foreign, inbox, thank, directly, mrc, cooky, newsbusters, terms, complete, browser, administration,\n",
      "Topic #15: school, student, teacher, education, high, university, college, campus, shoot, district, class, pupil, classroom, parkland, stoneman, douglas, kid, florida, teach, students,\n",
      "Topic #16: police, officer, man, arrest, incident, suspect, report, attack, shot, scene, victim, hospital, shoot, kill, investigation, crime, cop, injured, street, local,\n",
      "Topic #17: cohen, michael, payment, cohens, giuliani, lawyer, attorney, raid, mcdougal, prosecutor, campaign, tape, federal, davis, legal, trumps, personal, client, finance, trump,\n",
      "Topic #18: facebook, data, user, zuckerberg, cambridge, analytica, facebooks, ad, privacy, information, app, social, platform, use, page, content, access, mark, campaign, firm,\n",
      "Topic #19: white, house, sanders, press, kelly, staff, acosta, secretary, porter, sarah, aide, reporter, cnn, hicks, omarosa, manigault, administration, huckabee, chief, newman,\n",
      "Topic #20: ford, committee, senate, judiciary, brett, allegation, blasey, hearing, assault, christine, kavanaughs, nominee, fords, senator, vote, grassley, confirmation, testimony, testify, supreme,\n",
      "Topic #21: iran, nuclear, sanction, iranian, deal, tehran, oil, jcpoa, rouhani, united, irans, agreement, states, pompeo, foreign, program, regime, european, country, reimpose,\n",
      "Topic #22: city, mayor, council, building, local, area, park, street, resident, housing, chicago, community, town, home, london, hotel, san, birmingham, site, centre,\n",
      "Topic #23: china, tariff, trade, chinese, import, beijing, steel, war, chinas, impose, good, aluminum, states, xi, product, country, united, export, economic, american,\n",
      "Topic #24: manafort, gates, trial, manaforts, paul, campaign, bank, charge, prosecutor, ellis, fraud, witness, guilty, jury, virginia, plea, judge, case, mueller, muellers,\n",
      "Topic #25: macron, french, france, european, world, europe, germany, german, paris, merkel, cup, nato, emmanuel, country, war, italy, leader, chancellor, eu, union,\n",
      "Topic #26: syria, syrian, attack, chemical, terrorist, idlib, damascus, weapon, militant, assad, strike, government, group, civilian, province, force, ghouta, military, isis, douma,\n",
      "Topic #27: say, told, add, ask, comment, statement, interview, want, monday, people, tuesday, wednesday, believe, thursday, spokesman, sunday, happen, come, talk, asked,\n",
      "Topic #28: mr, ms, labour, corbyn, party, mrs, johnson, defence, minister, accuse, mp, criticise, stokes, leader, say, bbc, antisemitism, claimed, claim, told,\n",
      "Topic #29: gun, nra, shoot, firearm, control, rifle, parkland, weapon, violence, law, florida, amendment, shooting, mass, ban, arm, background, kill, shooter, stoneman,\n",
      "Topic #30: email, check, post, blog, newsbusters, sorry, sent, address, share, fail, read, complete, try, mrc, link, article, click, story, washington, pay,\n",
      "Topic #31: percent, poll, voter, survey, americans, rating, approval, respondent, point, accord, republicans, percentage, likely, number, margin, compare, polling, disapprove, conduct, high,\n",
      "Topic #32: woman, men, female, women, gender, male, man, young, metoo, feminist, girl, sex, sexual, movement, wear, equality, transgender, assault, rape, womens,\n",
      "Topic #33: family, life, home, love, friend, son, day, death, daughter, mother, father, die, wife, time, baby, mum, told, husband, year, boy,\n",
      "Topic #34: hurricane, storm, wind, florence, rain, weather, carolina, coast, flood, puerto, florida, island, area, water, north, hit, rico, landfall, south, expect,\n",
      "Topic #35: mueller, counsel, investigation, special, attorney, robert, sessions, rosenstein, muellers, probe, giuliani, general, lawyer, team, whitaker, collusion, justice, russia, legal, question,\n",
      "Topic #36: mccain, john, senator, mccains, arizona, senate, cancer, war, service, vietnam, meghan, republican, brain, biden, funeral, memorial, honor, bush, hero, graham,\n",
      "Topic #37: vote, election, voter, ballot, voting, florida, county, recount, race, abrams, kemp, count, georgia, scott, midterm, nelson, gillum, candidate, broward, cast,\n",
      "Topic #38: court, supreme, judge, justice, case, nominee, law, brett, circuit, ruling, confirmation, decision, kennedy, conservative, rule, federal, appeal, kavanaughs, judicial, nomination,\n",
      "Topic #39: star, series, brother, celebrity, big, strictly, tv, dance, bbc, year, channel, love, fan, reveal, dancing, host, episode, sun, night, itv,\n",
      "Topic #40: people, party, country, group, political, right, government, america, protest, american, violence, community, speech, americans, conservative, politics, human, freedom, movement, leader,\n",
      "Topic #41: child, parent, family, separate, kid, separation, reunite, mother, adult, policy, baby, administration, boy, detention, young, custody, age, abuse, reunification, girl,\n",
      "Topic #42: health, drug, patient, care, hospital, study, disease, medical, mental, people, treatment, cancer, doctor, use, research, condition, insurance, nhs, test, risk,\n",
      "Topic #43: black, friday, deal, sale, price, discount, store, best, christmas, retailer, offer, cyber, item, shop, product, day, shopping, online, buy, monday,\n",
      "Topic #44: tax, cut, budget, spending, pay, income, government, deficit, money, benefit, revenue, federal, fiscal, plan, increase, fund, program, debt, funding, reform,\n",
      "Topic #45: meghan, prince, royal, harry, wedding, duchess, markle, princess, queen, duke, eugenie, windsor, sussex, dress, palace, couple, kate, baby, william, castle,\n",
      "Topic #46: canada, minister, trade, canadian, trudeau, nafta, prime, mexico, agreement, deal, government, justin, tariff, canadas, g7, freeland, united, canadians, ottawa, leader,\n",
      "Topic #47: israel, israeli, gaza, palestinian, palestinians, hamas, jerusalem, netanyahu, embassy, strip, protest, jewish, minister, idf, peace, kill, israels, israelis, prime, tel,\n",
      "Topic #48: new, york, times, cuomo, nixon, jersey, ocasiocortez, book, oped, andrew, blasio, yorker, package, manhattan, zealand, cynthia, yorkers, report, yorks, accord,\n",
      "Topic #49: security, intelligence, clearance, cia, brennan, official, national, director, haspel, agency, committee, information, john, government, clapper, bolton, pompeo, administration, revoke, secretary,\n",
      "Topic #50: fbi, investigation, strzok, page, department, justice, mccabe, agent, text, nunes, doj, document, fisa, information, memo, committee, steele, rosenstein, general, dossier,\n",
      "Topic #51: president, trumps, putin, donald, pence, vice, states, united, american, tweet, bush, leader, presidential, visit, vladimir, office, monday, think, tuesday, press,\n",
      "Topic #52: slideshow, times, instagram, photo, stripped, model, internet, ratchford, skriver, josephine, hoopes, wearing, hottest, abigail, blonde, samantha, bikini, bombshell, clothes, women,\n",
      "Topic #53: flight, passenger, plane, airport, airline, aircraft, air, pilot, crew, ryanair, fly, travel, airlines, land, jet, crash, board, crashed, boeing, aviation,\n",
      "Topic #54: clinton, campaign, hillary, clintons, election, presidential, candidate, email, democratic, wikileaks, stone, dnc, political, hack, lewinsky, server, sanders, assange, run, indictment,\n",
      "Topic #55: border, migrant, caravan, mexico, asylum, mexican, cross, honduras, tijuana, troop, central, southern, wall, country, patrol, guatemala, entry, states, united, agent,\n",
      "Topic #56: game, team, player, season, play, win, england, match, cup, score, football, goal, coach, league, ball, second, played, start, world, fan,\n",
      "Topic #57: comey, james, fbi, director, book, memo, mccabe, comeys, leak, loyalty, flynn, lie, interview, clinton, stephanopoulos, higher, investigation, classify, write, email,\n",
      "Topic #58: cbsn, watch, kerry, live, video, john, apple, haley, stream, walter, sky, nikki, sports, interview, haaland, voter, tv, face, caravan, amy,\n",
      "Topic #59: pm, updated, edt, posted, august, september, october, november, reynolds, glenn, smith, helen, est, hot, 10th, hour, mrs, 20th, thread, green,\n",
      "Topic #60: abortion, planned, parenthood, roe, prolife, pregnancy, baby, right, wade, law, clinic, ban, life, reproductive, woman, overturn, health, unborn, antiabortion, pill,\n",
      "Topic #61: film, movie, star, character, actor, hollywood, festival, role, netflix, story, cast, actress, play, director, release, disney, comedy, series, cinema, screen,\n",
      "Topic #62: obama, barack, package, michelle, obamas, administration, bomb, bush, lady, cnn, device, george, suspicious, sayoc, sent, soros, presidency, mail, office, explosive,\n",
      "Topic #63: company, google, business, apple, employee, tesla, musk, ceo, technology, tech, firm, executive, customer, product, service, search, work, sell, investor, industry,\n",
      "Topic #64: climate, pruitt, epa, change, energy, environmental, agency, gas, emission, carbon, pruitts, administrator, global, science, warm, oil, water, coal, report, scientist,\n",
      "Topic #65: car, driver, vehicle, road, drive, crash, park, uber, traffic, bus, speed, scene, accident, tesla, injury, collision, pedestrian, electric, truck, selfdriving,\n",
      "Topic #66: state, california, governor, law, primary, secretary, department, gov, federal, general, pompeo, legislature, republican, county, race, illinois, democratic, attorney, district, ohio,\n",
      "Topic #67: prison, sentence, charge, arrest, drug, jail, crime, guilty, murder, criminal, case, year, trial, convict, prosecutor, release, court, plead, death, county,\n",
      "Topic #68: twitter, tweet, medium, account, video, social, post, jones, write, user, platform, youtube, comment, infowars, ban, follower, fake, online, content, photo,\n",
      "Topic #69: news, fox, cnn, network, medium, report, hannity, fake, host, press, story, nbc, reporter, daily, outlet, acosta, journalist, cable, cbs, coverage,\n",
      "Topic #70: amazon, save, deals, updated, used, products, shop, amazons, hour, bezos, hot, alexa, deep, echo, worker, prime, store, deal, service, device,\n",
      "Topic #71: reader, wing, support, watch, content, right, intolerant, donation, farright, nonprofit, project, contribution, rightwing, shed, dedicate, source, driven, organization, extreme, staff,\n",
      "Topic #72: sexual, abuse, allegation, assault, sex, church, victim, harassment, report, weinstein, accuse, misconduct, rape, catholic, pope, claim, allege, metoo, priest, accusation,\n",
      "Topic #73: daniels, avenatti, stormy, lawyer, michael, porn, affair, clifford, agreement, lawsuit, star, attorney, allege, claim, payment, sue, interview, nondisclosure, stephanie, legal,\n",
      "Topic #74: fight, mcgregor, ufc, nurmagomedov, khabib, sport, boxing, wilder, fury, conor, title, champion, joshua, fighter, mayweather, octagon, lightweight, bout, round, vegas,\n",
      "\n"
     ]
    }
   ],
   "source": [
    "print_top_words(nmf75, nmf_word, n_top_words)"
   ]
  },
  {
   "cell_type": "markdown",
   "metadata": {},
   "source": [
    "#### ngram(1,2)\n",
    "tf_gram2= set_vectorizer(ngram_range = (1, 2))\n",
    "\n",
    "gram2_data = tf_gram2.fit_transform(data_samples)\n",
    "\n",
    "nmf2_word = tf_gram2.get_feature_names()"
   ]
  },
  {
   "cell_type": "code",
   "execution_count": 42,
   "metadata": {},
   "outputs": [],
   "source": [
    "nmf75_2 = NMF(n_components =75).fit(gram2_data)"
   ]
  },
  {
   "cell_type": "code",
   "execution_count": 43,
   "metadata": {},
   "outputs": [
    {
     "name": "stdout",
     "output_type": "stream",
     "text": [
      "Topic #0: think, just, dont, thing, know, want, im, really, people, thats, make, way, lot, good, look, feel, time, youre, need, talk,\n",
      "Topic #1: nginx, forbidden nginx, forbidden, rule, asylum, ban, guard, order, apparently, potter, harry potter, annoy, islamic, tourist, smoking, displeasure, conference, broadway, chinese, loses,\n",
      "Topic #2: trump, donald, donald trump, trump say, trumps, tweet, campaign, president donald, administration, president, say trump, president trump, trump administration, meeting, rally, trump tweet, trump told, trump campaign, melania, supporter,\n",
      "Topic #3: putin, vladimir, vladimir putin, meeting, russian president, russian, russia, president vladimir, intelligence, summit, election, helsinki, president, putin say, putins, kremlin, conference, cia, security, coats,\n",
      "Topic #4: der, die, und, den, von, zu, mit, da, das, auf, fur, sich, dem, eine, ein, nicht, ist, auch, sie, nach,\n",
      "Topic #5: league, club, premier league, premier, season, chelsea, arsenal, liverpool, goal, villa, player, football, manchester, wolves, champions, champions league, match, madrid, tottenham, summer,\n",
      "Topic #6: candidate, democratic, republican, race, party, district, primary, campaign, state, election, seat, democrats, run, win, governor, congressional, won, gop, democrat, incumbent,\n",
      "Topic #7: russian, russia, moscow, foreign, sanction, skripal, ukraine, ministry, russias, ukrainian, sergei, poison, diplomat, salisbury, agent, russians, russian foreign, intelligence, spy, nerve agent,\n",
      "Topic #8: north, korea, kim, north korea, korean, summit, north korean, nuclear, south, jong, south korea, pyongyang, kim jong, denuclearization, pompeo, meeting, leader, moon, singapore, korean leader,\n",
      "Topic #9: brexit, eu, deal, uk, britain, european, theresa, mrs, referendum, ireland, vote, mps, labour, agreement, union, brussels, brexit deal, chequers, northern ireland, leave,\n",
      "Topic #10: macron, french, european, france, germany, nato, europe, german, merkel, war, paris, french president, emmanuel, emmanuel macron, eu, country, union, world war, world, president emmanuel,\n",
      "Topic #11: court, supreme, supreme court, judge, justice, case, law, nominee, ruling, circuit, brett, decision, federal, confirmation, kennedy, appeal, rule, judicial, conservative, legal,\n",
      "Topic #12: saudi, khashoggi, arabia, saudi arabia, consulate, prince, crown prince, jamal, crown, turkish, jamal khashoggi, salman, journalist, istanbul, kill, murder, bin, turkey, riyadh, saudis,\n",
      "Topic #13: cohen, daniels, michael, avenatti, michael cohen, payment, lawyer, stormy, stormy daniels, cohens, giuliani, attorney, affair, legal, mcdougal, trump, client, clifford, michael avenatti, raid,\n",
      "Topic #14: policy, cookie policy, encourages read, policy cookie, media encourages, update privacy, read update, pj media, privacy policy, cookie, pj, encourages, privacy, media, update, read, subscribe, foreign policy, inbox, foreign,\n",
      "Topic #15: school, student, teacher, high school, education, high, university, college, campus, shoot, class, district, pupil, school district, classroom, parkland, kid, stoneman, stoneman douglas, douglas,\n",
      "Topic #16: people, group, country, right, political, party, american, community, america, white, government, violence, human, speech, black, americans, hate, politics, world, freedom,\n",
      "Topic #17: police, officer, arrest, man, police say, suspect, incident, police officer, report, attack, shot, victim, crime, scene, charge, shoot, kill, hospital, murder, investigation,\n",
      "Topic #18: facebook, data, user, zuckerberg, cambridge, analytica, cambridge analytica, google, information, privacy, facebooks, app, ad, use, mark zuckerberg, platform, access, page, campaign, facebook user,\n",
      "Topic #19: white, white house, house, sanders, kelly, press, staff, secretary, acosta, porter, official, press secretary, administration, sarah, house press, security, aide, cnn, chief staff, clearance,\n",
      "Topic #20: ford, committee, senate, allegation, judiciary, brett, blasey, judiciary committee, hearing, assault, christine, blasey ford, senate judiciary, kavanaughs, christine blasey, nominee, fords, senator, grassley, supreme court,\n",
      "Topic #21: big brother, series, star, brother, celebrity, strictly, big, dance, tv, bbc, dancing, channel, love, come dancing, strictly come, reveal, celebrity big, year, fan, host,\n",
      "Topic #22: iran, nuclear, sanction, iranian, deal, nuclear deal, tehran, oil, jcpoa, iran nuclear, rouhani, irans, agreement, pompeo, foreign, sanction iran, program, nuclear program, regime, iran deal,\n",
      "Topic #23: china, chinese, beijing, chinas, xi, trade, taiwan, south china, military, india, china sea, sea, country, economic, war, xi jinping, jinping, global, south, trade war,\n",
      "Topic #24: manafort, gates, trial, charge, manaforts, paul manafort, paul, campaign, bank, prosecutor, guilty, fraud, ellis, jury, case, witness, judge, plead guilty, trump campaign, plead,\n",
      "Topic #25: child, parent, family, separate, immigration, policy, administration, separation, kid, immigrant, reunite, detention, trump administration, child parent, mother, adult, separate parent, ice, baby, child separate,\n",
      "Topic #26: woman, men, female, women, gender, male, man, men woman, woman say, young woman, young, say woman, girl, feminist, sex, metoo, wear, black woman, black, white woman,\n",
      "Topic #27: mr, mr trump, ms, say mr, labour, corbyn, say, party, defence, mr johnson, mr corbyn, mrs, accuse, stokes, johnson, court, criticise, mr trumps, mr cohen, mp,\n",
      "Topic #28: democrats, republicans, house, pelosi, senate, vote, majority, congress, leader, speaker, republican, gop, ryan, mcconnell, democratic, nancy, immigration, caucus, midterm, nancy pelosi,\n",
      "Topic #29: family, life, death, home, love, friend, son, daughter, die, mother, father, year, day, wife, baby, husband, kill, girl, murder, boy,\n",
      "Topic #30: gun, gun control, nra, shoot, firearm, control, rifle, parkland, law, weapon, violence, gun violence, amendment, shooting, florida, mass, second amendment, ban, background check, arm,\n",
      "Topic #31: game, season, play, team, win, score, goal, second, ball, start, point, minute, run, coach, player, inning, pitch, time, yard, played,\n",
      "Topic #32: check, post, blog, email, newsbusters, share post, email address, read, sorry, sent, address, complete, share, fail, try, link, article, cross, washington post, washington,\n",
      "Topic #33: percent, poll, voter, survey, percent say, rate, rating, americans, percent percent, approval, point, high, number, republicans, increase, economy, average, low, approval rating, respondent,\n",
      "Topic #34: mourinho, manchester, united, manchester united, jose, jose mourinho, pogba, trafford, old trafford, old, paul pogba, paul, juventus, player, sanchez, manager, club, uniteds, red devils, devils,\n",
      "Topic #35: syria, syrian, military, attack, force, chemical, terrorist, weapon, defense, missile, war, militant, idlib, chemical weapon, damascus, strike, government, group, assad, civilian,\n",
      "Topic #36: vote, election, voter, ballot, state, county, voting, florida, recount, abrams, kemp, georgia, count, scott, race, governor, nelson, broward, registration, gillum,\n",
      "Topic #37: mccain, john, john mccain, senator, mccains, arizona, senate, war, service, cancer, brain cancer, vietnam, meghan mccain, senator john, meghan, brain, republican, bush, funeral, haspel,\n",
      "Topic #38: new, york, new york, times, york times, cuomo, york city, nixon, times report, package, report, andrew cuomo, york state, jersey, ocasiocortez, oped, new jersey, manhattan, blasio, state,\n",
      "Topic #39: fbi, comey, clinton, investigation, strzok, mccabe, page, intelligence, memo, director, hillary, information, james, james comey, dossier, fbi director, email, campaign, agent, steele,\n",
      "Topic #40: food, space, london, year, hotel, home, restaurant, new, water, design, park, look, day, use, include, christmas, open, room, make, art,\n",
      "Topic #41: black, black friday, friday, deal, price, sale, discount, cyber monday, cyber, retailer, best, offer, best deal, item, shopping, shop, store, christmas, monday, friday cyber,\n",
      "Topic #42: health, drug, patient, care, disease, study, hospital, medical, mental, people, treatment, cancer, health care, doctor, mental health, use, research, risk, test, condition,\n",
      "Topic #43: hurricane, storm, wind, florence, rain, carolina, weather, flood, coast, hurricane florence, puerto, island, north, florida, area, north carolina, water, hit, landfall, puerto rico,\n",
      "Topic #44: news, fox, fox news, cnn, network, hannity, host, fake, nbc, report, daily, fake news, press, medium, reporter, sean, outlet, cable, caller, viewer,\n",
      "Topic #45: meghan, royal, prince, harry, wedding, duchess, markle, prince harry, princess, queen, meghan markle, duke, eugenie, windsor, sussex, duchess sussex, dress, couple, palace, harry meghan,\n",
      "Topic #46: sessions, attorney, attorney general, general, rosenstein, department, justice, justice department, jeff sessions, jeff, whitaker, general jeff, law, deputy, deputy attorney, rod, rod rosenstein, investigation, recuse, federal,\n",
      "Topic #47: trade, tariff, canada, steel, import, trade war, aluminum, nafta, mexico, steel aluminum, agreement, farmer, impose, war, deal, good, american, product, market, export,\n",
      "Topic #48: england, cup, world, world cup, match, team, player, sport, croatia, tournament, test, final, play, win, fifa, southgate, squad, captain, best, football,\n",
      "Topic #49: pay, story, video, sun, click, pay video, video click, upload, click upload, sun online, online, email, pay story, story sun, team email, story story, email tip, news team, online news, tip,\n",
      "Topic #50: slideshow, slideshow times, times, instagram, photo, stripped, model, skriver, wearing clothes, josephine skriver, internet, josephine, blonde bombshell, wearing, hottest, abigail, blonde, samantha, bikini, bombshell,\n",
      "Topic #51: israel, israeli, gaza, palestinian, palestinians, hamas, jerusalem, netanyahu, embassy, gaza strip, strip, jewish, protest, idf, peace, kill, israels, israelis, border, tel,\n",
      "Topic #52: player, nfl, anthem, national anthem, kaepernick, protest, football, team, national, kneel, nike, quarterback, stand, coach, colin, sport, league, nfl player, 49ers, colin kaepernick,\n",
      "Topic #53: flight, plane, passenger, airline, airport, air, aircraft, pilot, crew, ryanair, fly, jet, land, travel, airlines, crash, board, crashed, boeing, aviation,\n",
      "Topic #54: pm, updated, edt, august, september, october, reynolds, november, glenn, smith, helen, est, hot, 10th, hour, 20th, mrs, thread, stephen, green,\n",
      "Topic #55: city, mayor, council, resident, chicago, local, housing, building, san, california, area, city council, street, community, guardiola, los, manchester city, york city, san francisco, francisco,\n",
      "Topic #56: president, obama, president trump, trumps, clinton, barack, bush, barack obama, president donald, pence, vice president, vice, president barack, president trumps, biden, hillary, obamas, presidential, george, tweet,\n",
      "Topic #57: tax, cut, budget, tax cut, rate, spending, government, year, economy, pay, increase, income, economic, growth, money, debt, deficit, federal, cost, bank,\n",
      "Topic #58: film, movie, star, character, actor, hollywood, role, actress, netflix, cast, series, play, festival, release, story, director, comedy, drama, disney, screen,\n",
      "Topic #59: medium, twitter, social, social medium, tweet, account, post, video, jones, platform, user, write, youtube, fake, instagram, comment, infowars, content, follower, photo,\n",
      "Topic #60: amazon, deals, save, used, shop, updated, hour, amazons, deep, hot, bezos, alexa, deal, store, echo, device, worker, prime, service, book,\n",
      "Topic #61: climate, climate change, pruitt, change, epa, energy, environmental, emission, gas, agency, global, oil, carbon, warm, administration, science, california, report, global warm, scientist,\n",
      "Topic #62: say, told, add, statement, ask, comment, trump say, interview, want, people, monday, tuesday, wednesday, say say, say statement, say want, believe, thursday, official say, spokesman,\n",
      "Topic #63: minister, prime, prime minister, government, trudeau, canada, canadian, party, leader, meeting, justin, foreign, justin trudeau, india, parliament, minister justin, country, cabinet, canadas, mps,\n",
      "Topic #64: mueller, special counsel, counsel, special, investigation, robert, robert mueller, muellers, giuliani, counsel robert, probe, team, collusion, lawyer, stone, election, mueller investigation, legal, russia, question,\n",
      "Topic #65: united, states, united states, american, country, united nations, nations, president united, foreign, america, nation, citizen, treaty, state, haley, administration, world, citizenship, washington, united kingdom,\n",
      "Topic #66: car, driver, vehicle, road, drive, crash, park, uber, traffic, injury, tesla, bus, accident, speed, scene, collision, selfdriving, pedestrian, truck, electric,\n",
      "Topic #67: fight, mcgregor, ufc, nurmagomedov, khabib, sport, boxing, wilder, fury, title, conor, joshua, champion, fighter, mayweather, conor mcgregor, octagon, bout, vegas, khabib nurmagomedov,\n",
      "Topic #68: sexual, abuse, allegation, assault, sex, victim, harassment, sexual assault, church, weinstein, report, accuse, rape, sexual harassment, misconduct, sexual abuse, charge, allege, claim, pope,\n",
      "Topic #69: abortion, planned, planned parenthood, parenthood, roe, pregnancy, prolife, baby, law, right, roe wade, wade, clinic, state, ban, abortion right, life, woman, reproductive, health,\n",
      "Topic #70: company, business, google, market, apple, tesla, musk, ceo, employee, customer, firm, investor, stock, price, year, executive, product, sell, technology, tech,\n",
      "Topic #71: border, migrant, caravan, mexico, asylum, immigration, immigrant, cross, mexican, illegal, wall, troop, migrant caravan, honduras, country, tijuana, southern border, security, border patrol, southern,\n",
      "Topic #72: cbsn, watch, face nation, kerry, apple, john kerry, live, migrant caravan, video, stream, sky, sports, tv, haley, caravan, john mccain, john, interview, nikki haley, nikki,\n",
      "Topic #73: wing watch, right wing, reader, wing, content, watch, support, american way, make contribution, intolerant, political organization, right, shed light, donation, farright, nonprofit, contribution, project, work hard, rightwing,\n",
      "Topic #74: cruz, orourke, texas, ted, beto, ted cruz, beto orourke, senate, poll, cruzs, senator, orourkes, campaign, race, houston, paso, el paso, rally, cruz say, debate,\n",
      "\n"
     ]
    }
   ],
   "source": [
    "print_top_words(nmf75_2, nmf2_word, n_top_words)"
   ]
  },
  {
   "cell_type": "markdown",
   "metadata": {},
   "source": [
    "### 100 topics \n",
    "\n",
    "n_components = 100\n",
    "\n",
    "#### ngram(1,1)"
   ]
  },
  {
   "cell_type": "markdown",
   "metadata": {},
   "source": [
    "tf_gram1= set_vectorizer(ngram_range = (1, 1))\n",
    "\n",
    "gram1_data = tf_gram1.fit_transform(data_samples)\n",
    "\n",
    "nmf_word = tf_gram1.get_feature_names()"
   ]
  },
  {
   "cell_type": "code",
   "execution_count": 44,
   "metadata": {},
   "outputs": [],
   "source": [
    "nmf_100 = NMF(n_components =100).fit(gram1_data)"
   ]
  },
  {
   "cell_type": "code",
   "execution_count": 45,
   "metadata": {},
   "outputs": [
    {
     "name": "stdout",
     "output_type": "stream",
     "text": [
      "Topic #0: think, just, dont, thing, know, want, im, really, thats, make, way, good, look, lot, feel, time, youre, talk, need, try,\n",
      "Topic #1: nginx, forbidden, asylum, tigar, ban, rule, guard, chinese, chau, order, annoy, potter, smoking, conference, apparently, displeasure, islamic, footage, tourist, reporting,\n",
      "Topic #2: trump, donald, administration, trumps, campaign, tweet, rally, meeting, melania, supporter, tower, presidency, ivanka, america, republican, reporter, golf, bad, election, ally,\n",
      "Topic #3: republican, race, candidate, democratic, district, democrats, seat, primary, republicans, gop, win, campaign, run, senate, congressional, won, democrat, election, incumbent, governor,\n",
      "Topic #4: game, season, play, team, win, score, goal, second, ball, start, point, coach, run, minute, player, inning, yard, played, pitch, yankees,\n",
      "Topic #5: der, die, und, den, von, zu, mit, da, das, auf, fur, sich, dem, eine, ein, nicht, ist, auch, sie, nach,\n",
      "Topic #6: war, world, soldier, yemen, end, peace, conflict, afghanistan, iraq, military, year, american, ii, veteran, armistice, history, cold, taliban, civil, fight,\n",
      "Topic #7: russian, russia, moscow, foreign, sanction, skripal, ukraine, russias, ministry, sergei, ukrainian, russians, diplomat, poison, salisbury, agent, intelligence, election, kremlin, butina,\n",
      "Topic #8: north, korea, kim, korean, summit, nuclear, south, jong, pyongyang, denuclearization, meeting, pompeo, leader, singapore, moon, jongun, koreas, peninsula, weapon, talk,\n",
      "Topic #9: brexit, eu, uk, minister, theresa, britain, european, prime, mrs, ireland, referendum, mps, brussels, union, chequers, british, cabinet, tory, leave, custom,\n",
      "Topic #10: turkey, turkish, erdogan, brunson, ankara, pastor, lira, tayyip, recep, gulen, turkeys, sanction, coup, nato, currency, release, kurdish, istanbul, country, afrin,\n",
      "Topic #11: immigration, immigrant, ice, illegal, law, policy, enforcement, border, administration, daca, citizenship, undocumented, family, deportation, alien, customs, legal, illegally, country, separation,\n",
      "Topic #12: saudi, khashoggi, arabia, consulate, prince, jamal, crown, salman, journalist, murder, istanbul, bin, kill, riyadh, saudis, mohammed, kingdom, khashoggis, disappearance, turkish,\n",
      "Topic #13: rate, price, market, bank, cent, economy, year, growth, rise, increase, high, economic, low, oil, stock, financial, inflation, average, cost, fed,\n",
      "Topic #14: policy, pj, cookie, encourages, privacy, media, update, read, subscribe, foreign, inbox, thank, administration, mrc, directly, cooky, newsbusters, complete, terms, browser,\n",
      "Topic #15: school, teacher, high, education, shoot, pupil, district, student, kid, classroom, parkland, florida, stoneman, shooter, douglas, arm, county, shooting, marjory, parent,\n",
      "Topic #16: police, officer, arrest, man, incident, suspect, report, scene, shot, hospital, victim, investigation, cop, shoot, street, crime, local, station, area, information,\n",
      "Topic #17: cohen, michael, payment, cohens, giuliani, lawyer, attorney, raid, mcdougal, campaign, prosecutor, tape, davis, federal, legal, personal, client, trumps, finance, trump,\n",
      "Topic #18: facebook, data, user, zuckerberg, cambridge, analytica, facebooks, ad, privacy, information, social, platform, app, page, campaign, use, content, mark, firm, access,\n",
      "Topic #19: white, house, kelly, staff, porter, aide, omarosa, hicks, manigault, newman, official, chief, secretary, administration, kushner, book, jackson, senior, adviser, mcgahn,\n",
      "Topic #20: ford, committee, blasey, judiciary, senate, allegation, hearing, brett, christine, assault, fords, grassley, testify, kavanaughs, testimony, nominee, feinstein, senator, judge, supreme,\n",
      "Topic #21: iran, sanction, nuclear, iranian, tehran, oil, jcpoa, rouhani, irans, united, states, pompeo, foreign, regime, european, program, country, reimpose, administration, iranians,\n",
      "Topic #22: food, london, hotel, restaurant, christmas, water, day, animal, park, dog, store, year, room, open, include, bar, eat, street, look, visit,\n",
      "Topic #23: china, tariff, trade, chinese, import, beijing, steel, chinas, impose, good, aluminum, product, xi, export, economic, country, states, economy, american, administration,\n",
      "Topic #24: manafort, gates, trial, manaforts, paul, campaign, bank, charge, prosecutor, fraud, ellis, witness, guilty, jury, virginia, plea, chairman, ukraine, plead, juror,\n",
      "Topic #25: macron, french, france, european, europe, germany, german, merkel, nato, paris, emmanuel, eu, country, chancellor, union, italy, leader, angela, visit, world,\n",
      "Topic #26: sexual, abuse, allegation, assault, sex, victim, harassment, weinstein, accuse, report, misconduct, church, rape, metoo, allege, claim, accusation, sexually, pope, catholic,\n",
      "Topic #27: say, told, add, ask, statement, comment, interview, want, tuesday, monday, wednesday, believe, thursday, spokesman, sunday, come, spoke, asked, talk, speaking,\n",
      "Topic #28: mr, ms, mrs, defence, labour, johnson, corbyn, accuse, criticise, stokes, minister, bbc, mp, claimed, court, say, heard, told, cent, dr,\n",
      "Topic #29: gun, nra, shoot, firearm, control, rifle, weapon, parkland, violence, law, florida, amendment, ban, shooting, mass, background, arm, stoneman, shooter, douglas,\n",
      "Topic #30: check, email, post, blog, newsbusters, sorry, sent, address, share, fail, read, complete, try, mrc, link, article, click, story, washington, background,\n",
      "Topic #31: percent, poll, voter, survey, americans, rating, approval, republicans, respondent, point, democrats, accord, percentage, number, likely, margin, compare, disapprove, polling, increase,\n",
      "Topic #32: drug, marijuana, death, use, opioid, cannabis, cocaine, heroin, fentanyl, overdose, patient, test, prescription, opioids, addiction, price, treatment, dealer, overdoses, epidemic,\n",
      "Topic #33: family, life, love, friend, son, daughter, death, mother, father, baby, wife, home, die, day, mum, husband, girl, time, told, boy,\n",
      "Topic #34: hurricane, storm, florence, wind, rain, carolina, weather, coast, flood, puerto, florida, island, north, area, hit, rico, landfall, water, category, tropical,\n",
      "Topic #35: mueller, counsel, special, investigation, robert, giuliani, muellers, probe, lawyer, team, collusion, stone, question, legal, russia, obstruction, election, trumps, witch, rudy,\n",
      "Topic #36: mccain, john, senator, mccains, arizona, cancer, service, meghan, vietnam, senate, brain, biden, funeral, honor, republican, memorial, graham, bush, hero, capitol,\n",
      "Topic #37: vote, senate, collins, senator, flake, mcconnell, nomination, republican, confirmation, manchin, republicans, murkowski, nominee, support, confirm, floor, voting, majority, gop, susan,\n",
      "Topic #38: court, supreme, justice, nominee, brett, confirmation, kennedy, kavanaughs, conservative, nomination, gorsuch, circuit, roe, confirm, judicial, ginsburg, roberts, hearing, decision, senate,\n",
      "Topic #39: star, series, brother, celebrity, big, strictly, tv, dance, bbc, channel, year, dancing, reveal, fan, episode, sun, love, itv, host, night,\n",
      "Topic #40: right, group, country, political, american, america, human, church, speech, religious, americans, freedom, conservative, government, nation, law, politics, power, violence, hate,\n",
      "Topic #41: child, parent, family, separate, kid, separation, reunite, policy, adult, mother, administration, baby, detention, boy, custody, young, abuse, reunification, age, border,\n",
      "Topic #42: news, fox, network, report, hannity, host, nbc, fake, story, medium, daily, cnn, outlet, sean, cable, abc, cbs, viewer, told, caller,\n",
      "Topic #43: deal, agreement, trade, sign, negotiate, offer, negotiation, best, agree, nuclear, nafta, contract, free, reach, friday, make, plea, discount, withdrawal, day,\n",
      "Topic #44: tax, cut, income, pay, revenue, deficit, budget, benefit, business, economic, corporate, corporation, reform, increase, growth, economy, wealthy, gop, republicans, treasury,\n",
      "Topic #45: new, york, times, cuomo, nixon, jersey, ocasiocortez, andrew, oped, yorker, blasio, cynthia, report, manhattan, yorkers, zealand, governor, cuomos, accord, yorks,\n",
      "Topic #46: canada, minister, trudeau, canadian, trade, prime, nafta, mexico, justin, agreement, tariff, canadas, g7, freeland, government, country, canadians, ottawa, foreign, quebec,\n",
      "Topic #47: israel, israeli, gaza, palestinian, palestinians, hamas, jerusalem, netanyahu, embassy, protest, strip, jewish, idf, minister, peace, israels, israelis, tel, aviv, prime,\n",
      "Topic #48: meghan, prince, royal, harry, wedding, duchess, markle, princess, queen, duke, eugenie, windsor, sussex, palace, dress, couple, kate, william, baby, charles,\n",
      "Topic #49: president, trumps, donald, pence, vice, states, tweet, bush, united, presidential, american, visit, office, congress, tuesday, washington, biden, think, monday, mike,\n",
      "Topic #50: prison, sentence, charge, arrest, jail, guilty, crime, year, murder, criminal, convict, court, release, trial, plead, prosecutor, case, inmate, count, prisoner,\n",
      "Topic #51: abortion, planned, parenthood, roe, prolife, pregnancy, baby, wade, law, clinic, right, ban, life, reproductive, woman, overturn, unborn, pill, antiabortion, facility,\n",
      "Topic #52: slideshow, times, instagram, photo, stripped, model, internet, ratchford, skriver, josephine, hoopes, wearing, hottest, abigail, blonde, samantha, bikini, bombshell, clothes, women,\n",
      "Topic #53: flight, plane, passenger, airport, airline, aircraft, pilot, air, crew, ryanair, fly, airlines, travel, land, crash, jet, board, crashed, boeing, aviation,\n",
      "Topic #54: woman, men, female, women, gender, male, man, young, feminist, metoo, girl, sex, wear, movement, equality, womens, transgender, age, body, shes,\n",
      "Topic #55: military, space, defense, force, missile, air, pentagon, nato, mattis, troop, army, aircraft, launch, weapon, parade, exercise, mission, china, satellite, navy,\n",
      "Topic #56: pm, updated, edt, posted, august, september, october, november, reynolds, glenn, helen, smith, est, hot, 10th, hour, mrs, 20th, thread, stephen,\n",
      "Topic #57: sessions, attorney, general, rosenstein, department, justice, jeff, whitaker, deputy, rod, investigation, recuse, mccabe, doj, probe, act, official, law, office, ag,\n",
      "Topic #58: mourinho, united, manchester, jose, pogba, trafford, states, old, paul, club, juventus, player, sanchez, manager, uniteds, martial, devils, bos, lukaku, mourinhos,\n",
      "Topic #59: reader, wing, watch, support, content, intolerant, right, donation, farright, nonprofit, contribution, project, rightwing, shed, source, dedicate, driven, extreme, organization, expose,\n",
      "Topic #60: health, care, patient, hospital, mental, medical, disease, study, doctor, insurance, cancer, condition, nhs, treatment, service, risk, research, obamacare, healthcare, medicaid,\n",
      "Topic #61: attack, kill, terrorist, taliban, victim, wound, afghanistan, afghan, bomb, shoot, injured, target, death, group, suspect, terror, attacker, violence, synagogue, dead,\n",
      "Topic #62: villa, club, aston, smith, bruce, player, blues, championship, loan, fan, park, grealish, birmingham, manager, football, terry, transfer, steve, summer, dean,\n",
      "Topic #63: climate, change, energy, gas, global, emission, warm, carbon, temperature, oil, scientist, environmental, science, study, water, fuel, california, report, planet, coal,\n",
      "Topic #64: fight, mcgregor, ufc, nurmagomedov, khabib, conor, boxing, wilder, fury, sport, title, fighter, joshua, mayweather, champion, octagon, lightweight, bout, vegas, round,\n",
      "Topic #65: government, spending, budget, funding, fund, federal, program, congress, wall, money, shutdown, plan, year, deficit, fiscal, debt, project, legislation, increase, proposal,\n",
      "Topic #66: daniels, avenatti, stormy, michael, porn, lawyer, affair, clifford, agreement, star, allege, attorney, payment, lawsuit, claim, interview, stephanie, nondisclosure, sue, adult,\n",
      "Topic #67: comey, james, fbi, director, book, memo, mccabe, comeys, leak, loyalty, flynn, lie, interview, stephanopoulos, higher, classify, investigation, write, lynch, email,\n",
      "Topic #68: city, mayor, council, chicago, resident, housing, building, guardiola, local, street, san, manchester, area, community, blasio, francisco, town, homeless, birmingham, los,\n",
      "Topic #69: league, season, premier, chelsea, arsenal, liverpool, club, goal, champions, manchester, madrid, match, tottenham, win, score, wolves, getty, emery, sarri, football,\n",
      "Topic #70: cbsn, watch, kerry, john, live, haley, video, walter, nikki, haaland, interview, caravan, amy, face, stream, sports, sky, nation, warner, tv,\n",
      "Topic #71: security, intelligence, clearance, cia, brennan, national, official, director, haspel, agency, committee, john, information, clapper, pompeo, bolton, revoke, administration, adviser, secretary,\n",
      "Topic #72: worker, work, job, union, employee, pay, wage, labor, employer, benefit, employment, hire, staff, hour, unemployment, paid, strike, help, business, service,\n",
      "Topic #73: fbi, strzok, investigation, page, agent, text, steele, nunes, fisa, information, mccabe, document, dossier, committee, doj, memo, report, department, intelligence, warrant,\n",
      "Topic #74: film, movie, star, actor, character, hollywood, role, festival, netflix, actress, cast, story, play, release, director, disney, comedy, series, drama, cinema,\n",
      "Topic #75: syria, syrian, chemical, idlib, damascus, assad, weapon, terrorist, strike, militant, government, military, ghouta, group, force, civilian, province, bashar, humanitarian, douma,\n",
      "Topic #76: state, california, law, governor, secretary, pompeo, department, legislature, federal, gov, colorado, illinois, local, brown, tillerson, mike, ohio, marijuana, wildfire, official,\n",
      "Topic #77: election, voter, ballot, florida, vote, county, recount, abrams, voting, kemp, georgia, race, midterm, count, scott, gillum, nelson, broward, desantis, governor,\n",
      "Topic #78: cruz, orourke, texas, ted, beto, campaign, poll, cruzs, orourkes, senate, senator, houston, paso, rally, debate, dallas, texans, el, austin, voter,\n",
      "Topic #79: car, driver, vehicle, road, drive, crash, park, uber, traffic, scene, bus, injury, speed, accident, collision, pedestrian, truck, selfdriving, tesla, electric,\n",
      "Topic #80: party, labour, corbyn, leader, democratic, antisemitism, conservative, political, election, jeremy, mp, mps, leadership, member, parliament, jewish, support, candidate, tory, conference,\n",
      "Topic #81: putin, meeting, vladimir, summit, helsinki, russia, russian, election, nato, putins, intelligence, leader, kremlin, conference, coats, meet, meddling, leverage, insider, interfere,\n",
      "Topic #82: pruitt, epa, agency, pruitts, administrator, environmental, scott, wheeler, office, administration, protection, lobbyist, regulation, rule, ethic, report, epas, official, letter, chief,\n",
      "Topic #83: sanders, press, acosta, cnn, reporter, question, sarah, jim, huckabee, ask, secretary, briefing, journalist, medium, conference, acostas, cnns, enemy, answer, bernie,\n",
      "Topic #84: home, tap, screen, journal, western, add, property, housing, wall, street, wildfire, resident, buyer, return, blaze, california, destroyed, house, door, evacuate,\n",
      "Topic #85: people, young, country, person, life, community, help, number, kill, live, earthquake, lot, thousand, local, transgender, town, trans, year, area, living,\n",
      "Topic #86: amazon, save, deals, shop, updated, used, products, amazons, store, bezos, hot, hour, deep, alexa, prime, echo, retailer, sale, product, customer,\n",
      "Topic #87: apple, phone, iphone, device, app, use, apples, feature, xs, mobile, samsung, android, apps, camera, user, new, update, product, model, design,\n",
      "Topic #88: student, university, college, campus, protester, education, study, students, professor, protest, class, graduate, course, grade, academic, faculty, high, young, march, harvard,\n",
      "Topic #89: obama, barack, package, michelle, obamas, bomb, administration, bush, cnn, device, suspicious, sayoc, sent, soros, mail, lady, george, address, explosive, pipe,\n",
      "Topic #90: democrats, pelosi, house, speaker, republicans, nancy, leader, ryan, democratic, caucus, majority, congress, midterm, minority, leadership, control, pelosis, committee, impeachment, member,\n",
      "Topic #91: company, business, tesla, musk, ceo, firm, executive, investor, customer, sell, stock, share, industry, product, shareholder, board, employee, tech, technology, investment,\n",
      "Topic #92: google, search, googles, user, engine, tech, result, android, bias, internet, youtube, app, information, pixel, company, algorithm, apps, censorship, content, giant,\n",
      "Topic #93: england, cup, world, match, team, test, win, sport, croatia, player, final, tournament, play, southgate, captain, fifa, squad, best, played, cricket,\n",
      "Topic #94: black, friday, discount, sale, cyber, price, retailer, item, best, shopping, shop, offer, monday, store, online, white, christmas, november, cashback, day,\n",
      "Topic #95: clinton, hillary, campaign, clintons, email, presidential, election, candidate, democratic, lewinsky, wikileaks, server, dnc, hack, stone, political, assange, private, russians, indictment,\n",
      "Topic #96: player, nfl, anthem, protest, kaepernick, football, team, kneel, national, nike, league, stand, quarterback, colin, coach, sport, flag, 49ers, owner, play,\n",
      "Topic #97: border, migrant, caravan, mexico, asylum, mexican, cross, honduras, tijuana, troop, central, southern, guatemala, wall, patrol, country, entry, states, illegally, port,\n",
      "Topic #98: tweet, twitter, medium, account, social, video, post, jones, write, user, platform, youtube, comment, infowars, follower, ban, fake, online, dorsey, photo,\n",
      "Topic #99: judge, case, court, federal, lawsuit, district, law, order, rule, ruling, file, legal, lawyer, decision, circuit, appeal, attorney, trial, request, hearing,\n",
      "\n"
     ]
    }
   ],
   "source": [
    "print_top_words(nmf_100, nmf_word, n_top_words)"
   ]
  },
  {
   "cell_type": "markdown",
   "metadata": {},
   "source": [
    "#### ngram(1,2)\n"
   ]
  },
  {
   "cell_type": "markdown",
   "metadata": {},
   "source": [
    "tf_gram2= set_vectorizer(ngram_range = (1, 2))\n",
    "\n",
    "gram2_data = tf_gram2.fit_transform(data_samples)\n",
    "\n",
    "nmf2_word = tf_gram2.get_feature_names()"
   ]
  },
  {
   "cell_type": "code",
   "execution_count": 46,
   "metadata": {},
   "outputs": [],
   "source": [
    "nmf100_2 = NMF(n_components =100).fit(gram2_data)"
   ]
  },
  {
   "cell_type": "code",
   "execution_count": 47,
   "metadata": {},
   "outputs": [
    {
     "name": "stdout",
     "output_type": "stream",
     "text": [
      "Topic #0: think, just, dont, thing, know, im, want, really, thats, make, way, good, lot, look, time, feel, youre, need, talk, try,\n",
      "Topic #1: nginx, forbidden nginx, forbidden, asylum, rule, ban, guard, chinese, apparently, order, potter, islamic, harry potter, annoy, displeasure, smoking, tourist, broadway, conference, century,\n",
      "Topic #2: trump, donald trump, donald, trump say, trumps, tweet, president donald, administration, campaign, say trump, rally, trump administration, meeting, trump told, trump tweet, supporter, mr trump, melania, trump campaign, republican,\n",
      "Topic #3: say, told, add, ask, statement, comment, interview, want, trump say, tuesday, monday, say say, wednesday, say statement, say want, believe, say add, spokesman, thursday, official say,\n",
      "Topic #4: der, die, und, den, von, zu, mit, da, das, auf, fur, sich, dem, eine, ein, nicht, ist, auch, sie, nach,\n",
      "Topic #5: league, premier league, premier, season, liverpool, wolves, goal, match, manchester, tottenham, win, live, west ham, sky, ham, manchester city, champions, champions league, stadium, spurs,\n",
      "Topic #6: race, candidate, republican, district, democratic, primary, state, campaign, run, governor, seat, win, won, congressional, incumbent, gop, democrat, ad, progressive, congressional district,\n",
      "Topic #7: russian, russia, moscow, sanction, foreign, ukraine, ministry, russias, ukrainian, russians, russian foreign, diplomat, kremlin, butina, sergei, foreign ministry, medium, skripal, election, country,\n",
      "Topic #8: north, korea, kim, north korea, korean, summit, north korean, nuclear, south, jong, south korea, pyongyang, kim jong, denuclearization, meeting, pompeo, leader, moon, singapore, korean leader,\n",
      "Topic #9: brexit, eu, deal, uk, european, mrs, theresa, britain, minister, referendum, ireland, mps, agreement, union, brussels, brexit deal, chequers, prime, prime minister, vote,\n",
      "Topic #10: khashoggi, saudi, consulate, jamal, kill, journalist, jamal khashoggi, murder, istanbul, prince, crown prince, turkish, saudi consulate, crown, consulate istanbul, salman, khashoggis, death, disappearance, official,\n",
      "Topic #11: court, supreme, supreme court, judge, justice, case, nominee, law, brett, circuit, ruling, confirmation, decision, kennedy, conservative, kavanaughs, court justice, rule, judicial, appeal,\n",
      "Topic #12: saudi, arabia, saudi arabia, yemen, prince, kingdom, crown prince, crown, riyadh, salman, saudis, oil, bin, mohammed, bin salman, king, arab, human right, country, foreign,\n",
      "Topic #13: sentence, prison, charge, arrest, jail, case, court, guilty, trial, crime, year, criminal, murder, prosecutor, victim, convict, assault, judge, plead, plead guilty,\n",
      "Topic #14: cookie policy, policy cookie, encourages read, media encourages, policy, update privacy, read update, pj media, privacy policy, cookie, pj, encourages, privacy, media, update, read, subscribe, foreign policy, inbox, cooky,\n",
      "Topic #15: school, student, teacher, high school, education, high, university, college, campus, shoot, class, pupil, school district, classroom, district, parkland, stoneman, kid, stoneman douglas, douglas,\n",
      "Topic #16: people, country, group, community, right, kill, violence, life, young, america, white, world, american, black, human, young people, americans, hate, government, society,\n",
      "Topic #17: police, officer, man, police say, arrest, incident, suspect, police officer, report, shot, scene, hospital, victim, shoot, attack, kill, investigation, police department, cop, street,\n",
      "Topic #18: facebook, data, user, zuckerberg, cambridge, analytica, cambridge analytica, facebooks, privacy, ad, information, mark zuckerberg, app, facebook user, platform, page, mark, firm, company, access,\n",
      "Topic #19: white, white house, house, sanders, press, kelly, acosta, staff, porter, press secretary, secretary, sarah, house press, reporter, cnn, aide, chief staff, secretary sarah, omarosa, hicks,\n",
      "Topic #20: ford, allegation, committee, assault, blasey, sexual, brett, judiciary, judiciary committee, christine, blasey ford, hearing, christine blasey, fords, senate judiciary, senate, sexual assault, kavanaughs, testify, testimony,\n",
      "Topic #21: food, restaurant, hotel, water, space, animal, dog, christmas, look, room, park, design, store, open, bar, art, eat, include, make, new,\n",
      "Topic #22: iran, nuclear, sanction, iranian, deal, nuclear deal, tehran, oil, jcpoa, iran nuclear, rouhani, irans, agreement, pompeo, sanction iran, nuclear program, iran deal, program, regime, foreign,\n",
      "Topic #23: china, trade, tariff, chinese, import, trade war, steel, beijing, war, aluminum, chinas, impose, good, product, export, economic, xi, steel aluminum, country, canada,\n",
      "Topic #24: manafort, gates, trial, manaforts, paul manafort, paul, bank, campaign, ellis, prosecutor, charge, fraud, witness, trump campaign, jury, guilty, campaign chairman, virginia, judge, plea,\n",
      "Topic #25: obama, barack, barack obama, obamas, administration, michelle, bush, president barack, michelle obama, obama say, president obama, obama administration, lady, george, george bush, book, president, speech, policy, presidency,\n",
      "Topic #26: woman, men, sexual, female, sex, gender, male, women, harassment, assault, metoo, man, girl, movement, sexual harassment, rape, sexual assault, victim, men woman, woman say,\n",
      "Topic #27: mr, mr trump, ms, say mr, say, mrs, mr johnson, defence, labour, stokes, johnson, accuse, mr trumps, mr cohen, corbyn, criticise, court, mr corbyn, mr kim, heard,\n",
      "Topic #28: democrats, republicans, house, pelosi, midterm, democratic, speaker, congress, seat, majority, election, republican, gop, nancy, control, nancy pelosi, senate, ryan, midterm election, leader,\n",
      "Topic #29: drug, study, disease, use, patient, cancer, test, research, death, university, researcher, treatment, marijuana, medical, opioid, risk, brain, cause, cannabis, doctor,\n",
      "Topic #30: gun, gun control, nra, shoot, firearm, control, rifle, parkland, weapon, law, violence, gun violence, amendment, shooting, mass, second amendment, ban, florida, background check, arm,\n",
      "Topic #31: game, season, play, team, win, score, player, second, goal, ball, start, coach, run, point, inning, minute, pitch, yard, played, yankees,\n",
      "Topic #32: email, check, post, share post, email address, blog, sorry, sent, address, share, fail, try, complete, information, stone, daily, wikileaks, server, account, hack,\n",
      "Topic #33: rate, market, price, year, bank, economy, cent, growth, increase, rise, high, economic, low, oil, financial, cost, stock, inflation, debt, average,\n",
      "Topic #34: mourinho, united, manchester, manchester united, jose, jose mourinho, pogba, trafford, old trafford, old, paul pogba, paul, player, sanchez, manager, juventus, uniteds, red devils, devils, martial,\n",
      "Topic #35: committee, intelligence, nunes, campaign, memo, dossier, information, steele, document, intelligence committee, release, fisa, trump campaign, house intelligence, department, page, spy, chairman, surveillance, schiff,\n",
      "Topic #36: election, voter, ballot, vote, state, county, florida, voting, abrams, recount, kemp, georgia, count, midterm, scott, governor, nelson, broward, race, registration,\n",
      "Topic #37: mccain, john mccain, john, senator, mccains, arizona, war, cancer, brain cancer, service, vietnam, meghan mccain, meghan, senator john, brain, biden, funeral, mccain say, senate, honor,\n",
      "Topic #38: child, parent, family, separate, kid, separation, mother, reunite, adult, policy, baby, child parent, boy, separate parent, child separate, detention, young, parent child, administration, age,\n",
      "Topic #39: clinton, hillary, hillary clinton, clintons, presidential, campaign, email, election, clinton say, lewinsky, democratic, candidate, server, clinton campaign, secretary state, hillary clintons, dnc, political, president clinton, secretary,\n",
      "Topic #40: city, mayor, council, resident, chicago, housing, building, city council, local, san, street, guardiola, area, manchester city, york city, manchester, community, francisco, san francisco, blasio,\n",
      "Topic #41: black, black friday, friday, deal, sale, discount, price, cyber monday, cyber, retailer, best, best deal, offer, item, shopping, shop, store, friday cyber, christmas, monday,\n",
      "Topic #42: health, care, health care, mental, mental health, hospital, insurance, patient, service, plan, medicaid, medical, program, obamacare, medicare, condition, nhs, cost, affordable, coverage,\n",
      "Topic #43: hurricane, storm, florence, carolina, puerto, hurricane florence, wind, coast, florida, north carolina, puerto rico, rico, island, landfall, flood, category, north, tropical, hit, south carolina,\n",
      "Topic #44: news, fox, fox news, hannity, network, host, cnn, report, nbc, daily, fake, fake news, sean, medium, reporter, press, outlet, cable, sean hannity, caller,\n",
      "Topic #45: meghan, royal, prince, harry, wedding, duchess, markle, prince harry, princess, queen, meghan markle, duke, eugenie, windsor, sussex, duchess sussex, dress, harry meghan, palace, couple,\n",
      "Topic #46: percent, poll, voter, survey, percent say, americans, rating, percent percent, approval, point, respondent, approval rating, republicans, accord, percentage, number, likely, just percent, margin, compare,\n",
      "Topic #47: vote, senate, collins, senator, mcconnell, flake, nomination, republican, confirmation, nominee, manchin, murkowski, confirm, support, republicans, committee, floor, mitch, gop, majority,\n",
      "Topic #48: minister, prime, canada, prime minister, trudeau, canadian, government, justin, nafta, justin trudeau, trade, minister justin, agreement, leader, canadas, meeting, country, foreign, g7, india,\n",
      "Topic #49: pay, story, video, sun, click, pay video, video click, upload, click upload, sun online, online, pay story, story sun, team email, story story, email tip, news team, online news, email, tip,\n",
      "Topic #50: slideshow, slideshow times, times, instagram, photo, stripped, model, skriver, wearing clothes, josephine skriver, internet, josephine, blonde bombshell, wearing, hottest, abigail, blonde, samantha, bikini, bombshell,\n",
      "Topic #51: israel, israeli, gaza, palestinian, palestinians, hamas, jerusalem, netanyahu, embassy, gaza strip, jewish, strip, protest, idf, peace, kill, israels, israelis, tel, border,\n",
      "Topic #52: medium, twitter, social, social medium, tweet, post, account, video, jones, platform, write, user, youtube, fake, comment, ban, infowars, instagram, speech, conservative,\n",
      "Topic #53: syria, syrian, attack, chemical, terrorist, chemical weapon, idlib, damascus, militant, weapon, assad, group, government, syrian government, strike, civilian, province, force, isis, military,\n",
      "Topic #54: pm, updated, edt, august, september, october, reynolds, november, glenn, helen, smith, est, hot, 10th, hour, 20th, mrs, thread, stephen, green,\n",
      "Topic #55: england, cup, world, world cup, match, team, player, sport, croatia, tournament, test, final, play, win, southgate, fifa, squad, captain, football, best,\n",
      "Topic #56: president, president trump, trumps, president donald, pence, vice, vice president, tweet, president trumps, say president, president say, donald, american, donald trumps, presidential, office, biden, bush, mike pence, visit,\n",
      "Topic #57: company, business, tesla, musk, employee, ceo, firm, executive, customer, investor, industry, sell, product, board, shareholder, technology, share, work, stock, tech,\n",
      "Topic #58: border, migrant, caravan, mexico, asylum, mexican, cross, migrant caravan, tijuana, honduras, troop, southern border, central, wall, border patrol, southern, patrol, guatemala, entry, country,\n",
      "Topic #59: film, movie, star, actor, character, series, hollywood, role, actress, cast, netflix, play, festival, release, story, drama, director, comedy, episode, tv,\n",
      "Topic #60: club, chelsea, arsenal, player, emery, sarri, football, blues, gunners, transfer, contract, summer, unai, hazard, loan, manager, unai emery, play, sign, deal,\n",
      "Topic #61: mueller, counsel, special counsel, special, investigation, robert, robert mueller, muellers, giuliani, counsel robert, probe, team, lawyer, collusion, stone, legal, mueller investigation, question, legal team, election,\n",
      "Topic #62: climate, climate change, change, energy, global, emission, gas, carbon, warm, environmental, global warm, science, scientist, oil, california, fuel, report, fossil, temperature, planet,\n",
      "Topic #63: fight, mcgregor, ufc, nurmagomedov, khabib, boxing, sport, wilder, fury, title, conor, joshua, fighter, champion, mayweather, octagon, conor mcgregor, bout, vegas, khabib nurmagomedov,\n",
      "Topic #64: sessions, attorney general, attorney, general, rosenstein, department, justice, justice department, jeff sessions, jeff, whitaker, general jeff, deputy, deputy attorney, rod, rod rosenstein, investigation, recuse, general rod, department justice,\n",
      "Topic #65: united, states, united states, american, country, america, united nations, nations, president united, nation, world, americans, foreign, citizen, treaty, united kingdom, washington, haley, mexico, kingdom,\n",
      "Topic #66: car, driver, vehicle, road, drive, crash, park, uber, traffic, speed, accident, bus, injury, scene, collision, tesla, selfdriving, truck, pedestrian, electric,\n",
      "Topic #67: abortion, planned, planned parenthood, parenthood, roe, pregnancy, prolife, baby, right, law, roe wade, wade, clinic, woman, state, ban, life, abortion right, reproductive, unborn,\n",
      "Topic #68: family, life, love, friend, son, daughter, death, father, mother, day, home, die, wife, baby, year, husband, time, mum, girl, hospital,\n",
      "Topic #69: military, defense, force, space, war, missile, air, pentagon, army, troop, nato, air force, mattis, afghanistan, china, soldier, aircraft, parade, mission, exercise,\n",
      "Topic #70: weather, rain, temperature, wind, snow, met office, northern, area, scotland, shower, day, expect, high, dry, weekend, south, heavy, condition, office, ireland,\n",
      "Topic #71: cohen, michael cohen, michael, payment, cohens, giuliani, lawyer, attorney, raid, trump, mcdougal, prosecutor, campaign, tape, federal, davis, legal, trumps, client, personal,\n",
      "Topic #72: cbsn, watch, face nation, kerry, john kerry, migrant caravan, video, live, haley, john, john mccain, interview, stream, nikki haley, nikki, walter, tv, face, caravan, sky,\n",
      "Topic #73: immigration, immigrant, law, ice, illegal, policy, administration, enforcement, federal, border, daca, government, trump administration, citizenship, family, illegal immigrant, legal, program, deportation, california,\n",
      "Topic #74: big brother, brother, big, celebrity, series, channel, celebrity big, star, housemate, house, roxanne, ryan, emma, rylan, tv, reality, willis, emma willis, clarkneal, love island,\n",
      "Topic #75: wing watch, right wing, reader, wing, watch, content, support, right, american way, make contribution, intolerant, political organization, shed light, donation, farright, nonprofit, contribution, project, work hard, rightwing,\n",
      "Topic #76: uk, london, british, skripal, salisbury, poison, agent, britain, nerve agent, nerve, sergei, sergei skripal, yulia, assange, novichok, chemical, embassy, attack, march, visit,\n",
      "Topic #77: party, labour, corbyn, political, democratic, conservative, leader, democratic party, antisemitism, election, republican party, politics, member, labour party, candidate, jeremy, support, leadership, jewish, jeremy corbyn,\n",
      "Topic #78: strictly, dance, dancing, come dancing, strictly come, bbc, dancer, katya, seann, series, star, partner, come, pair, jones, celebrity, professional, walsh, year, judge,\n",
      "Topic #79: macron, french, france, european, europe, germany, german, merkel, paris, nato, war, emmanuel, french president, emmanuel macron, union, eu, president emmanuel, country, world, world war,\n",
      "Topic #80: daniels, avenatti, stormy, stormy daniels, michael avenatti, lawyer, michael, porn, affair, clifford, agreement, lawsuit, porn star, star, allege, claim, attorney, avenatti say, lawyer michael, daniels say,\n",
      "Topic #81: putin, vladimir, vladimir putin, meeting, russian president, president vladimir, summit, helsinki, russian, russia, election, putin say, intelligence, nato, president, putins, conference, kremlin, leader, president putin,\n",
      "Topic #82: nfl, player, anthem, protest, kaepernick, national anthem, nike, kneel, national, football, team, stand, quarterback, league, colin, flag, colin kaepernick, 49ers, nfl player, owner,\n",
      "Topic #83: pruitt, epa, agency, pruitts, administrator, environmental, scott, scott pruitt, office, wheeler, environmental protection, epa administrator, protection agency, protection, administration, lobbyist, regulation, rule, administrator scott, report,\n",
      "Topic #84: comey, james, james comey, fbi director, fbi, director, book, memo, comeys, director james, comey say, mccabe, leak, loyalty, flynn, interview, lie, higher loyalty, stephanopoulos, classify,\n",
      "Topic #85: tax, cut, tax cut, budget, income, spending, pay, deficit, government, state, revenue, income tax, benefit, money, increase, federal, fiscal, reform, debt, business,\n",
      "Topic #86: amazon, deals, save, used, shop, updated, hour, amazons, deep, hot, bezos, deal, alexa, store, echo, worker, prime, book, amazon prime, jeff bezos,\n",
      "Topic #87: fbi, strzok, investigation, page, agent, text, mccabe, fbi agent, peter strzok, text message, peter, message, report, lisa page, lisa, inspector general, inspector, probe, doj, bias,\n",
      "Topic #88: cruz, orourke, texas, ted, beto, ted cruz, beto orourke, poll, cruzs, senate, orourkes, campaign, senator, houston, paso, el paso, cruz say, voter, rally, debate,\n",
      "Topic #89: church, abuse, pope, catholic, francis, sexual, priest, bishop, pope francis, vatican, catholic church, sexual abuse, cardinal, sex, allegation, report, victim, diocese, mccarrick, archbishop,\n",
      "Topic #90: turkey, turkish, erdogan, brunson, ankara, pastor, lira, tayyip, tayyip erdogan, recep, gulen, nato, recep tayyip, turkeys, coup, president recep, turkish president, currency, sanction, andrew brunson,\n",
      "Topic #91: western journal, home, tap, screen, journal, western, add, property, housing, street journal, wall, wall street, home office, house, street, wildfire, new home, california, return home, resident,\n",
      "Topic #92: new, york, new york, times, york times, cuomo, york city, nixon, times report, report, andrew cuomo, york state, oped, jersey, ocasiocortez, new jersey, blasio, weinstein, manhattan, accord,\n",
      "Topic #93: google, apple, phone, search, iphone, device, user, app, android, use, googles, apps, feature, technology, tech, new, mobile, update, pixel, search engine,\n",
      "Topic #94: villa, aston, aston villa, smith, bruce, club, championship, park, villa park, grealish, blues, steve bruce, birmingham, terry, steve, loan, dean, fan, dean smith, derby,\n",
      "Topic #95: flight, passenger, plane, airline, airport, aircraft, pilot, air, crew, ryanair, fly, travel, airlines, land, crash, jet, board, crashed, boeing, aviation,\n",
      "Topic #96: security, clearance, cia, national security, security clearance, brennan, national, official, pompeo, director, intelligence, bolton, john, haspel, secretary, state, administration, cia director, security adviser, adviser,\n",
      "Topic #97: package, bomb, cnn, device, sayoc, suspicious, suspicious package, sent, mail, explosive, soros, attack, pipe, address, florida, waters, pipe bomb, law enforcement, explosive device, suspect,\n",
      "Topic #98: newsbusters, blog, read, post, check, article, link, complete, cross, soon, live, live blog, reid, msnbc, blog post, washington post, article post, randy, washington, joy,\n",
      "Topic #99: madrid, ronaldo, real, real madrid, champions, champions league, cristiano, barcelona, juventus, cristiano ronaldo, liga, la liga, la, lopetegui, league, goal, messi, spanish, spain, atletico,\n",
      "\n"
     ]
    }
   ],
   "source": [
    "print_top_words(nmf100_2, nmf2_word, n_top_words)"
   ]
  }
 ],
 "metadata": {
  "kernelspec": {
   "display_name": "Python 3",
   "language": "python",
   "name": "python3"
  },
  "language_info": {
   "codemirror_mode": {
    "name": "ipython",
    "version": 3
   },
   "file_extension": ".py",
   "mimetype": "text/x-python",
   "name": "python",
   "nbconvert_exporter": "python",
   "pygments_lexer": "ipython3",
   "version": "3.7.4"
  }
 },
 "nbformat": 4,
 "nbformat_minor": 2
}
