{
 "cells": [
  {
   "cell_type": "markdown",
   "metadata": {},
   "source": [
    "# NLP Final Project - Feature Engineering & Modeling"
   ]
  },
  {
   "cell_type": "markdown",
   "metadata": {},
   "source": [
    "# Summary\n",
    "\n",
    "Here we engineer features and conduct predictive modeling to classify text as fake news or not fake news.\n",
    "\n",
    "### Text classification problem: fake news vs not fake news\n",
    "\n",
    "**Vectorizing Text Data**\n",
    "- TF-IDF vectorizer\n",
    "    - max_df = 0.9\n",
    "    - min_df = 2\n",
    "    - lowercase\n",
    "    - stop_words\n",
    "    - max_features = 20,000\n",
    "    - ngram_range = (1,2)\n",
    "\n",
    "**Dimensionality Reduction: topic distribution matrix**\n",
    "- NMF\n",
    "    - n_components = 100\n",
    "\n",
    "**ML Models**\n",
    "- Binary Classification\n",
    "    - Logistic Regression\n",
    "        - threshold value for predicting classes\n",
    "        - logistic regression with l1 penalty can be used for feature selection\n",
    "        - C: regularization parameter (strength of regularization is inversely proportional to C); must be positive\n",
    "    - Linear SVC (better than regular SVC for large sample sizes)\n",
    "        - l1 penalty can be used for feature selection\n",
    "        - C: regularization parameter (strength of regularization is inversely proportional to C); must be positive\n",
    "    - Random Forest\n",
    "        - n_estimators: # trees in forest\n",
    "        - max_depth: maximum depth (splits) of the tree\n",
    "- One-Class Classification & Outlier Detection\n",
    "    - Isolation Forest\n",
    "        - n_estimators: # trees in forest\n",
    "        - max_features: # of features to draw to train base estimators (default = 1)\n",
    "    - One-Class SVM"
   ]
  },
  {
   "cell_type": "markdown",
   "metadata": {},
   "source": [
    "# Import Modules & Data"
   ]
  },
  {
   "cell_type": "code",
   "execution_count": 1,
   "metadata": {},
   "outputs": [],
   "source": [
    "import pandas as pd\n",
    "import numpy as np\n",
    "import re\n",
    "import matplotlib.pyplot as plt\n",
    "import seaborn as sns\n",
    "from nltk.help import upenn_tagset\n",
    "from nltk import word_tokenize, pos_tag\n",
    "from nltk.stem import WordNetLemmatizer\n",
    "from nltk.corpus import wordnet\n",
    "from sklearn.feature_extraction.text import CountVectorizer, TfidfVectorizer\n",
    "from sklearn.decomposition import NMF, PCA\n",
    "from sklearn.preprocessing import StandardScaler\n",
    "from sklearn.model_selection import train_test_split, StratifiedKFold, GridSearchCV\n",
    "from sklearn.manifold import TSNE\n",
    "from sklearn.ensemble import RandomForestClassifier, IsolationForest\n",
    "from sklearn.svm import LinearSVC, OneClassSVM\n",
    "from sklearn.linear_model import LogisticRegression\n",
    "from sklearn.pipeline import Pipeline, FeatureUnion\n",
    "from sklearn.compose import ColumnTransformer\n",
    "from sklearn.feature_selection import SelectKBest\n",
    "from sklearn.metrics import classification_report\n",
    "import umap\n",
    "from imblearn.under_sampling import RandomUnderSampler\n",
    "# import other modules..."
   ]
  },
  {
   "cell_type": "code",
   "execution_count": 2,
   "metadata": {
    "scrolled": true
   },
   "outputs": [
    {
     "data": {
      "text/html": [
       "<div>\n",
       "<style scoped>\n",
       "    .dataframe tbody tr th:only-of-type {\n",
       "        vertical-align: middle;\n",
       "    }\n",
       "\n",
       "    .dataframe tbody tr th {\n",
       "        vertical-align: top;\n",
       "    }\n",
       "\n",
       "    .dataframe thead th {\n",
       "        text-align: right;\n",
       "    }\n",
       "</style>\n",
       "<table border=\"1\" class=\"dataframe\">\n",
       "  <thead>\n",
       "    <tr style=\"text-align: right;\">\n",
       "      <th></th>\n",
       "      <th>news_source</th>\n",
       "      <th>pub_date</th>\n",
       "      <th>title</th>\n",
       "      <th>text</th>\n",
       "      <th>fake_news_binary</th>\n",
       "      <th>left_bias_avg</th>\n",
       "      <th>right_bias_avg</th>\n",
       "      <th>net_bias</th>\n",
       "      <th>fake_news_outlier</th>\n",
       "      <th>clean_txt</th>\n",
       "      <th>PoS_tags</th>\n",
       "      <th>pos_sent</th>\n",
       "      <th>neg_sent</th>\n",
       "      <th>net_sent</th>\n",
       "    </tr>\n",
       "  </thead>\n",
       "  <tbody>\n",
       "    <tr>\n",
       "      <td>0</td>\n",
       "      <td>The Sun</td>\n",
       "      <td>2018-10-17</td>\n",
       "      <td>Who left Big Brother last week and whos still ...</td>\n",
       "      <td>THE last ever Big Brother is underway with a f...</td>\n",
       "      <td>0</td>\n",
       "      <td>0.00</td>\n",
       "      <td>1.0</td>\n",
       "      <td>1.00</td>\n",
       "      <td>1</td>\n",
       "      <td>last ever Big Brother be underway final batch ...</td>\n",
       "      <td>DT JJ RB JJ NN VBZ RB IN DT JJ NN IN NNS . IN ...</td>\n",
       "      <td>0.062016</td>\n",
       "      <td>0.093023</td>\n",
       "      <td>-0.031008</td>\n",
       "    </tr>\n",
       "    <tr>\n",
       "      <td>1</td>\n",
       "      <td>True Pundit</td>\n",
       "      <td>2018-02-08</td>\n",
       "      <td>I Have to Let Them in DHS Chief Reveals How MS...</td>\n",
       "      <td>During a White House roundtable discussion on ...</td>\n",
       "      <td>1</td>\n",
       "      <td>0.00</td>\n",
       "      <td>1.0</td>\n",
       "      <td>1.00</td>\n",
       "      <td>-1</td>\n",
       "      <td>White House roundtable discussion immigration ...</td>\n",
       "      <td>IN DT NNP NNP JJ NN IN NN CC NN NN , DT NN IN ...</td>\n",
       "      <td>0.118483</td>\n",
       "      <td>0.113744</td>\n",
       "      <td>0.004739</td>\n",
       "    </tr>\n",
       "    <tr>\n",
       "      <td>2</td>\n",
       "      <td>The Daily Caller</td>\n",
       "      <td>2018-11-16</td>\n",
       "      <td>Trump Works On Mueller Answers Avoiding Perjur...</td>\n",
       "      <td>President Donald Trump is working on written a...</td>\n",
       "      <td>0</td>\n",
       "      <td>0.00</td>\n",
       "      <td>1.0</td>\n",
       "      <td>1.00</td>\n",
       "      <td>1</td>\n",
       "      <td>President Donald Trump be work write answer qu...</td>\n",
       "      <td>NNP NNP NN VBZ VBG IN VBN NNS TO NNS IN JJ NN ...</td>\n",
       "      <td>0.061644</td>\n",
       "      <td>0.068493</td>\n",
       "      <td>-0.006849</td>\n",
       "    </tr>\n",
       "    <tr>\n",
       "      <td>3</td>\n",
       "      <td>The Daily Caller</td>\n",
       "      <td>2018-08-28</td>\n",
       "      <td>McConnell Announces Bipartisan Senate Group Wi...</td>\n",
       "      <td>Senate Majority Leader Mitch McConnell announc...</td>\n",
       "      <td>0</td>\n",
       "      <td>0.00</td>\n",
       "      <td>1.0</td>\n",
       "      <td>1.00</td>\n",
       "      <td>1</td>\n",
       "      <td>Senate Majority Leader Mitch McConnell announc...</td>\n",
       "      <td>NNP NN NN NN NNP VBD DT NN NNP NN MD VB VBG RB...</td>\n",
       "      <td>0.133333</td>\n",
       "      <td>0.033333</td>\n",
       "      <td>0.100000</td>\n",
       "    </tr>\n",
       "    <tr>\n",
       "      <td>4</td>\n",
       "      <td>BBC</td>\n",
       "      <td>2018-07-23</td>\n",
       "      <td>Why millions listen to this nine-year-old girl...</td>\n",
       "      <td>A scheme to let parents close their streets to...</td>\n",
       "      <td>0</td>\n",
       "      <td>0.25</td>\n",
       "      <td>0.0</td>\n",
       "      <td>-0.25</td>\n",
       "      <td>1</td>\n",
       "      <td>scheme let parent close street car so child ca...</td>\n",
       "      <td>DT NN TO VB NNS RB PRP$ NNS TO NNS RB NNS MD N...</td>\n",
       "      <td>0.050000</td>\n",
       "      <td>0.250000</td>\n",
       "      <td>-0.200000</td>\n",
       "    </tr>\n",
       "  </tbody>\n",
       "</table>\n",
       "</div>"
      ],
      "text/plain": [
       "        news_source    pub_date  \\\n",
       "0           The Sun  2018-10-17   \n",
       "1       True Pundit  2018-02-08   \n",
       "2  The Daily Caller  2018-11-16   \n",
       "3  The Daily Caller  2018-08-28   \n",
       "4               BBC  2018-07-23   \n",
       "\n",
       "                                               title  \\\n",
       "0  Who left Big Brother last week and whos still ...   \n",
       "1  I Have to Let Them in DHS Chief Reveals How MS...   \n",
       "2  Trump Works On Mueller Answers Avoiding Perjur...   \n",
       "3  McConnell Announces Bipartisan Senate Group Wi...   \n",
       "4  Why millions listen to this nine-year-old girl...   \n",
       "\n",
       "                                                text  fake_news_binary  \\\n",
       "0  THE last ever Big Brother is underway with a f...                 0   \n",
       "1  During a White House roundtable discussion on ...                 1   \n",
       "2  President Donald Trump is working on written a...                 0   \n",
       "3  Senate Majority Leader Mitch McConnell announc...                 0   \n",
       "4  A scheme to let parents close their streets to...                 0   \n",
       "\n",
       "   left_bias_avg  right_bias_avg  net_bias  fake_news_outlier  \\\n",
       "0           0.00             1.0      1.00                  1   \n",
       "1           0.00             1.0      1.00                 -1   \n",
       "2           0.00             1.0      1.00                  1   \n",
       "3           0.00             1.0      1.00                  1   \n",
       "4           0.25             0.0     -0.25                  1   \n",
       "\n",
       "                                           clean_txt  \\\n",
       "0  last ever Big Brother be underway final batch ...   \n",
       "1  White House roundtable discussion immigration ...   \n",
       "2  President Donald Trump be work write answer qu...   \n",
       "3  Senate Majority Leader Mitch McConnell announc...   \n",
       "4  scheme let parent close street car so child ca...   \n",
       "\n",
       "                                            PoS_tags  pos_sent  neg_sent  \\\n",
       "0  DT JJ RB JJ NN VBZ RB IN DT JJ NN IN NNS . IN ...  0.062016  0.093023   \n",
       "1  IN DT NNP NNP JJ NN IN NN CC NN NN , DT NN IN ...  0.118483  0.113744   \n",
       "2  NNP NNP NN VBZ VBG IN VBN NNS TO NNS IN JJ NN ...  0.061644  0.068493   \n",
       "3  NNP NN NN NN NNP VBD DT NN NNP NN MD VB VBG RB...  0.133333  0.033333   \n",
       "4  DT NN TO VB NNS RB PRP$ NNS TO NNS RB NNS MD N...  0.050000  0.250000   \n",
       "\n",
       "   net_sent  \n",
       "0 -0.031008  \n",
       "1  0.004739  \n",
       "2 -0.006849  \n",
       "3  0.100000  \n",
       "4 -0.200000  "
      ]
     },
     "execution_count": 2,
     "metadata": {},
     "output_type": "execute_result"
    }
   ],
   "source": [
    "articles = pd.read_csv('./articles_100K_plusSentiment.csv', index_col = 0)\n",
    "articles.head()"
   ]
  },
  {
   "cell_type": "code",
   "execution_count": 3,
   "metadata": {},
   "outputs": [
    {
     "data": {
      "text/plain": [
       "100000"
      ]
     },
     "execution_count": 3,
     "metadata": {},
     "output_type": "execute_result"
    }
   ],
   "source": [
    "len(articles)"
   ]
  },
  {
   "cell_type": "code",
   "execution_count": 4,
   "metadata": {},
   "outputs": [
    {
     "data": {
      "text/plain": [
       "0    75072\n",
       "1    24928\n",
       "Name: fake_news_binary, dtype: int64"
      ]
     },
     "execution_count": 4,
     "metadata": {},
     "output_type": "execute_result"
    }
   ],
   "source": [
    "articles['fake_news_binary'].value_counts()"
   ]
  },
  {
   "cell_type": "markdown",
   "metadata": {},
   "source": [
    "# Split - Train & Test"
   ]
  },
  {
   "cell_type": "code",
   "execution_count": 5,
   "metadata": {},
   "outputs": [],
   "source": [
    "text_train, text_test, y_train, y_test = train_test_split(articles[['clean_txt', 'PoS_tags', 'text', 'net_sent']],\n",
    "                                                          articles[['fake_news_binary', 'fake_news_outlier']],\n",
    "                                                          stratify = articles['fake_news_binary'],\n",
    "                                                          random_state = 64,\n",
    "                                                          train_size = 0.85)"
   ]
  },
  {
   "cell_type": "markdown",
   "metadata": {},
   "source": [
    "# Specify Y vectors for binary classification & outlier detection"
   ]
  },
  {
   "cell_type": "code",
   "execution_count": 6,
   "metadata": {},
   "outputs": [],
   "source": [
    "# to make y vector one-dimensional numpy array\n",
    "#\n",
    "# y_bi_ for binary classification (\"reliable\" = 0, \"unreliable\" = 1)\n",
    "y_bi_train = y_train[['fake_news_binary']].to_numpy().ravel()\n",
    "y_bi_test = y_test[['fake_news_binary']].to_numpy().ravel()\n",
    "#\n",
    "# y_out_ for outlier detection (\"reliable\"/inler = 1, \"unreliable\"/outlier = -1)\n",
    "y_out_train = y_train[['fake_news_outlier']].to_numpy().ravel()\n",
    "y_out_test = y_test[['fake_news_outlier']].to_numpy().ravel()"
   ]
  },
  {
   "cell_type": "markdown",
   "metadata": {},
   "source": [
    "# Create Punctuation Vectorizer Class\n",
    "\n",
    "This will be used to transform the original (uncleaned) text into a BoW matrix for a selected set of punctuation symbols which we believe may be useful in distinguishing between articles with regard to our targets."
   ]
  },
  {
   "cell_type": "code",
   "execution_count": 7,
   "metadata": {},
   "outputs": [],
   "source": [
    "# creating CV matrix for punctuation(!?:;)\n",
    "class Punc_Vec:\n",
    "    def __init__(self,\n",
    "                 analyzer = 'char',\n",
    "                 binary = False,\n",
    "                 decode_error = 'strict',\n",
    "                 dtype = np.int64,\n",
    "                 encoding = 'utf-8',\n",
    "                 input = 'content',\n",
    "                 lowercase = False,\n",
    "                 max_df = 1.0,\n",
    "                 min_df = 1,\n",
    "                 ngram_range = (1,1),\n",
    "                 max_features = None,\n",
    "                 strip_accents = None,\n",
    "                 preprocessor = None,\n",
    "                 tokenizer = None,\n",
    "                 stop_words = None,\n",
    "                 vocabulary = None,\n",
    "                 token_pattern = '(?u)\\b\\w\\w+\\b'):\n",
    "        self.analyzer = analyzer\n",
    "        self.binary = binary\n",
    "        self.decode_error = decode_error\n",
    "        self.dtype = dtype\n",
    "        self.encoding = encoding\n",
    "        self.input = input\n",
    "        self.lowercase = lowercase\n",
    "        self.max_df = max_df\n",
    "        self.min_df = min_df\n",
    "        self.ngram_range = ngram_range\n",
    "        self.max_features = max_features\n",
    "        self.strip_accents = strip_accents\n",
    "        self.preprocessor = preprocessor\n",
    "        self.tokenizer = tokenizer\n",
    "        self.stop_words = stop_words\n",
    "        self.vocabulary = vocabulary\n",
    "        self.token_pattern = token_pattern\n",
    "        self.c = None\n",
    "        self.v = CountVectorizer(analyzer = self.analyzer,\n",
    "                                 binary = self.binary,\n",
    "                                 decode_error = self.decode_error,\n",
    "                                 dtype = self.dtype,\n",
    "                                 encoding = self.encoding,\n",
    "                                 input = self.input,\n",
    "                                 lowercase = self.lowercase,\n",
    "                                 max_df = self.max_df,\n",
    "                                 min_df = self.min_df,\n",
    "                                 ngram_range = self.ngram_range,\n",
    "                                 max_features = self.max_features,\n",
    "                                 strip_accents = self.strip_accents,\n",
    "                                 preprocessor = self.preprocessor,\n",
    "                                 tokenizer = self.tokenizer,\n",
    "                                 stop_words = self.stop_words,\n",
    "                                 vocabulary = self.vocabulary,\n",
    "                                 token_pattern = self.token_pattern)\n",
    "        self.params = None\n",
    "        self.f = None\n",
    "        self.t = None\n",
    "        self.f_t = None\n",
    "        self.g = None\n",
    "    def get_params(self, deep = True):\n",
    "        self.params = self.v.get_params(deep)\n",
    "        return(self.params)\n",
    "    def fit(self, corpus, y = None):\n",
    "        self.c = corpus.tolist()\n",
    "        punc_only = []\n",
    "        for i in range(len(self.c)):\n",
    "            punc_only.append([])\n",
    "            punc_only[i] = re.sub(r\"[^!?:;]\", \"\", self.c[i])\n",
    "        self.f = self.v.fit(punc_only)\n",
    "    def transform(self, corpus):\n",
    "        self.t = self.v.transform(corpus.tolist())\n",
    "        return(self.t)\n",
    "    def fit_transform(self, corpus, y = None):\n",
    "        self.c = corpus.tolist()\n",
    "        punc_only = []\n",
    "        for i in range(len(self.c)):\n",
    "            punc_only.append([])\n",
    "            punc_only[i] = re.sub(r\"[^!?:;]\", \"\", self.c[i])\n",
    "        self.f_t = self.v.fit_transform(punc_only)\n",
    "        return self.f_t\n",
    "    def get_features(self):\n",
    "        self.g = self.v.get_feature_names()\n",
    "        return(self.g)"
   ]
  },
  {
   "cell_type": "code",
   "execution_count": 8,
   "metadata": {},
   "outputs": [
    {
     "data": {
      "text/plain": [
       "array([[ 0,  0,  0,  0],\n",
       "       [ 0,  1,  1,  0],\n",
       "       [ 0,  0,  0,  0],\n",
       "       [ 0,  1,  0,  0],\n",
       "       [ 0,  0,  0,  0],\n",
       "       [ 1,  0,  0,  5],\n",
       "       [ 0,  0,  0,  0],\n",
       "       [ 0,  4,  0,  0],\n",
       "       [ 0,  0,  0,  0],\n",
       "       [ 0,  6,  0,  1],\n",
       "       [ 0,  1,  0,  0],\n",
       "       [ 0,  0,  0,  0],\n",
       "       [ 0,  0,  0,  0],\n",
       "       [ 0,  0,  0,  0],\n",
       "       [ 1, 20,  4,  6]])"
      ]
     },
     "execution_count": 8,
     "metadata": {},
     "output_type": "execute_result"
    }
   ],
   "source": [
    "sample_corpus = articles['text'][:15]\n",
    "\n",
    "punctuation_vectorizer = Punc_Vec()\n",
    "punctuation_vectorizer.fit_transform(sample_corpus).toarray()"
   ]
  },
  {
   "cell_type": "code",
   "execution_count": 9,
   "metadata": {},
   "outputs": [
    {
     "data": {
      "text/plain": [
       "['!', ':', ';', '?']"
      ]
     },
     "execution_count": 9,
     "metadata": {},
     "output_type": "execute_result"
    }
   ],
   "source": [
    "punctuation_vectorizer.get_features()"
   ]
  },
  {
   "cell_type": "markdown",
   "metadata": {},
   "source": [
    "# Feature engineering\n",
    "\n",
    "From the text, clean text, and PoS tag columns, we need to obtain the following:\n",
    "- BoW matrix of punctuation from original (uncleaned) text\n",
    "- topic distribution matrix & K best term vectors from the BoW matrix\n",
    "- BoW matrix from PoS tags column = count-vectorized PoS tags\n",
    "\n",
    "We also need to pull the net sentiment score column and append to these resulting matrices."
   ]
  },
  {
   "cell_type": "code",
   "execution_count": 13,
   "metadata": {},
   "outputs": [],
   "source": [
    "# need to use ColumnTransformer() to do different things to 'text', 'clean_txt', and 'PoS_tags' columns;\n",
    "# need to use FeatureUnion() to simultaneously perform dimensionality reduction and feature selection\n",
    "# on the 'clean_txt' column\n",
    "\n",
    "# Set up feature union to do both dimensionality reduction (compare NMF & LSA) and select\n",
    "# K best performing word vectors; in other words, get topics & keep important words.\n",
    "\n",
    "# set number of topics\n",
    "topics = 100\n",
    "\n",
    "# set number of words from BoW to keep in model\n",
    "top_terms = 20\n",
    "\n",
    "nmf = NMF(n_components = topics, random_state = 42)\n",
    "kbest = SelectKBest(k = top_terms)\n",
    "\n",
    "featUn = FeatureUnion([\n",
    "    ('dim_red', nmf),\n",
    "    ('feat_sel', kbest)\n",
    "])\n",
    "\n",
    "# Set up pipeline for clean text: vectorize followed by simultaneous dimensionality\n",
    "# reduction and feature selection.\n",
    "tfidf = TfidfVectorizer(stop_words = 'english',\n",
    "                        ngram_range = (1,2),\n",
    "                        max_df = 0.90,\n",
    "                        min_df = 2,\n",
    "                        max_features = 20000)\n",
    "\n",
    "cleanTextPipe = Pipeline([\n",
    "    ('vectorize', tfidf),\n",
    "    ('dimRed_plus_featSel', featUn)\n",
    "])\n",
    "\n",
    "# Set up column transformer to distinguish between vectorizing clean text and original text.\n",
    "#\n",
    "# For clean text, perform the following: TF-IDF vectorize; then perform dimensionality\n",
    "# reduction (NMF) & feature selection (SelectKBest).\n",
    "#\n",
    "# For PoS text, perform the following: vectorize PoS tags (CountVectorizer).\n",
    "countvec = CountVectorizer(lowercase = False)\n",
    "#\n",
    "# For original text, perform the following: vectorize select punctuation (CountVectorizer).\n",
    "puncvec = Punc_Vec()\n",
    "\n",
    "sep_cols = ColumnTransformer(\n",
    "    # transformers\n",
    "    [\n",
    "        ('vectorize_punctuation', puncvec, 'text'), # perform only on text column\n",
    "        ('clean_text_pipe', cleanTextPipe, 'clean_txt'), # perform only on clean_txt column\n",
    "        ('vectorize_PoS', countvec, 'PoS_tags') # perform only on PoS_tags column\n",
    "    ],\n",
    "    # keep the 'net_sent' column with no transformations\n",
    "    remainder = 'passthrough'\n",
    ")"
   ]
  },
  {
   "cell_type": "code",
   "execution_count": 14,
   "metadata": {},
   "outputs": [],
   "source": [
    "# Fit & transform the X_train dataframe into the feature matrix for training models\n",
    "X_train = sep_cols.fit(text_train, y_bi_train)"
   ]
  },
  {
   "cell_type": "code",
   "execution_count": 15,
   "metadata": {},
   "outputs": [
    {
     "data": {
      "text/plain": [
       "['column_transformer.joblib']"
      ]
     },
     "execution_count": 15,
     "metadata": {},
     "output_type": "execute_result"
    }
   ],
   "source": [
    "import joblib\n",
    "joblib.dump(sep_cols, 'column_transformer.joblib')"
   ]
  },
  {
   "cell_type": "code",
   "execution_count": 12,
   "metadata": {},
   "outputs": [],
   "source": [
    "# Transform the X_test dataframe into the feature matrix for testing models\n",
    "X_test = sep_cols.transform(text_test)"
   ]
  },
  {
   "cell_type": "code",
   "execution_count": 13,
   "metadata": {},
   "outputs": [],
   "source": [
    "# Use random undersampling of majority class (\"reliable\" news) to improve model training\n",
    "X_train_resample, y_bi_train_resample = RandomUnderSampler('majority').fit_resample(X_train, y_bi_train)"
   ]
  },
  {
   "cell_type": "code",
   "execution_count": 14,
   "metadata": {},
   "outputs": [
    {
     "data": {
      "text/plain": [
       "array([[ 0.        ,  0.        ,  0.        , ...,  0.        ,\n",
       "         2.        , -0.01287554],\n",
       "       [ 0.        ,  5.        ,  1.        , ...,  4.        ,\n",
       "         2.        ,  0.04896422],\n",
       "       [ 3.        ,  1.        ,  0.        , ...,  2.        ,\n",
       "         1.        , -0.04651163],\n",
       "       ...,\n",
       "       [ 0.        ,  0.        ,  0.        , ...,  0.        ,\n",
       "         0.        , -0.10526316],\n",
       "       [ 0.        ,  0.        ,  0.        , ...,  1.        ,\n",
       "         1.        , -0.01515152],\n",
       "       [ 4.        ,  1.        ,  0.        , ...,  9.        ,\n",
       "         7.        , -0.03351955]])"
      ]
     },
     "execution_count": 14,
     "metadata": {},
     "output_type": "execute_result"
    }
   ],
   "source": [
    "X_train_resample"
   ]
  },
  {
   "cell_type": "code",
   "execution_count": 15,
   "metadata": {},
   "outputs": [
    {
     "data": {
      "text/plain": [
       "array([0, 0, 0, ..., 1, 1, 1])"
      ]
     },
     "execution_count": 15,
     "metadata": {},
     "output_type": "execute_result"
    }
   ],
   "source": [
    "y_bi_train_resample"
   ]
  },
  {
   "cell_type": "markdown",
   "metadata": {},
   "source": [
    "### Inspect Topics"
   ]
  },
  {
   "cell_type": "code",
   "execution_count": 16,
   "metadata": {},
   "outputs": [],
   "source": [
    "# define function to retrieve top n words from k topics\n",
    "def top_words(model, features, n):\n",
    "    for i, topic in enumerate(model.components_):\n",
    "        message = 'Topic ' + str(i+1) + ': '\n",
    "        topic_words = []\n",
    "        for j in topic.argsort()[-n:][::-1]:\n",
    "            topic_words.append(features[j])\n",
    "        print(message + str(', '.join(topic_words)))"
   ]
  },
  {
   "cell_type": "code",
   "execution_count": 17,
   "metadata": {
    "scrolled": true
   },
   "outputs": [
    {
     "name": "stdout",
     "output_type": "stream",
     "text": [
      "NMF Tf-idf Topics\n",
      "Topic 1: say, told, add, statement, ask, comment, trump say, interview, want, monday\n",
      "Topic 2: nginx, forbidden nginx, forbidden, ban, asylum, guard, chinese, rule, apparently, potter\n",
      "Topic 3: trump, donald, donald trump, trump say, trumps, tweet, president donald, administration, campaign, say trump\n",
      "Topic 4: putin, vladimir, vladimir putin, meeting, russian president, president vladimir, russian, russia, summit, helsinki\n",
      "Topic 5: der, die, und, den, von, zu, mit, da, das, auf\n",
      "Topic 6: league, premier league, premier, season, chelsea, arsenal, liverpool, club, goal, manchester\n",
      "Topic 7: democrats, republicans, seat, house, midterm, senate, republican, election, gop, democratic\n",
      "Topic 8: russian, russia, moscow, sanction, skripal, foreign, ukraine, ministry, ukrainian, russias\n",
      "Topic 9: north, korea, kim, north korea, korean, north korean, summit, nuclear, south, south korea\n",
      "Topic 10: brexit, eu, deal, uk, britain, theresa, european, mrs, ireland, referendum\n",
      "Topic 11: space, nasa, launch, rocket, satellite, earth, station, spacecraft, space force, moon\n",
      "Topic 12: court, supreme, supreme court, judge, justice, case, nominee, law, brett, ruling\n",
      "Topic 13: saudi, khashoggi, arabia, saudi arabia, consulate, prince, crown prince, jamal, crown, jamal khashoggi\n",
      "Topic 14: cookie policy, policy cookie, encourages read, media encourages, policy, update privacy, read update, pj media, privacy policy, cookie\n",
      "Topic 15: people, country, group, community, kill, violence, right, young, america, life\n",
      "Topic 16: medium, twitter, social, social medium, tweet, account, post, video, jones, platform\n",
      "Topic 17: school, student, teacher, high school, education, university, high, college, campus, shoot\n",
      "Topic 18: police, officer, man, arrest, police say, incident, suspect, police officer, report, shot\n",
      "Topic 19: facebook, data, user, zuckerberg, cambridge, analytica, cambridge analytica, privacy, facebooks, ad\n",
      "Topic 20: white, white house, house, kelly, staff, porter, aide, chief staff, hicks, omarosa\n",
      "Topic 21: ford, allegation, assault, committee, blasey, sexual, brett, judiciary, judiciary committee, christine\n",
      "Topic 22: music, song, album, singer, band, west, artist, kanye, fan, rapper\n",
      "Topic 23: iran, nuclear, sanction, iranian, deal, nuclear deal, oil, tehran, iran nuclear, jcpoa\n",
      "Topic 24: china, trade, tariff, chinese, import, trade war, steel, beijing, aluminum, war\n",
      "Topic 25: manafort, gates, trial, paul manafort, manaforts, paul, bank, campaign, charge, ellis\n",
      "Topic 26: immigration, immigrant, ice, administration, law, illegal, policy, enforcement, border, daca\n",
      "Topic 27: mueller, special counsel, counsel, special, investigation, robert, robert mueller, muellers, giuliani, counsel robert\n",
      "Topic 28: mr, mr trump, ms, say mr, say, mrs, mr johnson, defence, mr cohen, accuse\n",
      "Topic 29: tax, cut, budget, tax cut, spending, rate, government, pay, economy, income\n",
      "Topic 30: family, life, love, friend, son, death, daughter, father, home, mother\n",
      "Topic 31: gun, gun control, shoot, nra, firearm, control, rifle, parkland, weapon, violence\n",
      "Topic 32: madrid, ronaldo, real, real madrid, champions, champions league, cristiano, barcelona, juventus, cristiano ronaldo\n",
      "Topic 33: woman, men, sexual, female, sex, gender, harassment, male, assault, women\n",
      "Topic 34: check, post, blog, email, newsbusters, share post, email address, read, sorry, sent\n",
      "Topic 35: mourinho, united, manchester, manchester united, jose, jose mourinho, pogba, trafford, old trafford, old\n",
      "Topic 36: military, defense, war, force, nato, troop, missile, army, pentagon, air\n",
      "Topic 37: committee, intelligence, nunes, campaign, memo, information, dossier, document, steele, intelligence committee\n",
      "Topic 38: new, york, new york, times, york times, cuomo, york city, nixon, report, times report\n",
      "Topic 39: mccain, john mccain, john, senator, mccains, arizona, cancer, brain cancer, war, service\n",
      "Topic 40: vote, senate, collins, senator, mcconnell, flake, nomination, nominee, confirmation, republican\n",
      "Topic 41: apple, iphone, phone, device, apples, app, use, new, feature, xs\n",
      "Topic 42: black friday, black, amazon, deal, friday, sale, price, discount, cyber monday, retailer\n",
      "Topic 43: health, drug, patient, care, hospital, disease, study, medical, mental, health care\n",
      "Topic 44: fox, news, fox news, hannity, network, host, nbc, cnn, sean, report\n",
      "Topic 45: election, voter, ballot, vote, county, florida, abrams, recount, voting, kemp\n",
      "Topic 46: meghan, royal, prince, harry, wedding, duchess, markle, prince harry, princess, queen\n",
      "Topic 47: percent, poll, voter, survey, percent say, rate, rating, percent percent, americans, approval\n",
      "Topic 48: england, cup, world cup, world, player, team, match, test, croatia, play\n",
      "Topic 49: israel, israeli, gaza, palestinian, palestinians, hamas, jerusalem, netanyahu, embassy, gaza strip\n",
      "Topic 50: pay, story, video, sun, click, pay video, video click, upload, click upload, sun online\n",
      "Topic 51: slideshow, slideshow times, instagram, times, photo, stripped, model, internet, josephine, blonde bombshell\n",
      "Topic 52: flight, passenger, plane, airline, airport, aircraft, air, pilot, crew, ryanair\n",
      "Topic 53: child, parent, family, separate, kid, reunite, mother, separation, adult, baby\n",
      "Topic 54: syria, syrian, attack, chemical, terrorist, chemical weapon, idlib, damascus, militant, weapon\n",
      "Topic 55: pm, edt, updated, august, october, september, reynolds, november, glenn, helen\n",
      "Topic 56: live, sky, sports, match, sky sports, stream, tv, sport, channel, bt\n",
      "Topic 57: clinton, hillary, hillary clinton, obama, clintons, email, package, presidential, campaign, bomb\n",
      "Topic 58: abortion, planned, planned parenthood, parenthood, roe, pregnancy, prolife, baby, right, roe wade\n",
      "Topic 59: film, movie, star, actor, character, series, hollywood, role, actress, netflix\n",
      "Topic 60: macron, french, france, european, europe, germany, german, merkel, paris, french president\n",
      "Topic 61: mcgregor, fight, ufc, khabib, nurmagomedov, boxing, conor, mayweather, wilder, fighter\n",
      "Topic 62: hurricane, storm, florence, carolina, puerto, hurricane florence, wind, coast, island, florida\n",
      "Topic 63: climate, climate change, change, energy, global, emission, gas, oil, warm, carbon\n",
      "Topic 64: minister, prime, prime minister, canada, trudeau, canadian, government, justin, justin trudeau, nafta\n",
      "Topic 65: big brother, brother, big, series, celebrity, celebrity big, star, channel, housemate, roxanne\n",
      "Topic 66: sessions, attorney, attorney general, general, rosenstein, department, justice, justice department, jeff sessions, jeff\n",
      "Topic 67: comey, james, james comey, fbi, fbi director, director, book, memo, comey say, director james\n",
      "Topic 68: sentence, prison, charge, arrest, jail, case, guilty, drug, court, crime\n",
      "Topic 69: think, just, dont, thing, know, im, want, really, thats, make\n",
      "Topic 70: church, abuse, pope, catholic, francis, priest, sexual, bishop, vatican, catholic church\n",
      "Topic 71: food, london, hotel, restaurant, christmas, store, year, room, bar, street\n",
      "Topic 72: car, driver, vehicle, road, drive, crash, park, uber, traffic, injury\n",
      "Topic 73: pelosi, house, speaker, nancy, ryan, nancy pelosi, leader, caucus, minority leader, minority\n",
      "Topic 74: president, president trump, obama, trumps, president donald, bush, pence, vice, vice president, barack\n",
      "Topic 75: state, california, law, governor, secretary state, federal, secretary, department, pompeo, state department\n",
      "Topic 76: cbsn, watch, face nation, haley, video, interview, nikki haley, nikki, walter, voter\n",
      "Topic 77: united, states, united states, american, country, america, united nations, nations, president united, nation\n",
      "Topic 78: strictly, dance, dancing, come dancing, strictly come, bbc, dancer, katya, seann, series\n",
      "Topic 79: party, labour, corbyn, political, leader, antisemitism, conservative, democratic party, democratic, election\n",
      "Topic 80: google, search, googles, search engine, user, tech, engine, android, search result, result\n",
      "Topic 81: dog, animal, cat, pet, water, owner, rescue, meat, human, wildlife\n",
      "Topic 82: daniels, avenatti, stormy, stormy daniels, michael avenatti, michael, lawyer, porn, affair, clifford\n",
      "Topic 83: city, mayor, council, resident, chicago, building, city council, housing, local, street\n",
      "Topic 84: border, migrant, caravan, mexico, asylum, mexican, cross, honduras, migrant caravan, tijuana\n",
      "Topic 85: pruitt, epa, agency, pruitts, administrator, environmental, scott, scott pruitt, office, administration\n",
      "Topic 86: wing watch, right wing, wing, reader, right, watch, support, american way, make contribution, intolerant\n",
      "Topic 87: nfl, player, anthem, protest, kaepernick, national anthem, kneel, nike, national, team\n",
      "Topic 88: sanders, press, acosta, cnn, sarah, reporter, press secretary, question, house press, huckabee\n",
      "Topic 89: cohen, michael cohen, michael, payment, cohens, giuliani, lawyer, attorney, raid, trump\n",
      "Topic 90: company, business, market, tesla, musk, stock, firm, investor, ceo, employee\n",
      "Topic 91: candidate, democratic, republican, campaign, primary, district, race, run, congressional, governor\n",
      "Topic 92: western journal, tap, home, screen, journal, western, add, street journal, wall, wall street\n",
      "Topic 93: fbi, strzok, investigation, page, agent, text, mccabe, fbi agent, peter strzok, peter\n",
      "Topic 94: game, play, season, team, score, player, goal, ball, coach, inning\n",
      "Topic 95: weather, rain, temperature, wind, snow, met office, northern, area, scotland, shower\n",
      "Topic 96: daily, content, caller, daily caller, caller news, news, news foundation, foundation, original content, foundation available\n",
      "Topic 97: security, clearance, brennan, security clearance, cia, national security, national, intelligence, official, director\n",
      "Topic 98: villa, club, aston, aston villa, bruce, smith, player, championship, blues, loan\n",
      "Topic 99: turkey, turkish, erdogan, brunson, ankara, pastor, lira, tayyip, currency, tayyip erdogan\n",
      "Topic 100: race, win, won, winner, second, year, finish, time, run, season\n"
     ]
    }
   ],
   "source": [
    "n = 10 # number of words per topic\n",
    "\n",
    "tfidf_vectorizer = TfidfVectorizer(stop_words = 'english',\n",
    "                                   ngram_range = (1,2),\n",
    "                                   max_df = 0.90,\n",
    "                                   min_df = 2,\n",
    "                                   max_features = 20000)\n",
    "X_textTFIDF = tfidf_vectorizer.fit_transform(text_train['clean_txt'])\n",
    "\n",
    "features = tfidf_vectorizer.get_feature_names()\n",
    "nmf_model = NMF(n_components = topics, random_state = 42).fit(X_textTFIDF)\n",
    "\n",
    "print('NMF Tf-idf Topics')\n",
    "top_words(nmf_model, features, n)"
   ]
  },
  {
   "cell_type": "markdown",
   "metadata": {},
   "source": [
    "### Inspect K \"Best Terms\""
   ]
  },
  {
   "cell_type": "code",
   "execution_count": 18,
   "metadata": {},
   "outputs": [
    {
     "data": {
      "text/plain": [
       "array([  204,   219,  1016,  3202,  4930,  5229,  6715,  8879,  9510,\n",
       "       11342, 12765, 13815, 13817, 14028, 15592, 16422, 16543, 17853,\n",
       "       18305, 19827])"
      ]
     },
     "execution_count": 18,
     "metadata": {},
     "output_type": "execute_result"
    }
   ],
   "source": [
    "kbest_model = SelectKBest(k = top_terms)\n",
    "kbest_transformed = kbest_model.fit_transform(X_textTFIDF, y_bi_train)\n",
    "kbest_transformed.toarray().shape\n",
    "# indices of features (terms) selected from BoW matrix\n",
    "kbest_model.get_support(indices = True)"
   ]
  },
  {
   "cell_type": "code",
   "execution_count": 19,
   "metadata": {},
   "outputs": [
    {
     "name": "stdout",
     "output_type": "stream",
     "text": [
      "according\n",
      "accuracy journalism\n",
      "article post\n",
      "commit truth\n",
      "donald\n",
      "editorial standard\n",
      "game\n",
      "journalism read\n",
      "league\n",
      "necessarily reflect\n",
      "play\n",
      "read\n",
      "read editorial\n",
      "reflect sputnik\n",
      "season\n",
      "speaker necessarily\n",
      "sputnik\n",
      "told sputnik\n",
      "truth accuracy\n",
      "year\n"
     ]
    }
   ],
   "source": [
    "# map indices to words\n",
    "kbest_indices = kbest_model.get_support(indices = True)\n",
    "\n",
    "# print out terms matching indices\n",
    "for el in kbest_indices:\n",
    "    print(tfidf_vectorizer.get_feature_names()[el])"
   ]
  },
  {
   "cell_type": "markdown",
   "metadata": {},
   "source": [
    "### Inspect PoS Tags"
   ]
  },
  {
   "cell_type": "code",
   "execution_count": 20,
   "metadata": {
    "scrolled": true
   },
   "outputs": [
    {
     "data": {
      "text/plain": [
       "['CC',\n",
       " 'CD',\n",
       " 'DT',\n",
       " 'EX',\n",
       " 'FW',\n",
       " 'IN',\n",
       " 'JJ',\n",
       " 'JJR',\n",
       " 'JJS',\n",
       " 'LS',\n",
       " 'MD',\n",
       " 'NN',\n",
       " 'NNP',\n",
       " 'NNPS',\n",
       " 'NNS',\n",
       " 'PRP',\n",
       " 'RB',\n",
       " 'RBR',\n",
       " 'RBS',\n",
       " 'SYM',\n",
       " 'TO',\n",
       " 'UH',\n",
       " 'VB',\n",
       " 'VBD',\n",
       " 'VBG',\n",
       " 'VBN',\n",
       " 'VBP',\n",
       " 'VBZ',\n",
       " 'WDT',\n",
       " 'WP',\n",
       " 'WRB']"
      ]
     },
     "execution_count": 20,
     "metadata": {},
     "output_type": "execute_result"
    }
   ],
   "source": [
    "countvec = CountVectorizer(lowercase = False)\n",
    "PoS_counts = countvec.fit_transform(text_train['PoS_tags'])\n",
    "countvec.get_feature_names()"
   ]
  },
  {
   "cell_type": "markdown",
   "metadata": {},
   "source": [
    "### Inspect Punctuation Features"
   ]
  },
  {
   "cell_type": "code",
   "execution_count": 21,
   "metadata": {},
   "outputs": [
    {
     "data": {
      "text/plain": [
       "['!', ':', ';', '?']"
      ]
     },
     "execution_count": 21,
     "metadata": {},
     "output_type": "execute_result"
    }
   ],
   "source": [
    "puncvec = Punc_Vec()\n",
    "\n",
    "# fit to text column & transform\n",
    "puncvec.fit_transform(text_train['text'])\n",
    "\n",
    "# see list of punctuation features\n",
    "punctuation_features = puncvec.get_features()\n",
    "punctuation_features"
   ]
  },
  {
   "cell_type": "markdown",
   "metadata": {},
   "source": [
    "# Train & Evaluate Models"
   ]
  },
  {
   "cell_type": "markdown",
   "metadata": {},
   "source": [
    "## Create New Logistic Regression Class\n",
    "\n",
    "Scikit-learn's implementation of logistic regression does not include probability threshold as a hyperparameter. We will create our own logistic regression class which does include probability threshold as a hyperparameter.\n",
    "\n",
    "To incorporate in the below pipeline, our logistic regression class will need to have fit, predict, and set_params methods."
   ]
  },
  {
   "cell_type": "code",
   "execution_count": 22,
   "metadata": {},
   "outputs": [],
   "source": [
    "class myLogisticRegression:\n",
    "    # initialize class and private variables\n",
    "    def __init__(self,\n",
    "                 prob_threshold = 0.5, # key difference: include tuneable hyperparameter for probability threshold\n",
    "                 penalty = 'l1', # different from sklearn's implementation; want to do LASSO by default\n",
    "                 C = 1.0, # same as sklearn's implementation\n",
    "                 tol = 0.0001, # same as sklearn's implementation\n",
    "                 fit_intercept = False, # different from sklearn's implementation; don't want to fit intercept\n",
    "                 class_weight = None, # same as sklearn's implementation\n",
    "                 solver = 'saga' # different from sklearn's implementation; can do l1 & l2 penalties, and good\n",
    "                 # for large size datasets\n",
    "                ):\n",
    "        \n",
    "        self.prob_thresh = prob_threshold\n",
    "        self.penalty = penalty\n",
    "        self.C = C\n",
    "        self.tol = tol\n",
    "        self.fit_intercept = fit_intercept\n",
    "        self.class_weight = class_weight\n",
    "        self.solver = solver\n",
    "        #self.logit = None\n",
    "        self.coef = None\n",
    "        self.classes = None\n",
    "        self.intercept = None\n",
    "        self.params = {\n",
    "            'prob_threshold': self.prob_thresh,\n",
    "            'penalty': self.penalty,\n",
    "            'C': self.C,\n",
    "            'tol': self.tol,\n",
    "            'fit_intercept': self.fit_intercept,\n",
    "            'class_weight': self.class_weight,\n",
    "            'solver': self.solver\n",
    "        }\n",
    "        self.logit = LogisticRegression(penalty = self.params['penalty'],\n",
    "                                         tol = self.params['tol'],\n",
    "                                         C = self.params['C'],\n",
    "                                         fit_intercept = self.params['fit_intercept'],\n",
    "                                         class_weight = self.params['class_weight'],\n",
    "                                         solver = self.params['solver']\n",
    "                                        )\n",
    "        self.logit_params = self.logit.get_params()\n",
    "        \n",
    "    # return self.string when class is instantiated\n",
    "    # idea to use '__repr__' method taken from this thread:\n",
    "    # https://stackoverflow.com/questions/12412324/python-class-returning-value/37802740\n",
    "    def __repr__(self):\n",
    "        return 'myLogisticRegression()'\n",
    "        \n",
    "    def fit(self, X_train, y_train, sample_weight = None):\n",
    "        # in case I change the parameters with the set_params method, re-instantiate logistic regression\n",
    "        #self.logit = LogisticRegression(penalty = self.params['penalty'],\n",
    "                                         #tol = self.params['tol'],\n",
    "                                         #C = self.params['C'],\n",
    "                                         #fit_intercept = self.params['fit_intercept'],\n",
    "                                         #class_weight = self.params['class_weight'],\n",
    "                                         #solver = self.params['solver'])\n",
    "        self.logit_params = self.logit.get_params()\n",
    "        logit_model = self.logit.fit(X_train, y_train, sample_weight)\n",
    "        self.coef = self.logit.coef_\n",
    "        self.classes = self.logit.classes_\n",
    "        self.intercept = self.logit.intercept_\n",
    "        \n",
    "        return logit_model\n",
    "    \n",
    "    def predict(self, X_test):\n",
    "        prob_predictions = self.logit.predict_proba(X_test)[:,1] # pull out probability predictions for class 1\n",
    "        y_pred = []\n",
    "        for el in prob_predictions:\n",
    "            if el >= self.prob_thresh: # if the predicted probability is at least equal to my threshold...\n",
    "                y_pred.append(1) # predict class 1 (fake news)\n",
    "            else:\n",
    "                y_pred.append(0) # else, predict class 0 (not fake news)\n",
    "        \n",
    "        return np.asarray(y_pred)\n",
    "    \n",
    "    def set_params(self, **params):\n",
    "        #self.logit.set_params(**params)\n",
    "        #change_params = params\n",
    "        for el in params:\n",
    "            if el in self.params:\n",
    "                self.params[el] = params[el]\n",
    "        \n",
    "        self.logit = LogisticRegression(penalty = self.params['penalty'],\n",
    "                                         tol = self.params['tol'],\n",
    "                                         C = self.params['C'],\n",
    "                                         fit_intercept = self.params['fit_intercept'],\n",
    "                                         class_weight = self.params['class_weight'],\n",
    "                                         solver = self.params['solver']\n",
    "                                       )\n",
    "        \n",
    "        return self.logit"
   ]
  },
  {
   "cell_type": "markdown",
   "metadata": {},
   "source": [
    "## Pipeline"
   ]
  },
  {
   "cell_type": "code",
   "execution_count": 23,
   "metadata": {},
   "outputs": [],
   "source": [
    "# Set up pipeline steps\n",
    "scaler = StandardScaler(with_mean = False)\n",
    "\n",
    "steps = [\n",
    "    ('scale', scaler),\n",
    "    ('classify', 'passthrough')\n",
    "]\n",
    "# Instantiate pipeline\n",
    "pipe = Pipeline(steps)"
   ]
  },
  {
   "cell_type": "markdown",
   "metadata": {},
   "source": [
    "## GridSearchCV for Binary Classification Models"
   ]
  },
  {
   "cell_type": "code",
   "execution_count": 25,
   "metadata": {},
   "outputs": [
    {
     "name": "stderr",
     "output_type": "stream",
     "text": [
      "/Users/caitlinmoroney/opt/anaconda3/lib/python3.7/site-packages/sklearn/linear_model/_sag.py:330: ConvergenceWarning: The max_iter was reached which means the coef_ did not converge\n",
      "  \"the coef_ did not converge\", ConvergenceWarning)\n",
      "/Users/caitlinmoroney/opt/anaconda3/lib/python3.7/site-packages/sklearn/linear_model/_sag.py:330: ConvergenceWarning: The max_iter was reached which means the coef_ did not converge\n",
      "  \"the coef_ did not converge\", ConvergenceWarning)\n",
      "/Users/caitlinmoroney/opt/anaconda3/lib/python3.7/site-packages/sklearn/linear_model/_sag.py:330: ConvergenceWarning: The max_iter was reached which means the coef_ did not converge\n",
      "  \"the coef_ did not converge\", ConvergenceWarning)\n",
      "/Users/caitlinmoroney/opt/anaconda3/lib/python3.7/site-packages/sklearn/linear_model/_sag.py:330: ConvergenceWarning: The max_iter was reached which means the coef_ did not converge\n",
      "  \"the coef_ did not converge\", ConvergenceWarning)\n",
      "/Users/caitlinmoroney/opt/anaconda3/lib/python3.7/site-packages/sklearn/linear_model/_sag.py:330: ConvergenceWarning: The max_iter was reached which means the coef_ did not converge\n",
      "  \"the coef_ did not converge\", ConvergenceWarning)\n",
      "/Users/caitlinmoroney/opt/anaconda3/lib/python3.7/site-packages/sklearn/linear_model/_sag.py:330: ConvergenceWarning: The max_iter was reached which means the coef_ did not converge\n",
      "  \"the coef_ did not converge\", ConvergenceWarning)\n",
      "/Users/caitlinmoroney/opt/anaconda3/lib/python3.7/site-packages/sklearn/linear_model/_sag.py:330: ConvergenceWarning: The max_iter was reached which means the coef_ did not converge\n",
      "  \"the coef_ did not converge\", ConvergenceWarning)\n",
      "/Users/caitlinmoroney/opt/anaconda3/lib/python3.7/site-packages/sklearn/linear_model/_sag.py:330: ConvergenceWarning: The max_iter was reached which means the coef_ did not converge\n",
      "  \"the coef_ did not converge\", ConvergenceWarning)\n",
      "/Users/caitlinmoroney/opt/anaconda3/lib/python3.7/site-packages/sklearn/linear_model/_sag.py:330: ConvergenceWarning: The max_iter was reached which means the coef_ did not converge\n",
      "  \"the coef_ did not converge\", ConvergenceWarning)\n",
      "/Users/caitlinmoroney/opt/anaconda3/lib/python3.7/site-packages/sklearn/linear_model/_sag.py:330: ConvergenceWarning: The max_iter was reached which means the coef_ did not converge\n",
      "  \"the coef_ did not converge\", ConvergenceWarning)\n",
      "/Users/caitlinmoroney/opt/anaconda3/lib/python3.7/site-packages/sklearn/linear_model/_sag.py:330: ConvergenceWarning: The max_iter was reached which means the coef_ did not converge\n",
      "  \"the coef_ did not converge\", ConvergenceWarning)\n",
      "/Users/caitlinmoroney/opt/anaconda3/lib/python3.7/site-packages/sklearn/linear_model/_sag.py:330: ConvergenceWarning: The max_iter was reached which means the coef_ did not converge\n",
      "  \"the coef_ did not converge\", ConvergenceWarning)\n",
      "/Users/caitlinmoroney/opt/anaconda3/lib/python3.7/site-packages/sklearn/linear_model/_sag.py:330: ConvergenceWarning: The max_iter was reached which means the coef_ did not converge\n",
      "  \"the coef_ did not converge\", ConvergenceWarning)\n",
      "/Users/caitlinmoroney/opt/anaconda3/lib/python3.7/site-packages/sklearn/linear_model/_sag.py:330: ConvergenceWarning: The max_iter was reached which means the coef_ did not converge\n",
      "  \"the coef_ did not converge\", ConvergenceWarning)\n",
      "/Users/caitlinmoroney/opt/anaconda3/lib/python3.7/site-packages/sklearn/linear_model/_sag.py:330: ConvergenceWarning: The max_iter was reached which means the coef_ did not converge\n",
      "  \"the coef_ did not converge\", ConvergenceWarning)\n",
      "/Users/caitlinmoroney/opt/anaconda3/lib/python3.7/site-packages/sklearn/linear_model/_sag.py:330: ConvergenceWarning: The max_iter was reached which means the coef_ did not converge\n",
      "  \"the coef_ did not converge\", ConvergenceWarning)\n",
      "/Users/caitlinmoroney/opt/anaconda3/lib/python3.7/site-packages/sklearn/linear_model/_sag.py:330: ConvergenceWarning: The max_iter was reached which means the coef_ did not converge\n",
      "  \"the coef_ did not converge\", ConvergenceWarning)\n",
      "/Users/caitlinmoroney/opt/anaconda3/lib/python3.7/site-packages/sklearn/linear_model/_sag.py:330: ConvergenceWarning: The max_iter was reached which means the coef_ did not converge\n",
      "  \"the coef_ did not converge\", ConvergenceWarning)\n",
      "/Users/caitlinmoroney/opt/anaconda3/lib/python3.7/site-packages/sklearn/linear_model/_sag.py:330: ConvergenceWarning: The max_iter was reached which means the coef_ did not converge\n",
      "  \"the coef_ did not converge\", ConvergenceWarning)\n",
      "/Users/caitlinmoroney/opt/anaconda3/lib/python3.7/site-packages/sklearn/linear_model/_sag.py:330: ConvergenceWarning: The max_iter was reached which means the coef_ did not converge\n",
      "  \"the coef_ did not converge\", ConvergenceWarning)\n",
      "/Users/caitlinmoroney/opt/anaconda3/lib/python3.7/site-packages/sklearn/linear_model/_sag.py:330: ConvergenceWarning: The max_iter was reached which means the coef_ did not converge\n",
      "  \"the coef_ did not converge\", ConvergenceWarning)\n",
      "/Users/caitlinmoroney/opt/anaconda3/lib/python3.7/site-packages/sklearn/linear_model/_sag.py:330: ConvergenceWarning: The max_iter was reached which means the coef_ did not converge\n",
      "  \"the coef_ did not converge\", ConvergenceWarning)\n",
      "/Users/caitlinmoroney/opt/anaconda3/lib/python3.7/site-packages/sklearn/linear_model/_sag.py:330: ConvergenceWarning: The max_iter was reached which means the coef_ did not converge\n",
      "  \"the coef_ did not converge\", ConvergenceWarning)\n",
      "/Users/caitlinmoroney/opt/anaconda3/lib/python3.7/site-packages/sklearn/linear_model/_sag.py:330: ConvergenceWarning: The max_iter was reached which means the coef_ did not converge\n",
      "  \"the coef_ did not converge\", ConvergenceWarning)\n",
      "/Users/caitlinmoroney/opt/anaconda3/lib/python3.7/site-packages/sklearn/linear_model/_sag.py:330: ConvergenceWarning: The max_iter was reached which means the coef_ did not converge\n",
      "  \"the coef_ did not converge\", ConvergenceWarning)\n",
      "/Users/caitlinmoroney/opt/anaconda3/lib/python3.7/site-packages/sklearn/linear_model/_sag.py:330: ConvergenceWarning: The max_iter was reached which means the coef_ did not converge\n",
      "  \"the coef_ did not converge\", ConvergenceWarning)\n",
      "/Users/caitlinmoroney/opt/anaconda3/lib/python3.7/site-packages/sklearn/linear_model/_sag.py:330: ConvergenceWarning: The max_iter was reached which means the coef_ did not converge\n",
      "  \"the coef_ did not converge\", ConvergenceWarning)\n",
      "/Users/caitlinmoroney/opt/anaconda3/lib/python3.7/site-packages/sklearn/linear_model/_sag.py:330: ConvergenceWarning: The max_iter was reached which means the coef_ did not converge\n",
      "  \"the coef_ did not converge\", ConvergenceWarning)\n",
      "/Users/caitlinmoroney/opt/anaconda3/lib/python3.7/site-packages/sklearn/linear_model/_sag.py:330: ConvergenceWarning: The max_iter was reached which means the coef_ did not converge\n",
      "  \"the coef_ did not converge\", ConvergenceWarning)\n",
      "/Users/caitlinmoroney/opt/anaconda3/lib/python3.7/site-packages/sklearn/linear_model/_sag.py:330: ConvergenceWarning: The max_iter was reached which means the coef_ did not converge\n",
      "  \"the coef_ did not converge\", ConvergenceWarning)\n",
      "/Users/caitlinmoroney/opt/anaconda3/lib/python3.7/site-packages/sklearn/linear_model/_sag.py:330: ConvergenceWarning: The max_iter was reached which means the coef_ did not converge\n",
      "  \"the coef_ did not converge\", ConvergenceWarning)\n",
      "/Users/caitlinmoroney/opt/anaconda3/lib/python3.7/site-packages/sklearn/linear_model/_sag.py:330: ConvergenceWarning: The max_iter was reached which means the coef_ did not converge\n",
      "  \"the coef_ did not converge\", ConvergenceWarning)\n",
      "/Users/caitlinmoroney/opt/anaconda3/lib/python3.7/site-packages/sklearn/linear_model/_sag.py:330: ConvergenceWarning: The max_iter was reached which means the coef_ did not converge\n",
      "  \"the coef_ did not converge\", ConvergenceWarning)\n",
      "/Users/caitlinmoroney/opt/anaconda3/lib/python3.7/site-packages/sklearn/linear_model/_sag.py:330: ConvergenceWarning: The max_iter was reached which means the coef_ did not converge\n",
      "  \"the coef_ did not converge\", ConvergenceWarning)\n",
      "/Users/caitlinmoroney/opt/anaconda3/lib/python3.7/site-packages/sklearn/linear_model/_sag.py:330: ConvergenceWarning: The max_iter was reached which means the coef_ did not converge\n",
      "  \"the coef_ did not converge\", ConvergenceWarning)\n",
      "/Users/caitlinmoroney/opt/anaconda3/lib/python3.7/site-packages/sklearn/linear_model/_sag.py:330: ConvergenceWarning: The max_iter was reached which means the coef_ did not converge\n",
      "  \"the coef_ did not converge\", ConvergenceWarning)\n"
     ]
    },
    {
     "name": "stderr",
     "output_type": "stream",
     "text": [
      "/Users/caitlinmoroney/opt/anaconda3/lib/python3.7/site-packages/sklearn/linear_model/_sag.py:330: ConvergenceWarning: The max_iter was reached which means the coef_ did not converge\n",
      "  \"the coef_ did not converge\", ConvergenceWarning)\n",
      "/Users/caitlinmoroney/opt/anaconda3/lib/python3.7/site-packages/sklearn/linear_model/_sag.py:330: ConvergenceWarning: The max_iter was reached which means the coef_ did not converge\n",
      "  \"the coef_ did not converge\", ConvergenceWarning)\n",
      "/Users/caitlinmoroney/opt/anaconda3/lib/python3.7/site-packages/sklearn/linear_model/_sag.py:330: ConvergenceWarning: The max_iter was reached which means the coef_ did not converge\n",
      "  \"the coef_ did not converge\", ConvergenceWarning)\n",
      "/Users/caitlinmoroney/opt/anaconda3/lib/python3.7/site-packages/sklearn/linear_model/_sag.py:330: ConvergenceWarning: The max_iter was reached which means the coef_ did not converge\n",
      "  \"the coef_ did not converge\", ConvergenceWarning)\n",
      "/Users/caitlinmoroney/opt/anaconda3/lib/python3.7/site-packages/sklearn/linear_model/_sag.py:330: ConvergenceWarning: The max_iter was reached which means the coef_ did not converge\n",
      "  \"the coef_ did not converge\", ConvergenceWarning)\n",
      "/Users/caitlinmoroney/opt/anaconda3/lib/python3.7/site-packages/sklearn/linear_model/_sag.py:330: ConvergenceWarning: The max_iter was reached which means the coef_ did not converge\n",
      "  \"the coef_ did not converge\", ConvergenceWarning)\n",
      "/Users/caitlinmoroney/opt/anaconda3/lib/python3.7/site-packages/sklearn/linear_model/_sag.py:330: ConvergenceWarning: The max_iter was reached which means the coef_ did not converge\n",
      "  \"the coef_ did not converge\", ConvergenceWarning)\n",
      "/Users/caitlinmoroney/opt/anaconda3/lib/python3.7/site-packages/sklearn/linear_model/_sag.py:330: ConvergenceWarning: The max_iter was reached which means the coef_ did not converge\n",
      "  \"the coef_ did not converge\", ConvergenceWarning)\n",
      "/Users/caitlinmoroney/opt/anaconda3/lib/python3.7/site-packages/sklearn/linear_model/_sag.py:330: ConvergenceWarning: The max_iter was reached which means the coef_ did not converge\n",
      "  \"the coef_ did not converge\", ConvergenceWarning)\n",
      "/Users/caitlinmoroney/opt/anaconda3/lib/python3.7/site-packages/sklearn/linear_model/_sag.py:330: ConvergenceWarning: The max_iter was reached which means the coef_ did not converge\n",
      "  \"the coef_ did not converge\", ConvergenceWarning)\n",
      "/Users/caitlinmoroney/opt/anaconda3/lib/python3.7/site-packages/sklearn/linear_model/_sag.py:330: ConvergenceWarning: The max_iter was reached which means the coef_ did not converge\n",
      "  \"the coef_ did not converge\", ConvergenceWarning)\n",
      "/Users/caitlinmoroney/opt/anaconda3/lib/python3.7/site-packages/sklearn/linear_model/_sag.py:330: ConvergenceWarning: The max_iter was reached which means the coef_ did not converge\n",
      "  \"the coef_ did not converge\", ConvergenceWarning)\n",
      "/Users/caitlinmoroney/opt/anaconda3/lib/python3.7/site-packages/sklearn/linear_model/_sag.py:330: ConvergenceWarning: The max_iter was reached which means the coef_ did not converge\n",
      "  \"the coef_ did not converge\", ConvergenceWarning)\n",
      "/Users/caitlinmoroney/opt/anaconda3/lib/python3.7/site-packages/sklearn/linear_model/_sag.py:330: ConvergenceWarning: The max_iter was reached which means the coef_ did not converge\n",
      "  \"the coef_ did not converge\", ConvergenceWarning)\n",
      "/Users/caitlinmoroney/opt/anaconda3/lib/python3.7/site-packages/sklearn/linear_model/_sag.py:330: ConvergenceWarning: The max_iter was reached which means the coef_ did not converge\n",
      "  \"the coef_ did not converge\", ConvergenceWarning)\n",
      "/Users/caitlinmoroney/opt/anaconda3/lib/python3.7/site-packages/sklearn/linear_model/_sag.py:330: ConvergenceWarning: The max_iter was reached which means the coef_ did not converge\n",
      "  \"the coef_ did not converge\", ConvergenceWarning)\n",
      "/Users/caitlinmoroney/opt/anaconda3/lib/python3.7/site-packages/sklearn/linear_model/_sag.py:330: ConvergenceWarning: The max_iter was reached which means the coef_ did not converge\n",
      "  \"the coef_ did not converge\", ConvergenceWarning)\n",
      "/Users/caitlinmoroney/opt/anaconda3/lib/python3.7/site-packages/sklearn/linear_model/_sag.py:330: ConvergenceWarning: The max_iter was reached which means the coef_ did not converge\n",
      "  \"the coef_ did not converge\", ConvergenceWarning)\n",
      "/Users/caitlinmoroney/opt/anaconda3/lib/python3.7/site-packages/sklearn/linear_model/_sag.py:330: ConvergenceWarning: The max_iter was reached which means the coef_ did not converge\n",
      "  \"the coef_ did not converge\", ConvergenceWarning)\n",
      "/Users/caitlinmoroney/opt/anaconda3/lib/python3.7/site-packages/sklearn/linear_model/_sag.py:330: ConvergenceWarning: The max_iter was reached which means the coef_ did not converge\n",
      "  \"the coef_ did not converge\", ConvergenceWarning)\n",
      "/Users/caitlinmoroney/opt/anaconda3/lib/python3.7/site-packages/sklearn/linear_model/_sag.py:330: ConvergenceWarning: The max_iter was reached which means the coef_ did not converge\n",
      "  \"the coef_ did not converge\", ConvergenceWarning)\n"
     ]
    },
    {
     "data": {
      "text/plain": [
       "GridSearchCV(cv=StratifiedKFold(n_splits=5, random_state=None, shuffle=False),\n",
       "             error_score=nan,\n",
       "             estimator=Pipeline(memory=None,\n",
       "                                steps=[('scale',\n",
       "                                        StandardScaler(copy=True,\n",
       "                                                       with_mean=False,\n",
       "                                                       with_std=True)),\n",
       "                                       ('classify', 'passthrough')],\n",
       "                                verbose=False),\n",
       "             iid='deprecated', n_jobs=None,\n",
       "             param_grid=[{'classify': [myLogisticRegression()],\n",
       "                          'classify__C': [0.001, 0.01, 0.1, 1],...\n",
       "                                                              min_impurity_split=None,\n",
       "                                                              min_samples_leaf=1,\n",
       "                                                              min_samples_split=2,\n",
       "                                                              min_weight_fraction_leaf=0.0,\n",
       "                                                              n_estimators=500,\n",
       "                                                              n_jobs=None,\n",
       "                                                              oob_score=False,\n",
       "                                                              random_state=None,\n",
       "                                                              verbose=0,\n",
       "                                                              warm_start=False)],\n",
       "                          'classify__max_depth': [50, 100, 150],\n",
       "                          'classify__n_estimators': [50, 100, 500]}],\n",
       "             pre_dispatch='2*n_jobs', refit='accuracy',\n",
       "             return_train_score=False, scoring=['accuracy', 'f1'], verbose=0)"
      ]
     },
     "execution_count": 25,
     "metadata": {},
     "output_type": "execute_result"
    }
   ],
   "source": [
    "# Set up classification hyperparameter values to test:\n",
    "prob_thresholds = [0.25, 0.5, 0.75]\n",
    "c = [0.001, 0.01, 0.1, 1]\n",
    "trees = [50, 100, 500]\n",
    "d = [50, 100, 150]\n",
    "#\n",
    "# Stratified CV (to make sure there is the same class distribution in all folds):\n",
    "cv = StratifiedKFold(n_splits = 5)\n",
    "#\n",
    "# Instantiate classification classes\n",
    "logistic = myLogisticRegression()\n",
    "svc = LinearSVC(dual = False, penalty = 'l1')\n",
    "randomforest = RandomForestClassifier()\n",
    "\n",
    "params = [\n",
    "    # for logistic regression classifier\n",
    "    {\n",
    "        'classify': [logistic],\n",
    "        'classify__C': c,\n",
    "        'classify__prob_threshold': prob_thresholds\n",
    "    },\n",
    "    # for linear SVC classifier\n",
    "    {\n",
    "        'classify': [svc],\n",
    "        'classify__C': c\n",
    "    },\n",
    "    # for the random forest classifier\n",
    "    {\n",
    "        'classify': [randomforest],\n",
    "        'classify__n_estimators': trees,\n",
    "        'classify__max_depth': d\n",
    "    }\n",
    "]\n",
    "\n",
    "grid = GridSearchCV(pipe, params, cv = cv, scoring = ['accuracy', 'f1'], refit = 'accuracy')\n",
    "grid.fit(X_train_resample, y_bi_train_resample)"
   ]
  },
  {
   "cell_type": "code",
   "execution_count": 26,
   "metadata": {},
   "outputs": [
    {
     "data": {
      "text/plain": [
       "{'classify': RandomForestClassifier(bootstrap=True, ccp_alpha=0.0, class_weight=None,\n",
       "                        criterion='gini', max_depth=100, max_features='auto',\n",
       "                        max_leaf_nodes=None, max_samples=None,\n",
       "                        min_impurity_decrease=0.0, min_impurity_split=None,\n",
       "                        min_samples_leaf=1, min_samples_split=2,\n",
       "                        min_weight_fraction_leaf=0.0, n_estimators=500,\n",
       "                        n_jobs=None, oob_score=False, random_state=None,\n",
       "                        verbose=0, warm_start=False),\n",
       " 'classify__max_depth': 100,\n",
       " 'classify__n_estimators': 500}"
      ]
     },
     "execution_count": 26,
     "metadata": {},
     "output_type": "execute_result"
    }
   ],
   "source": [
    "# best estimator + hyperparameters\n",
    "grid.best_params_"
   ]
  },
  {
   "cell_type": "code",
   "execution_count": 27,
   "metadata": {},
   "outputs": [
    {
     "data": {
      "text/html": [
       "<div>\n",
       "<style scoped>\n",
       "    .dataframe tbody tr th:only-of-type {\n",
       "        vertical-align: middle;\n",
       "    }\n",
       "\n",
       "    .dataframe tbody tr th {\n",
       "        vertical-align: top;\n",
       "    }\n",
       "\n",
       "    .dataframe thead th {\n",
       "        text-align: right;\n",
       "    }\n",
       "</style>\n",
       "<table border=\"1\" class=\"dataframe\">\n",
       "  <thead>\n",
       "    <tr style=\"text-align: right;\">\n",
       "      <th></th>\n",
       "      <th>feature</th>\n",
       "      <th>importance</th>\n",
       "    </tr>\n",
       "  </thead>\n",
       "  <tbody>\n",
       "    <tr>\n",
       "      <td>115</td>\n",
       "      <td>read</td>\n",
       "      <td>0.028806</td>\n",
       "    </tr>\n",
       "    <tr>\n",
       "      <td>135</td>\n",
       "      <td>NN</td>\n",
       "      <td>0.025415</td>\n",
       "    </tr>\n",
       "    <tr>\n",
       "      <td>31</td>\n",
       "      <td>Topic 28</td>\n",
       "      <td>0.017353</td>\n",
       "    </tr>\n",
       "    <tr>\n",
       "      <td>125</td>\n",
       "      <td>CD</td>\n",
       "      <td>0.015831</td>\n",
       "    </tr>\n",
       "    <tr>\n",
       "      <td>155</td>\n",
       "      <td>net_sentiment</td>\n",
       "      <td>0.014667</td>\n",
       "    </tr>\n",
       "    <tr>\n",
       "      <td>...</td>\n",
       "      <td>...</td>\n",
       "      <td>...</td>\n",
       "    </tr>\n",
       "    <tr>\n",
       "      <td>119</td>\n",
       "      <td>speaker necessarily</td>\n",
       "      <td>0.000574</td>\n",
       "    </tr>\n",
       "    <tr>\n",
       "      <td>128</td>\n",
       "      <td>FW</td>\n",
       "      <td>0.000169</td>\n",
       "    </tr>\n",
       "    <tr>\n",
       "      <td>143</td>\n",
       "      <td>SYM</td>\n",
       "      <td>0.000116</td>\n",
       "    </tr>\n",
       "    <tr>\n",
       "      <td>133</td>\n",
       "      <td>LS</td>\n",
       "      <td>0.000092</td>\n",
       "    </tr>\n",
       "    <tr>\n",
       "      <td>142</td>\n",
       "      <td>RBS</td>\n",
       "      <td>0.000041</td>\n",
       "    </tr>\n",
       "  </tbody>\n",
       "</table>\n",
       "<p>156 rows × 2 columns</p>\n",
       "</div>"
      ],
      "text/plain": [
       "                 feature  importance\n",
       "115                 read    0.028806\n",
       "135                   NN    0.025415\n",
       "31              Topic 28    0.017353\n",
       "125                   CD    0.015831\n",
       "155        net_sentiment    0.014667\n",
       "..                   ...         ...\n",
       "119  speaker necessarily    0.000574\n",
       "128                   FW    0.000169\n",
       "143                  SYM    0.000116\n",
       "133                   LS    0.000092\n",
       "142                  RBS    0.000041\n",
       "\n",
       "[156 rows x 2 columns]"
      ]
     },
     "execution_count": 27,
     "metadata": {},
     "output_type": "execute_result"
    }
   ],
   "source": [
    "# print out variables + coefficients\n",
    "\n",
    "# feature vectors:\n",
    "# - first 100 vectors: 100 topics\n",
    "# - next 20: 20 K best vectors from BoW matrix\n",
    "# - all remaining columns: PoS tags BoW matrix\n",
    "topic_names = ['Topic ' + str(i+1) for i in range(topics)]\n",
    "bestKterms = [tfidf_vectorizer.get_feature_names()[el] for el in kbest_indices]\n",
    "# list of all features mapped to correct indices\n",
    "all_feature_names = punctuation_features + topic_names + bestKterms + countvec.get_feature_names() + ['net_sentiment']\n",
    "\n",
    "# only relevant if best estimator is random forest\n",
    "if 'RandomForest' in str(grid.best_estimator_):\n",
    "    importances = grid.best_estimator_.named_steps['classify'].feature_importances_\n",
    "    importances = importances.tolist()\n",
    "    variable_df = pd.DataFrame({'feature': all_feature_names, 'importance': importances})\n",
    "    variable_df = variable_df.sort_values(by = 'importance', ascending = False)\n",
    "    \n",
    "else:\n",
    "    coefficients = grid.best_estimator_.named_steps['classify'].coef_\n",
    "    coefficients = coefficients.tolist()\n",
    "    variable_df = pd.DataFrame({'feature': all_feature_names, 'coefficient': coefficients})\n",
    "    variable_df = variable_df.sort_values(by = 'coefficient', ascending = False)\n",
    "\n",
    "variable_df.to_csv('classification_features_results.csv')\n",
    "variable_df"
   ]
  },
  {
   "cell_type": "code",
   "execution_count": 28,
   "metadata": {},
   "outputs": [
    {
     "name": "stdout",
     "output_type": "stream",
     "text": [
      "              precision    recall  f1-score   support\n",
      "\n",
      "           0       1.00      1.00      1.00     21189\n",
      "           1       1.00      1.00      1.00     21189\n",
      "\n",
      "    accuracy                           1.00     42378\n",
      "   macro avg       1.00      1.00      1.00     42378\n",
      "weighted avg       1.00      1.00      1.00     42378\n",
      "\n"
     ]
    }
   ],
   "source": [
    "# see results from training set\n",
    "y_pred = grid.predict(X_train_resample)\n",
    "print(classification_report(y_bi_train_resample, y_pred))"
   ]
  },
  {
   "cell_type": "code",
   "execution_count": 29,
   "metadata": {},
   "outputs": [
    {
     "name": "stdout",
     "output_type": "stream",
     "text": [
      "              precision    recall  f1-score   support\n",
      "\n",
      "           0       0.92      0.79      0.85     11261\n",
      "           1       0.55      0.79      0.65      3739\n",
      "\n",
      "    accuracy                           0.79     15000\n",
      "   macro avg       0.73      0.79      0.75     15000\n",
      "weighted avg       0.83      0.79      0.80     15000\n",
      "\n"
     ]
    }
   ],
   "source": [
    "# results from testing set\n",
    "y_pred = grid.predict(X_test)\n",
    "print(classification_report(y_bi_test, y_pred))"
   ]
  },
  {
   "cell_type": "markdown",
   "metadata": {},
   "source": [
    "### Save Trained Model"
   ]
  },
  {
   "cell_type": "code",
   "execution_count": 30,
   "metadata": {},
   "outputs": [
    {
     "name": "stderr",
     "output_type": "stream",
     "text": [
      "/Users/caitlinmoroney/opt/anaconda3/lib/python3.7/site-packages/sklearn/externals/joblib/__init__.py:15: FutureWarning: sklearn.externals.joblib is deprecated in 0.21 and will be removed in 0.23. Please import this functionality directly from joblib, which can be installed with: pip install joblib. If this warning is raised when loading pickled models, you may need to re-serialize those models with scikit-learn 0.21+.\n",
      "  warnings.warn(msg, category=FutureWarning)\n"
     ]
    },
    {
     "data": {
      "text/plain": [
       "['binaryEstimator_fakeNews.joblib']"
      ]
     },
     "execution_count": 30,
     "metadata": {},
     "output_type": "execute_result"
    }
   ],
   "source": [
    "# learned how to save a trained model here:\n",
    "# https://www.geeksforgeeks.org/saving-a-machine-learning-model/\n",
    "\n",
    "from sklearn.externals import joblib\n",
    "# save grid\n",
    "joblib.dump(grid, 'binaryGrid_fakeNews.joblib')\n",
    "\n",
    "# save best estimator\n",
    "joblib.dump(grid.best_estimator_, 'binaryEstimator_fakeNews.joblib')"
   ]
  },
  {
   "cell_type": "markdown",
   "metadata": {},
   "source": [
    "## GridSearchCV for Outlier Detection Models"
   ]
  },
  {
   "cell_type": "code",
   "execution_count": 31,
   "metadata": {},
   "outputs": [
    {
     "data": {
      "text/plain": [
       "GridSearchCV(cv=5, error_score=nan,\n",
       "             estimator=Pipeline(memory=None,\n",
       "                                steps=[('scale',\n",
       "                                        StandardScaler(copy=True,\n",
       "                                                       with_mean=False,\n",
       "                                                       with_std=True)),\n",
       "                                       ('classify', 'passthrough')],\n",
       "                                verbose=False),\n",
       "             iid='deprecated', n_jobs=None,\n",
       "             param_grid=[{'classify': [OneClassSVM(cache_size=200, coef0=0.0,\n",
       "                                                   degree=3, gamma='scale',\n",
       "                                                   kernel='rbf', max_iter=-1,\n",
       "                                                   nu=0.5, shrinking=True,\n",
       "                                                   tol=0.00...\n",
       "                          'classify__kernel': ['rbf', 'linear', 'poly',\n",
       "                                               'sigmoid']},\n",
       "                         {'classify': [IsolationForest(behaviour='deprecated',\n",
       "                                                       bootstrap=False,\n",
       "                                                       contamination='auto',\n",
       "                                                       max_features=1.0,\n",
       "                                                       max_samples='auto',\n",
       "                                                       n_estimators=100,\n",
       "                                                       n_jobs=None,\n",
       "                                                       random_state=None,\n",
       "                                                       verbose=0,\n",
       "                                                       warm_start=False)],\n",
       "                          'classify__n_estimators': [10, 50, 100]}],\n",
       "             pre_dispatch='2*n_jobs', refit='f1', return_train_score=False,\n",
       "             scoring=['accuracy', 'f1'], verbose=0)"
      ]
     },
     "execution_count": 31,
     "metadata": {},
     "output_type": "execute_result"
    }
   ],
   "source": [
    "# Set up hyperparameters\n",
    "trees = [10, 50, 100]\n",
    "kernels = ['rbf', 'linear', 'poly', 'sigmoid']\n",
    "\n",
    "params = [\n",
    "    {\n",
    "        'classify': [OneClassSVM(gamma = 'scale')],\n",
    "        'classify__kernel': kernels\n",
    "    },\n",
    "    {\n",
    "        'classify': [IsolationForest()],\n",
    "        'classify__n_estimators': trees\n",
    "    }\n",
    "]\n",
    "\n",
    "# want to evaluate accuracy, precision, recall, and f1, but keep getting warnings for precision and f1\n",
    "# scores \"due to no predicted samples\"\n",
    "grid = GridSearchCV(pipe, params, cv = 5, scoring = ['accuracy', 'f1'], refit = 'f1')\n",
    "grid.fit(X_train, y_out_train)"
   ]
  },
  {
   "cell_type": "code",
   "execution_count": 32,
   "metadata": {},
   "outputs": [
    {
     "data": {
      "text/plain": [
       "{'classify': IsolationForest(behaviour='deprecated', bootstrap=False, contamination='auto',\n",
       "                 max_features=1.0, max_samples='auto', n_estimators=100,\n",
       "                 n_jobs=None, random_state=None, verbose=0, warm_start=False),\n",
       " 'classify__n_estimators': 100}"
      ]
     },
     "execution_count": 32,
     "metadata": {},
     "output_type": "execute_result"
    }
   ],
   "source": [
    "# best estimator\n",
    "grid.best_params_"
   ]
  },
  {
   "cell_type": "code",
   "execution_count": 33,
   "metadata": {},
   "outputs": [],
   "source": [
    "# if best outlier detection model is OneClassSVM and kernel is linear, print variables + coefficients\n",
    "if ('OneClassSVM' in str(grid.best_estimator_)) & ('kernel: linear' in str(grid.best_estimator_)):\n",
    "    coefficients = grid.best_estimator_.named_steps['classify'].coef_\n",
    "    coefficients = coefficients.tolist()\n",
    "    variable_df = pd.DataFrame({'feature': all_feature_names, 'coefficient': coefficients})\n",
    "    variable_df = variable_df.sort_values(by = 'coefficient', ascending = False)\n",
    "    variable_df.to_csv('outlierDetect_features_results.csv')\n",
    "    variable_df"
   ]
  },
  {
   "cell_type": "code",
   "execution_count": 34,
   "metadata": {},
   "outputs": [],
   "source": [
    "# 5-fold cross-validation results\n",
    "#pd.DataFrame(grid.cv_results_)"
   ]
  },
  {
   "cell_type": "code",
   "execution_count": 36,
   "metadata": {},
   "outputs": [
    {
     "name": "stdout",
     "output_type": "stream",
     "text": [
      "              precision    recall  f1-score   support\n",
      "\n",
      "          -1       0.26      0.00      0.01      3739\n",
      "           1       0.75      1.00      0.86     11261\n",
      "\n",
      "    accuracy                           0.75     15000\n",
      "   macro avg       0.50      0.50      0.43     15000\n",
      "weighted avg       0.63      0.75      0.64     15000\n",
      "\n"
     ]
    }
   ],
   "source": [
    "# see results from testing set\n",
    "y_pred = grid.predict(X_test)\n",
    "print(classification_report(y_out_test, y_pred))"
   ]
  },
  {
   "cell_type": "markdown",
   "metadata": {},
   "source": [
    "### Save Trained Model"
   ]
  },
  {
   "cell_type": "code",
   "execution_count": 37,
   "metadata": {},
   "outputs": [
    {
     "data": {
      "text/plain": [
       "['outlierEstimator_fakeNews.joblib']"
      ]
     },
     "execution_count": 37,
     "metadata": {},
     "output_type": "execute_result"
    }
   ],
   "source": [
    "# save grid\n",
    "joblib.dump(grid, 'outlierGrid_fakeNews.joblib')\n",
    "\n",
    "# save best estimator\n",
    "joblib.dump(grid.best_estimator_, 'outlierEstimator_fakeNews.joblib')"
   ]
  },
  {
   "cell_type": "markdown",
   "metadata": {},
   "source": [
    "# Data Visualization"
   ]
  },
  {
   "cell_type": "markdown",
   "metadata": {},
   "source": [
    "The below plots do now show a nice separation of fake news/reliable articles (unsurprisingly), so we will likely not include any of these in our presentation or report."
   ]
  },
  {
   "cell_type": "markdown",
   "metadata": {},
   "source": [
    "## Dimensionality Reduction"
   ]
  },
  {
   "cell_type": "markdown",
   "metadata": {},
   "source": [
    "### PCA\n",
    "Number of components = 2. Plot high-dimensional X data matrix in 2 dimensions using principal components. Color by label."
   ]
  },
  {
   "cell_type": "code",
   "execution_count": 38,
   "metadata": {},
   "outputs": [
    {
     "data": {
      "image/png": "[encoded data removed]",
      "text/plain": [
       "<Figure size 432x288 with 1 Axes>"
      ]
     },
     "metadata": {
      "needs_background": "light"
     },
     "output_type": "display_data"
    }
   ],
   "source": [
    "labels = y_out_test\n",
    "df = pd.DataFrame(labels, columns = ['label'])\n",
    "\n",
    "# perform dimensionality reduction via PCA\n",
    "pca = PCA(n_components = 2)\n",
    "pca_result = pca.fit_transform(X_test) # add .toarray() if X_test is sparse matrix\n",
    "\n",
    "#source = articles_train['news_source']\n",
    "#df['news_source'] = source\n",
    "df['pca_one'] = pca_result[:,0]\n",
    "df['pca_two'] = pca_result[:,1]\n",
    "\n",
    "# plot figure\n",
    "plt.scatter(pca_result[:,0], pca_result[:,1], alpha = 0.3, c = labels)\n",
    "plt.xlabel('First Principal Component')\n",
    "plt.ylabel('Second Principal Component')\n",
    "plt.title('Fake News Detection')\n",
    "plt.show()"
   ]
  },
  {
   "cell_type": "markdown",
   "metadata": {},
   "source": [
    "### t-SNE"
   ]
  },
  {
   "cell_type": "code",
   "execution_count": 39,
   "metadata": {},
   "outputs": [
    {
     "data": {
      "image/png": "[encoded data removed]",
      "text/plain": [
       "<Figure size 432x288 with 1 Axes>"
      ]
     },
     "metadata": {
      "needs_background": "light"
     },
     "output_type": "display_data"
    }
   ],
   "source": [
    "# select first 10K entries in X test matrix\n",
    "X_test_sample = X_test[:10000,:] # add .toarray() if X_test is sparse matrix\n",
    "\n",
    "# conduct t-SNE dimensionality reduction\n",
    "tsne = TSNE(n_components = 2, metric = 'cosine')\n",
    "tsne_results = tsne.fit_transform(X_test_sample)\n",
    "tsne_df = pd.DataFrame()\n",
    "tsne_df['tsne_one'] = tsne_results[:,0]\n",
    "tsne_df['tsne_two'] = tsne_results[:,1]\n",
    "\n",
    "# plot figure\n",
    "plt.scatter(tsne_df['tsne_one'], tsne_df['tsne_two'], alpha = 0.3, c = labels[:10000])\n",
    "plt.xlabel('t-SNE One')\n",
    "plt.ylabel('t-SNE Two')\n",
    "plt.title('Fake News Detection')\n",
    "plt.show()"
   ]
  },
  {
   "cell_type": "markdown",
   "metadata": {},
   "source": [
    "### UMAP"
   ]
  },
  {
   "cell_type": "code",
   "execution_count": 40,
   "metadata": {},
   "outputs": [],
   "source": [
    "# to avoid unnecessary warning messages...\n",
    "# taken from this thread: https://github.com/lmcinnes/umap/issues/252\n",
    "import warnings\n",
    "warnings.filterwarnings('ignore')\n",
    "\n",
    "fit = umap.UMAP()\n",
    "u = fit.fit_transform(X_test) # add .toarray() if X_test is sparse matrix"
   ]
  },
  {
   "cell_type": "code",
   "execution_count": 41,
   "metadata": {},
   "outputs": [
    {
     "data": {
      "image/png": "[encoded data removed]",
      "text/plain": [
       "<Figure size 432x288 with 1 Axes>"
      ]
     },
     "metadata": {
      "needs_background": "light"
     },
     "output_type": "display_data"
    }
   ],
   "source": [
    "# plot figure\n",
    "plt.scatter(u[:,0], u[:,1], alpha = 0.3, c = labels)\n",
    "plt.xlabel('UMAP One')\n",
    "plt.ylabel('UMAP Two')\n",
    "plt.title('Fake News Detection')\n",
    "plt.show()"
   ]
  },
  {
   "cell_type": "code",
   "execution_count": null,
   "metadata": {},
   "outputs": [],
   "source": []
  }
 ],
 "metadata": {
  "kernelspec": {
   "display_name": "Python 3",
   "language": "python",
   "name": "python3"
  },
  "language_info": {
   "codemirror_mode": {
    "name": "ipython",
    "version": 3
   },
   "file_extension": ".py",
   "mimetype": "text/x-python",
   "name": "python",
   "nbconvert_exporter": "python",
   "pygments_lexer": "ipython3",
   "version": "3.7.4"
  }
 },
 "nbformat": 4,
 "nbformat_minor": 2
}
